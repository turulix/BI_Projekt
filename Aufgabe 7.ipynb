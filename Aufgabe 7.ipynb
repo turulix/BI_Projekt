{
 "cells": [
  {
   "cell_type": "markdown",
   "source": [
    "# Aufgabe 7\n",
    "Diese aufgabe wurde hauptsächlich in dem Ordner \"training\" gelöst, jeglicher Code, der für das Training des ML-Models benutzt, wurde befindet sich in diesem Ordner.\n",
    "Da wir Weights & Biases benutzt haben, um Metriken der Modele zu tracken und Hyperparameter zu optimieren.\n",
    "In dieser Datei befinden sich lediglich die Statistiken des Finalen Models"
   ],
   "metadata": {
    "collapsed": false
   },
   "id": "7bc15e3372bcfc8d"
  },
  {
   "cell_type": "code",
   "outputs": [
    {
     "name": "stdout",
     "output_type": "stream",
     "text": [
      "Number of rows after dropping NaNs: 148543\n",
      "Number of rows before dropping NaNs: 150528\n",
      "Number of rows dropped: 1985\n",
      "Number of rows after dropping NaNs: 37147\n",
      "Number of rows before dropping NaNs: 37633\n",
      "Number of rows dropped: 486\n"
     ]
    }
   ],
   "source": [
    "from sklearn.ensemble import GradientBoostingClassifier\n",
    "import pickle\n",
    "\n",
    "from training.misc import get_train_data\n",
    "from sklearn.model_selection import train_test_split\n",
    "import pandas as pd\n",
    "import plotly.express as px\n",
    "\n",
    "train_data = pd.read_csv(\"./data/atp_matches_till_2022_with_career.csv\")\n",
    "train_data, test_data = train_test_split(train_data, test_size=0.2, random_state=42)\n",
    "\n",
    "x_train, y_train, x_test, y_test = get_train_data(train_data, test_data)\n",
    "\n",
    "# Load the already trained model to reduce training time.\n",
    "gradient_model: GradientBoostingClassifier = pickle.load(open(\"./data/model_ensemble.pkl\", \"rb\"))"
   ],
   "metadata": {
    "collapsed": false,
    "ExecuteTime": {
     "end_time": "2024-01-09T22:38:33.162398700Z",
     "start_time": "2024-01-09T22:38:30.757562200Z"
    }
   },
   "id": "98834790cb3b3bd9",
   "execution_count": 65
  },
  {
   "cell_type": "code",
   "outputs": [
    {
     "data": {
      "text/plain": "<Figure size 640x480 with 2 Axes>",
      "image/png": "[encoded data removed]"
     },
     "metadata": {},
     "output_type": "display_data"
    }
   ],
   "source": [
    "from matplotlib import pyplot as plt\n",
    "from sklearn.metrics import confusion_matrix, ConfusionMatrixDisplay, accuracy_score\n",
    "\n",
    "# Predict labels for the Test Dataset\n",
    "test_predictions = gradient_model.predict(x_test)\n",
    "\n",
    "cm = confusion_matrix(y_test, test_predictions)\n",
    "disp = ConfusionMatrixDisplay(confusion_matrix=cm, display_labels=[\"Player 1\", \"Player 2\"])\n",
    "disp.plot()\n",
    "plt.show()"
   ],
   "metadata": {
    "collapsed": false,
    "ExecuteTime": {
     "end_time": "2024-01-09T22:38:38.778932600Z",
     "start_time": "2024-01-09T22:38:33.158399600Z"
    }
   },
   "id": "fa09028f2152761e",
   "execution_count": 66
  },
  {
   "cell_type": "code",
   "outputs": [
    {
     "name": "stdout",
     "output_type": "stream",
     "text": [
      "0.6893961827334644\n"
     ]
    }
   ],
   "source": [
    "print(accuracy_score(y_test, test_predictions))"
   ],
   "metadata": {
    "collapsed": false,
    "ExecuteTime": {
     "end_time": "2024-01-09T22:38:38.793966200Z",
     "start_time": "2024-01-09T22:38:38.780935300Z"
    }
   },
   "id": "fe11245c7682600",
   "execution_count": 67
  },
  {
   "cell_type": "markdown",
   "source": [
    "Man sieht an dem Accuracy score, das wir zu ~69 % das Ergebnis des Spiels Erfolgreich vorhersagen können.\n",
    "Doch welche features sind die wichtigsten für die Vorhersage?"
   ],
   "metadata": {
    "collapsed": false
   },
   "id": "7d9476cfbe131f55"
  },
  {
   "cell_type": "code",
   "outputs": [
    {
     "data": {
      "text/plain": "            0                      feature_name\n61   0.000000  One Hot Encode__player_1_ioc_CUW\n247  0.000000  One Hot Encode__player_2_ioc_MHL\n237  0.000000  One Hot Encode__player_2_ioc_LBA\n225  0.000000  One Hot Encode__player_2_ioc_IRQ\n48   0.000000  One Hot Encode__player_1_ioc_BUR\n..        ...                               ...\n322  0.058249         Scale__player_2_loss_rate\n316  0.065831              Scale__player_2_seed\n315  0.066141              Scale__player_1_seed\n320  0.078612          Scale__player_2_win_rate\n319  0.093077          Scale__player_1_win_rate\n\n[332 rows x 2 columns]",
      "text/html": "<div>\n<style scoped>\n    .dataframe tbody tr th:only-of-type {\n        vertical-align: middle;\n    }\n\n    .dataframe tbody tr th {\n        vertical-align: top;\n    }\n\n    .dataframe thead th {\n        text-align: right;\n    }\n</style>\n<table border=\"1\" class=\"dataframe\">\n  <thead>\n    <tr style=\"text-align: right;\">\n      <th></th>\n      <th>0</th>\n      <th>feature_name</th>\n    </tr>\n  </thead>\n  <tbody>\n    <tr>\n      <th>61</th>\n      <td>0.000000</td>\n      <td>One Hot Encode__player_1_ioc_CUW</td>\n    </tr>\n    <tr>\n      <th>247</th>\n      <td>0.000000</td>\n      <td>One Hot Encode__player_2_ioc_MHL</td>\n    </tr>\n    <tr>\n      <th>237</th>\n      <td>0.000000</td>\n      <td>One Hot Encode__player_2_ioc_LBA</td>\n    </tr>\n    <tr>\n      <th>225</th>\n      <td>0.000000</td>\n      <td>One Hot Encode__player_2_ioc_IRQ</td>\n    </tr>\n    <tr>\n      <th>48</th>\n      <td>0.000000</td>\n      <td>One Hot Encode__player_1_ioc_BUR</td>\n    </tr>\n    <tr>\n      <th>...</th>\n      <td>...</td>\n      <td>...</td>\n    </tr>\n    <tr>\n      <th>322</th>\n      <td>0.058249</td>\n      <td>Scale__player_2_loss_rate</td>\n    </tr>\n    <tr>\n      <th>316</th>\n      <td>0.065831</td>\n      <td>Scale__player_2_seed</td>\n    </tr>\n    <tr>\n      <th>315</th>\n      <td>0.066141</td>\n      <td>Scale__player_1_seed</td>\n    </tr>\n    <tr>\n      <th>320</th>\n      <td>0.078612</td>\n      <td>Scale__player_2_win_rate</td>\n    </tr>\n    <tr>\n      <th>319</th>\n      <td>0.093077</td>\n      <td>Scale__player_1_win_rate</td>\n    </tr>\n  </tbody>\n</table>\n<p>332 rows × 2 columns</p>\n</div>"
     },
     "execution_count": 68,
     "metadata": {},
     "output_type": "execute_result"
    }
   ],
   "source": [
    "feature_importance = pd.DataFrame(gradient_model.feature_importances_)\n",
    "feature_importance[\"feature_name\"] = gradient_model.feature_names_in_\n",
    "feature_importance.sort_values(by=0, inplace=True, ascending=True)\n",
    "feature_importance"
   ],
   "metadata": {
    "collapsed": false,
    "ExecuteTime": {
     "end_time": "2024-01-09T22:38:38.856167600Z",
     "start_time": "2024-01-09T22:38:38.795965200Z"
    }
   },
   "id": "c2bbd0a5d204c19a",
   "execution_count": 68
  },
  {
   "cell_type": "code",
   "outputs": [
    {
     "data": {
      "application/vnd.plotly.v1+json": {
       "data": [
        {
         "alignmentgroup": "True",
         "hovertemplate": "0=%{x}<br>feature_name=%{y}<extra></extra>",
         "legendgroup": "",
         "marker": {
          "color": "#636efa",
          "pattern": {
           "shape": ""
          }
         },
         "name": "",
         "offsetgroup": "",
         "orientation": "h",
         "showlegend": false,
         "textposition": "auto",
         "x": [
          0.0,
          0.0,
          0.0,
          0.0,
          0.0,
          0.0,
          0.0,
          0.0,
          0.0,
          0.0,
          0.0,
          0.0,
          0.0,
          0.0,
          0.0,
          0.0,
          0.0,
          0.0,
          0.0,
          0.0,
          0.0,
          0.0,
          0.0,
          0.0,
          0.0,
          0.0,
          0.0,
          0.0,
          2.9470967615238214E-7,
          7.508109110879146E-7,
          7.518293773509555E-7,
          8.140681560420772E-7,
          9.168019231539762E-7,
          9.648856687986076E-7,
          1.0153897456885112E-6,
          1.0530527547101601E-6,
          1.2614681535293982E-6,
          1.8942510667826518E-6,
          1.9818403779771313E-6,
          2.021677765596869E-6,
          2.1196971355186405E-6,
          2.168904029660511E-6,
          2.98919722340061E-6,
          2.991015259858438E-6,
          2.993470523731676E-6,
          2.9975100368844664E-6,
          3.033928367491472E-6,
          3.3116047130064042E-6,
          3.680272142588361E-6,
          4.640087606997266E-6,
          4.779593999537714E-6,
          5.132904260782454E-6,
          5.252070150207798E-6,
          5.2630087666853615E-6,
          5.532008723464117E-6,
          6.427972007931562E-6,
          6.663620001785907E-6,
          6.7351488379737916E-6,
          6.8066335867192596E-6,
          7.841103709295681E-6,
          8.205399577807608E-6,
          9.405571719731016E-6,
          1.1777059328986257E-5,
          1.2950669009699726E-5,
          1.4372290526837096E-5,
          1.5097536424840131E-5,
          1.6781751054181616E-5,
          1.7361532978627983E-5,
          1.7492632134783166E-5,
          1.749820991891071E-5,
          1.771684521555356E-5,
          1.879801626256049E-5,
          1.996764397004598E-5,
          2.0204822773800796E-5,
          2.038094138900322E-5,
          2.101946398849002E-5,
          2.112335021046586E-5,
          2.1879190014127437E-5,
          2.1918673618268695E-5,
          2.217197117059246E-5,
          2.469545689478037E-5,
          2.497056218267917E-5,
          2.5149632956981715E-5,
          2.5351948871877357E-5,
          2.5735321752084337E-5,
          2.8336032672980167E-5,
          3.1221006852872244E-5,
          3.542533686364546E-5,
          3.583294328376241E-5,
          3.715748788973546E-5,
          3.72609087509289E-5,
          4.04258816510176E-5,
          4.0772534726376766E-5,
          4.597530107651837E-5,
          4.9023592684011815E-5,
          5.0054558355743225E-5,
          5.19743229852139E-5,
          5.3701996803539185E-5,
          5.463115023835562E-5,
          5.5956756313042255E-5,
          5.621290149155203E-5,
          5.659747839766962E-5,
          5.663403895441576E-5,
          5.815701542864871E-5,
          5.848849180008192E-5,
          5.91843855620582E-5,
          6.0389550394649643E-5,
          6.089479096742142E-5,
          6.121578093533219E-5,
          6.188579612262962E-5,
          6.217510511114524E-5,
          6.25076622915132E-5,
          6.528022394423074E-5,
          6.709420218291596E-5,
          6.789779669616484E-5,
          6.817606583698087E-5,
          6.862740863240488E-5,
          6.897825596092974E-5,
          7.026712671815373E-5,
          7.092158110233736E-5,
          7.223930694784058E-5,
          7.349433811240716E-5,
          7.45939701879469E-5,
          7.762717945635191E-5,
          7.945347132755623E-5,
          8.187784493251684E-5,
          8.230535680987752E-5,
          8.282352261078633E-5,
          8.606259557931238E-5,
          8.688426337475024E-5,
          8.924419256458421E-5,
          8.977709201666347E-5,
          9.178201420929955E-5,
          9.644536153311142E-5,
          1.0121394314674631E-4,
          1.0331998506397207E-4,
          1.0646914757186207E-4,
          1.078445275969394E-4,
          1.0843871175070469E-4,
          1.1429036967918094E-4,
          1.2145192665655288E-4,
          1.228443064284824E-4,
          1.2344743716170755E-4,
          1.235856258915658E-4,
          1.2480217452204604E-4,
          1.253396290907939E-4,
          1.2537067178860763E-4,
          1.2674033272803333E-4,
          1.283784243392656E-4,
          1.306433025352317E-4,
          1.3254822509743276E-4,
          1.3262719908557346E-4,
          1.3440914140365047E-4,
          1.360433462425855E-4,
          1.3747445429634778E-4,
          1.3813375533117686E-4,
          1.404598887736769E-4,
          1.4206951895241984E-4,
          1.4207821088253514E-4,
          1.505794092010448E-4,
          1.5260069078706616E-4,
          1.532854748783327E-4,
          1.5520441667068243E-4,
          1.5618930255179088E-4,
          1.5919716804632233E-4,
          1.6259932553384262E-4,
          1.6260398057555922E-4,
          1.6443831134851033E-4,
          1.6522311629372003E-4,
          1.660687414679066E-4,
          1.7225222970854777E-4,
          1.7516739090634657E-4,
          1.7724460733003686E-4,
          1.7857910413040907E-4,
          1.790380726626E-4,
          1.80960949289743E-4,
          1.8147677873947215E-4,
          1.844234105581508E-4,
          1.858490835884372E-4,
          1.880325400594174E-4,
          1.8928323137475895E-4,
          1.901611170247828E-4,
          1.9533410609359124E-4,
          1.9539732509599444E-4,
          1.9757312278799872E-4,
          1.9905902828974754E-4,
          2.0652392250464726E-4,
          2.081487459651937E-4,
          2.1486737858840362E-4,
          2.2005519231615856E-4,
          2.2340305726004707E-4,
          2.240955625000108E-4,
          2.282357006442021E-4,
          2.2882744672869852E-4,
          2.3028542079337746E-4,
          2.3461785585864308E-4,
          2.383386249969387E-4,
          2.4007022956871739E-4,
          2.5844498667862827E-4,
          2.5901302961785845E-4,
          2.604626614160714E-4,
          2.605746276073968E-4,
          2.6430711539363397E-4,
          2.6520007495122117E-4,
          2.684431559407146E-4,
          2.68913508980237E-4,
          2.6933317269076524E-4,
          2.7023100157697093E-4,
          2.719709468975108E-4,
          2.720684649683443E-4,
          2.7219324995116773E-4,
          2.7506211883494906E-4,
          2.792990590541135E-4,
          2.818664198948082E-4,
          2.8190081849919054E-4,
          2.8886606909927153E-4,
          2.9468601148497676E-4,
          2.996853576458006E-4,
          3.017019798965014E-4,
          3.0316711761988466E-4,
          3.0575206283334785E-4,
          3.0793497734756914E-4,
          3.0806148700182503E-4,
          3.113295792342273E-4,
          3.1192589898953446E-4,
          3.2456592270413973E-4,
          3.4236863924753594E-4,
          3.429524055215133E-4,
          3.4968581183867183E-4,
          3.6192219340761553E-4,
          3.6414900837570115E-4,
          3.6674865028268964E-4,
          3.7019582227810853E-4,
          3.709741192268265E-4,
          3.746966851893991E-4,
          3.8894992575143247E-4,
          3.9878359751932806E-4,
          3.9899525414316867E-4,
          4.029057581821163E-4,
          4.112300759870912E-4,
          4.213891823509547E-4,
          4.465227684419292E-4,
          4.465888724318419E-4,
          4.5650144436872915E-4,
          4.600522126237434E-4,
          4.600819455707321E-4,
          4.6162388090958603E-4,
          4.664941940609057E-4,
          4.676362569728461E-4,
          4.692520935307205E-4,
          4.743316001750275E-4,
          4.766818143442109E-4,
          4.82420863841003E-4,
          5.024118242339841E-4,
          5.076201169880983E-4,
          5.124518445993108E-4,
          5.272687090592645E-4,
          5.39792839244839E-4,
          5.558849575627794E-4,
          5.744745092732655E-4,
          5.955416278762431E-4,
          6.023497799002372E-4,
          6.69016169712678E-4,
          7.043331757488925E-4,
          7.058485274440085E-4,
          7.134847642975345E-4,
          7.402885782810086E-4,
          7.482641904673493E-4,
          7.622214701891367E-4,
          7.679150141909419E-4,
          7.929014198910169E-4,
          7.968461654986379E-4,
          7.968733075011192E-4,
          8.212456910346987E-4,
          8.313263408939327E-4,
          8.454290534757289E-4,
          8.671936975628127E-4,
          8.832499776187063E-4,
          9.195976845651312E-4,
          9.256958483839366E-4,
          9.752371454074298E-4,
          9.863412962242766E-4,
          0.0010108762229209109,
          0.0010113233902712222,
          0.0010188941752847362,
          0.0010955619748724951,
          0.001097453822222294,
          0.0011832554196491603,
          0.0012521164202495955,
          0.0012759367033321894,
          0.0013091157633552733,
          0.001365298611276068,
          0.001417742505433072,
          0.001560441063594741,
          0.0015893951673576982,
          0.0015914464744985115,
          0.001754499428294525,
          0.0019094907735518582,
          0.0020236187698016365,
          0.0021368029582704354,
          0.0021854435427818408,
          0.002511789146369585,
          0.0026318210146144497,
          0.003511458292288263,
          0.004843369548637757,
          0.004977251493795895,
          0.00573889976755459,
          0.005858175648193553,
          0.010706400950088575,
          0.01174087134345231,
          0.01178665654780146,
          0.016883202640931832,
          0.017159437268134126,
          0.0195373569951905,
          0.020273192603102164,
          0.023461454190525564,
          0.02445977213509491,
          0.025834150865969796,
          0.029086429710751337,
          0.029455434454997802,
          0.030465529767208323,
          0.033580245015457186,
          0.042655860798731675,
          0.043552281251394646,
          0.04453179644873072,
          0.04479556451136951,
          0.04572402418129645,
          0.05824927363984138,
          0.06583085454695335,
          0.06614055335128936,
          0.07861216810120965,
          0.09307744046280893
         ],
         "xaxis": "x",
         "y": [
          "One Hot Encode__player_1_ioc_CUW",
          "One Hot Encode__player_2_ioc_MHL",
          "One Hot Encode__player_2_ioc_LBA",
          "One Hot Encode__player_2_ioc_IRQ",
          "One Hot Encode__player_1_ioc_BUR",
          "One Hot Encode__player_1_ioc_CAR",
          "One Hot Encode__player_2_ioc_SUR",
          "One Hot Encode__player_2_ioc_CUW",
          "One Hot Encode__player_2_ioc_CMR",
          "One Hot Encode__player_1_ioc_FIJ",
          "One Hot Encode__player_2_ioc_BER",
          "One Hot Encode__player_2_ioc_BEN",
          "One Hot Encode__player_2_ioc_AZE",
          "One Hot Encode__player_1_ioc_VAN",
          "One Hot Encode__player_1_ioc_UAE",
          "One Hot Encode__player_1_ioc_MNE",
          "One Hot Encode__player_1_ioc_SAM",
          "One Hot Encode__player_1_ioc_QAT",
          "One Hot Encode__player_1_ioc_NIG",
          "One Hot Encode__player_1_ioc_PNG",
          "One Hot Encode__player_2_ioc_UAE",
          "One Hot Encode__player_2_ioc_MNE",
          "One Hot Encode__player_1_ioc_PAN",
          "One Hot Encode__player_2_entry_s",
          "One Hot Encode__player_2_ioc_PNG",
          "One Hot Encode__player_2_ioc_NIG",
          "One Hot Encode__player_2_ioc_SUD",
          "One Hot Encode__player_2_ioc_VIE",
          "One Hot Encode__player_1_ioc_BEN",
          "One Hot Encode__player_2_ioc_COK",
          "One Hot Encode__player_1_ioc_SUD",
          "One Hot Encode__player_1_ioc_AND",
          "One Hot Encode__player_1_ioc_OMA",
          "One Hot Encode__player_2_ioc_MAD",
          "One Hot Encode__player_1_ioc_CMR",
          "One Hot Encode__player_2_ioc_VAN",
          "One Hot Encode__player_1_ioc_VIE",
          "One Hot Encode__player_1_ioc_TRI",
          "One Hot Encode__player_2_ioc_OMA",
          "One Hot Encode__player_2_ioc_CAR",
          "One Hot Encode__player_1_ioc_ECA",
          "One Hot Encode__player_1_ioc_CGO",
          "One Hot Encode__player_1_ioc_IRQ",
          "One Hot Encode__player_2_ioc_ECA",
          "One Hot Encode__player_1_ioc_MKD",
          "One Hot Encode__player_2_ioc_TRI",
          "One Hot Encode__player_1_ioc_AHO",
          "One Hot Encode__player_2_ioc_RHO",
          "One Hot Encode__player_1_ioc_LBN",
          "One Hot Encode__player_1_ioc_COK",
          "One Hot Encode__player_1_ioc_BAN",
          "One Hot Encode__player_2_ioc_SGP",
          "One Hot Encode__player_1_ioc_TJK",
          "One Hot Encode__player_2_ioc_BRN",
          "One Hot Encode__player_2_ioc_CGO",
          "One Hot Encode__player_1_ioc_MLT",
          "One Hot Encode__player_2_ioc_GUA",
          "One Hot Encode__player_2_ioc_JOR",
          "One Hot Encode__player_1_ioc_SOL",
          "One Hot Encode__player_2_ioc_LBN",
          "One Hot Encode__player_2_ioc_MKD",
          "One Hot Encode__player_1_ioc_KSA",
          "One Hot Encode__player_2_ioc_AHO",
          "One Hot Encode__player_1_entry_alt",
          "One Hot Encode__player_2_ioc_TJK",
          "One Hot Encode__player_2_ioc_BAR",
          "One Hot Encode__player_2_ioc_KSA",
          "One Hot Encode__player_1_ioc_MHL",
          "One Hot Encode__player_2_ioc_URS",
          "One Hot Encode__player_1_ioc_SYR",
          "One Hot Encode__player_1_ioc_GUA",
          "One Hot Encode__player_2_ioc_ESA",
          "One Hot Encode__player_2_ioc_ZAM",
          "One Hot Encode__player_1_ioc_JOR",
          "One Hot Encode__player_2_ioc_AND",
          "One Hot Encode__player_1_ioc_TOG",
          "One Hot Encode__player_2_ioc_SEN",
          "One Hot Encode__player_1_ioc_LBA",
          "One Hot Encode__player_1_ioc_KUW",
          "One Hot Encode__player_1_ioc_TCH",
          "One Hot Encode__player_2_entry_se",
          "One Hot Encode__player_2_ioc_KUW",
          "One Hot Encode__player_1_ioc_LIB",
          "One Hot Encode__player_1_ioc_SGP",
          "One Hot Encode__player_1_ioc_BRN",
          "One Hot Encode__player_2_ioc_SOL",
          "One Hot Encode__player_1_ioc_MAD",
          "One Hot Encode__player_1_entry_se",
          "One Hot Encode__player_2_ioc_TOG",
          "One Hot Encode__player_2_ioc_QAT",
          "One Hot Encode__player_2_entry_alt",
          "One Hot Encode__player_2_ioc_GHA",
          "One Hot Encode__player_2_ioc_LIB",
          "One Hot Encode__player_2_ioc_CUB",
          "One Hot Encode__player_1_ioc_IRL",
          "One Hot Encode__player_1_ioc_GHA",
          "One Hot Encode__player_2_ioc_UNK",
          "One Hot Encode__player_1_ioc_CIV",
          "One Hot Encode__player_2_ioc_SAM",
          "One Hot Encode__player_2_ioc_JAM",
          "One Hot Encode__player_1_ioc_EST",
          "One Hot Encode__player_1_ioc_ALG",
          "One Hot Encode__player_2_ioc_PUR",
          "One Hot Encode__player_1_ioc_SRI",
          "One Hot Encode__player_1_ioc_TUN",
          "One Hot Encode__player_1_ioc_HAI",
          "One Hot Encode__player_1_ioc_UZB",
          "One Hot Encode__player_1_ioc_DOM",
          "One Hot Encode__player_1_ioc_PUR",
          "One Hot Encode__player_1_ioc_BAR",
          "One Hot Encode__player_2_ioc_TCH",
          "One Hot Encode__player_2_ioc_HAI",
          "One Hot Encode__player_1_ioc_CUB",
          "One Hot Encode__player_2_ioc_NOR",
          "One Hot Encode__player_1_ioc_UNK",
          "One Hot Encode__player_2_ioc_IRI",
          "One Hot Encode__player_2_ioc_CRC",
          "One Hot Encode__player_1_ioc_MDA",
          "One Hot Encode__player_2_ioc_MDA",
          "One Hot Encode__player_2_ioc_NGR",
          "One Hot Encode__tourney_level_F",
          "One Hot Encode__player_1_ioc_PHI",
          "One Hot Encode__player_2_ioc_KEN",
          "One Hot Encode__player_1_ioc_ZAM",
          "One Hot Encode__player_2_ioc_SRI",
          "One Hot Encode__player_2_ioc_BAN",
          "One Hot Encode__player_1_ioc_MAS",
          "One Hot Encode__player_2_ioc_MAS",
          "One Hot Encode__player_1_ioc_ESA",
          "One Hot Encode__player_2_ioc_MON",
          "One Hot Encode__player_1_ioc_BAH",
          "One Hot Encode__player_2_ioc_DOM",
          "One Hot Encode__player_2_ioc_CIV",
          "One Hot Encode__player_1_ioc_LTU",
          "One Hot Encode__player_2_ioc_EST",
          "One Hot Encode__player_1_ioc_LUX",
          "One Hot Encode__player_2_ioc_SYR",
          "One Hot Encode__player_2_ioc_LTU",
          "One Hot Encode__player_1_ioc_YUG",
          "One Hot Encode__player_2_ioc_INA",
          "One Hot Encode__player_2_ioc_MLT",
          "One Hot Encode__player_1_ioc_MON",
          "One Hot Encode__player_2_ioc_BUL",
          "One Hot Encode__player_2_ioc_TUN",
          "One Hot Encode__player_2_ioc_SLO",
          "One Hot Encode__player_2_entry_pr",
          "One Hot Encode__player_2_ioc_TUR",
          "One Hot Encode__player_1_ioc_NOR",
          "One Hot Encode__player_2_ioc_LUX",
          "One Hot Encode__player_1_ioc_ARM",
          "One Hot Encode__player_1_ioc_HKG",
          "One Hot Encode__player_1_ioc_CRC",
          "One Hot Encode__player_2_ioc_THA",
          "One Hot Encode__player_2_ioc_IRL",
          "One Hot Encode__player_2_ioc_ALG",
          "One Hot Encode__player_1_ioc_BUL",
          "One Hot Encode__player_1_ioc_KEN",
          "One Hot Encode__player_2_ioc_ARM",
          "One Hot Encode__player_1_ioc_IRI",
          "One Hot Encode__player_2_ioc_BOL",
          "One Hot Encode__player_2_ioc_VEN",
          "One Hot Encode__player_2_ioc_HKG",
          "One Hot Encode__player_1_ioc_CYP",
          "One Hot Encode__player_1_ioc_SEN",
          "One Hot Encode__player_1_ioc_KOR",
          "One Hot Encode__player_2_ioc_ISR",
          "One Hot Encode__player_1_ioc_ZIM",
          "One Hot Encode__player_1_ioc_JAM",
          "One Hot Encode__player_1_ioc_KAZ",
          "One Hot Encode__player_1_ioc_EGY",
          "One Hot Encode__player_1_ioc_GRE",
          "One Hot Encode__player_1_ioc_URS",
          "One Hot Encode__player_1_ioc_GEO",
          "One Hot Encode__player_2_ioc_GRE",
          "One Hot Encode__player_2_ioc_BIH",
          "One Hot Encode__player_2_ioc_MAR",
          "One Hot Encode__player_2_ioc_GEO",
          "One Hot Encode__player_1_entry_pr",
          "One Hot Encode__player_1_ioc_PAR",
          "One Hot Encode__player_1_ioc_CHN",
          "One Hot Encode__player_1_ioc_BOL",
          "One Hot Encode__player_2_ioc_BAH",
          "One Hot Encode__player_2_ioc_PHI",
          "One Hot Encode__player_2_ioc_EGY",
          "One Hot Encode__player_2_ioc_YUG",
          "One Hot Encode__player_1_ioc_INA",
          "One Hot Encode__player_2_ioc_CYP",
          "One Hot Encode__player_2_ioc_BLR",
          "One Hot Encode__player_1_ioc_PAK",
          "One Hot Encode__player_1_ioc_TUR",
          "One Hot Encode__player_2_ioc_UZB",
          "One Hot Encode__player_2_ioc_COL",
          "One Hot Encode__player_2_ioc_URU",
          "One Hot Encode__player_2_ioc_CHN",
          "One Hot Encode__player_1_ioc_VEN",
          "One Hot Encode__player_1_ioc_SLO",
          "One Hot Encode__player_1_ioc_FIN",
          "One Hot Encode__player_1_ioc_BIH",
          "One Hot Encode__player_1_ioc_ECU",
          "One Hot Encode__player_1_ioc_BLR",
          "One Hot Encode__player_1_ioc_ISR",
          "One Hot Encode__player_2_ioc_ZIM",
          "One Hot Encode__player_1_ioc_POR",
          "One Hot Encode__player_2_ioc_PAR",
          "One Hot Encode__player_2_ioc_FIN",
          "One Hot Encode__player_1_ioc_SRB",
          "One Hot Encode__player_1_ioc_TPE",
          "One Hot Encode__player_2_ioc_PAK",
          "One Hot Encode__player_1_ioc_NGR",
          "One Hot Encode__player_1_ioc_CAN",
          "One Hot Encode__player_1_ioc_UKR",
          "One Hot Encode__player_1_ioc_JPN",
          "One Hot Encode__player_2_ioc_KAZ",
          "One Hot Encode__player_2_ioc_JPN",
          "One Hot Encode__player_1_ioc_MEX",
          "One Hot Encode__player_2_ioc_MEX",
          "One Hot Encode__player_2_ioc_TPE",
          "One Hot Encode__player_1_entry_ll",
          "One Hot Encode__player_1_ioc_LAT",
          "One Hot Encode__player_1_ioc_HUN",
          "One Hot Encode__player_1_ioc_IND",
          "One Hot Encode__player_2_ioc_LAT",
          "One Hot Encode__player_1_ioc_SVK",
          "One Hot Encode__player_2_ioc_IND",
          "One Hot Encode__player_2_ioc_NZL",
          "One Hot Encode__player_2_ioc_KOR",
          "One Hot Encode__player_2_entry_ll",
          "One Hot Encode__player_1_ioc_THA",
          "One Hot Encode__player_2_ioc_PER",
          "One Hot Encode__player_1_ioc_AUT",
          "One Hot Encode__player_1_ioc_COL",
          "One Hot Encode__player_1_ioc_URU",
          "One Hot Encode__player_2_ioc_SRB",
          "One Hot Encode__player_2_ioc_BRA",
          "One Hot Encode__player_2_ioc_UKR",
          "One Hot Encode__player_1_ioc_DEN",
          "One Hot Encode__player_1_ioc_POL",
          "One Hot Encode__player_1_ioc_PER",
          "One Hot Encode__player_1_ioc_NZL",
          "One Hot Encode__player_2_ioc_BEL",
          "One Hot Encode__player_2_ioc_DEN",
          "One Hot Encode__player_2_ioc_HUN",
          "One Hot Encode__player_2_ioc_CAN",
          "One Hot Encode__player_2_ioc_POL",
          "One Hot Encode__player_2_ioc_RSA",
          "One Hot Encode__player_1_ioc_CHI",
          "One Hot Encode__player_2_ioc_POR",
          "One Hot Encode__player_1_ioc_MAR",
          "One Hot Encode__player_2_ioc_AUT",
          "One Hot Encode__player_2_ioc_ECU",
          "One Hot Encode__player_1_ioc_BRA",
          "One Hot Encode__player_1_ioc_ITA",
          "One Hot Encode__player_1_entry_wc",
          "One Hot Encode__player_1_ioc_SWE",
          "One Hot Encode__player_2_ioc_NED",
          "One Hot Encode__player_2_ioc_SUI",
          "One Hot Encode__player_2_ioc_SVK",
          "One Hot Encode__player_1_ioc_ROU",
          "One Hot Encode__player_2_ioc_CHI",
          "One Hot Encode__player_1_ioc_NED",
          "One Hot Encode__player_1_ioc_RSA",
          "One Hot Encode__player_2_ioc_CRO",
          "One Hot Encode__player_2_ioc_GBR",
          "One Hot Encode__player_1_ioc_CRO",
          "One Hot Encode__player_2_ioc_ITA",
          "One Hot Encode__player_1_ioc_GBR",
          "One Hot Encode__player_1_ioc_BEL",
          "One Hot Encode__player_1_ioc_SUI",
          "One Hot Encode__tourney_level_M",
          "One Hot Encode__player_1_ioc_GER",
          "One Hot Encode__player_2_ioc_ROU",
          "One Hot Encode__player_2_ioc_GER",
          "One Hot Encode__player_2_ioc_CZE",
          "One Hot Encode__player_2_entry_wc",
          "One Hot Encode__player_1_ioc_CZE",
          "One Hot Encode__tourney_level_A",
          "One Hot Encode__player_2_ioc_SWE",
          "One Hot Encode__tourney_level_D",
          "One Hot Encode__surface_Carpet",
          "One Hot Encode__player_1_ioc_AUS",
          "One Hot Encode__player_2_ioc_FRA",
          "One Hot Encode__player_2_ioc_AUS",
          "One Hot Encode__player_2_ioc_RUS",
          "One Hot Encode__player_1_ioc_RUS",
          "One Hot Encode__player_2_ioc_ARG",
          "One Hot Encode__player_1_hand_L",
          "One Hot Encode__player_1_ioc_USA",
          "One Hot Encode__player_1_ioc_ARG",
          "One Hot Encode__surface_Hard",
          "One Hot Encode__player_1_ioc_FRA",
          "One Hot Encode__player_1_hand_R",
          "One Hot Encode__player_2_hand_L",
          "One Hot Encode__player_2_hand_R",
          "One Hot Encode__player_1_entry_none",
          "One Hot Encode__player_2_ioc_USA",
          "One Hot Encode__tourney_level_G",
          "One Hot Encode__player_2_entry_none",
          "One Hot Encode__player_1_ioc_ESP",
          "One Hot Encode__surface_Grass",
          "One Hot Encode__player_1_entry_q",
          "remainder__best_of",
          "One Hot Encode__player_2_entry_q",
          "One Hot Encode__player_2_ioc_ESP",
          "One Hot Encode__surface_Clay",
          "One Hot Encode__player_1_hand_U",
          "Scale__draw_size",
          "One Hot Encode__player_2_hand_U",
          "Scale__month",
          "Scale__player_2_ht",
          "Scale__player_1_ht",
          "Scale__match_num",
          "Scale__age_difference",
          "Scale__year",
          "Scale__player_1_rank_points",
          "Scale__player_2_rank_points",
          "Scale__rank_difference",
          "Scale__player_1_total_games_lost",
          "Scale__player_2_total_games_lost",
          "Scale__player_2_age",
          "Scale__player_1_age",
          "Scale__player_1_total_games_played",
          "Scale__player_2_total_games_played",
          "Scale__player_2_total_games_won",
          "Scale__player_2_rank",
          "Scale__player_1_rank",
          "Scale__player_1_total_games_won",
          "Scale__player_1_loss_rate",
          "Scale__player_2_loss_rate",
          "Scale__player_2_seed",
          "Scale__player_1_seed",
          "Scale__player_2_win_rate",
          "Scale__player_1_win_rate"
         ],
         "yaxis": "y",
         "type": "bar"
        }
       ],
       "layout": {
        "template": {
         "data": {
          "histogram2dcontour": [
           {
            "type": "histogram2dcontour",
            "colorbar": {
             "outlinewidth": 0,
             "ticks": ""
            },
            "colorscale": [
             [
              0.0,
              "#0d0887"
             ],
             [
              0.1111111111111111,
              "#46039f"
             ],
             [
              0.2222222222222222,
              "#7201a8"
             ],
             [
              0.3333333333333333,
              "#9c179e"
             ],
             [
              0.4444444444444444,
              "#bd3786"
             ],
             [
              0.5555555555555556,
              "#d8576b"
             ],
             [
              0.6666666666666666,
              "#ed7953"
             ],
             [
              0.7777777777777778,
              "#fb9f3a"
             ],
             [
              0.8888888888888888,
              "#fdca26"
             ],
             [
              1.0,
              "#f0f921"
             ]
            ]
           }
          ],
          "choropleth": [
           {
            "type": "choropleth",
            "colorbar": {
             "outlinewidth": 0,
             "ticks": ""
            }
           }
          ],
          "histogram2d": [
           {
            "type": "histogram2d",
            "colorbar": {
             "outlinewidth": 0,
             "ticks": ""
            },
            "colorscale": [
             [
              0.0,
              "#0d0887"
             ],
             [
              0.1111111111111111,
              "#46039f"
             ],
             [
              0.2222222222222222,
              "#7201a8"
             ],
             [
              0.3333333333333333,
              "#9c179e"
             ],
             [
              0.4444444444444444,
              "#bd3786"
             ],
             [
              0.5555555555555556,
              "#d8576b"
             ],
             [
              0.6666666666666666,
              "#ed7953"
             ],
             [
              0.7777777777777778,
              "#fb9f3a"
             ],
             [
              0.8888888888888888,
              "#fdca26"
             ],
             [
              1.0,
              "#f0f921"
             ]
            ]
           }
          ],
          "heatmap": [
           {
            "type": "heatmap",
            "colorbar": {
             "outlinewidth": 0,
             "ticks": ""
            },
            "colorscale": [
             [
              0.0,
              "#0d0887"
             ],
             [
              0.1111111111111111,
              "#46039f"
             ],
             [
              0.2222222222222222,
              "#7201a8"
             ],
             [
              0.3333333333333333,
              "#9c179e"
             ],
             [
              0.4444444444444444,
              "#bd3786"
             ],
             [
              0.5555555555555556,
              "#d8576b"
             ],
             [
              0.6666666666666666,
              "#ed7953"
             ],
             [
              0.7777777777777778,
              "#fb9f3a"
             ],
             [
              0.8888888888888888,
              "#fdca26"
             ],
             [
              1.0,
              "#f0f921"
             ]
            ]
           }
          ],
          "heatmapgl": [
           {
            "type": "heatmapgl",
            "colorbar": {
             "outlinewidth": 0,
             "ticks": ""
            },
            "colorscale": [
             [
              0.0,
              "#0d0887"
             ],
             [
              0.1111111111111111,
              "#46039f"
             ],
             [
              0.2222222222222222,
              "#7201a8"
             ],
             [
              0.3333333333333333,
              "#9c179e"
             ],
             [
              0.4444444444444444,
              "#bd3786"
             ],
             [
              0.5555555555555556,
              "#d8576b"
             ],
             [
              0.6666666666666666,
              "#ed7953"
             ],
             [
              0.7777777777777778,
              "#fb9f3a"
             ],
             [
              0.8888888888888888,
              "#fdca26"
             ],
             [
              1.0,
              "#f0f921"
             ]
            ]
           }
          ],
          "contourcarpet": [
           {
            "type": "contourcarpet",
            "colorbar": {
             "outlinewidth": 0,
             "ticks": ""
            }
           }
          ],
          "contour": [
           {
            "type": "contour",
            "colorbar": {
             "outlinewidth": 0,
             "ticks": ""
            },
            "colorscale": [
             [
              0.0,
              "#0d0887"
             ],
             [
              0.1111111111111111,
              "#46039f"
             ],
             [
              0.2222222222222222,
              "#7201a8"
             ],
             [
              0.3333333333333333,
              "#9c179e"
             ],
             [
              0.4444444444444444,
              "#bd3786"
             ],
             [
              0.5555555555555556,
              "#d8576b"
             ],
             [
              0.6666666666666666,
              "#ed7953"
             ],
             [
              0.7777777777777778,
              "#fb9f3a"
             ],
             [
              0.8888888888888888,
              "#fdca26"
             ],
             [
              1.0,
              "#f0f921"
             ]
            ]
           }
          ],
          "surface": [
           {
            "type": "surface",
            "colorbar": {
             "outlinewidth": 0,
             "ticks": ""
            },
            "colorscale": [
             [
              0.0,
              "#0d0887"
             ],
             [
              0.1111111111111111,
              "#46039f"
             ],
             [
              0.2222222222222222,
              "#7201a8"
             ],
             [
              0.3333333333333333,
              "#9c179e"
             ],
             [
              0.4444444444444444,
              "#bd3786"
             ],
             [
              0.5555555555555556,
              "#d8576b"
             ],
             [
              0.6666666666666666,
              "#ed7953"
             ],
             [
              0.7777777777777778,
              "#fb9f3a"
             ],
             [
              0.8888888888888888,
              "#fdca26"
             ],
             [
              1.0,
              "#f0f921"
             ]
            ]
           }
          ],
          "mesh3d": [
           {
            "type": "mesh3d",
            "colorbar": {
             "outlinewidth": 0,
             "ticks": ""
            }
           }
          ],
          "scatter": [
           {
            "fillpattern": {
             "fillmode": "overlay",
             "size": 10,
             "solidity": 0.2
            },
            "type": "scatter"
           }
          ],
          "parcoords": [
           {
            "type": "parcoords",
            "line": {
             "colorbar": {
              "outlinewidth": 0,
              "ticks": ""
             }
            }
           }
          ],
          "scatterpolargl": [
           {
            "type": "scatterpolargl",
            "marker": {
             "colorbar": {
              "outlinewidth": 0,
              "ticks": ""
             }
            }
           }
          ],
          "bar": [
           {
            "error_x": {
             "color": "#2a3f5f"
            },
            "error_y": {
             "color": "#2a3f5f"
            },
            "marker": {
             "line": {
              "color": "#E5ECF6",
              "width": 0.5
             },
             "pattern": {
              "fillmode": "overlay",
              "size": 10,
              "solidity": 0.2
             }
            },
            "type": "bar"
           }
          ],
          "scattergeo": [
           {
            "type": "scattergeo",
            "marker": {
             "colorbar": {
              "outlinewidth": 0,
              "ticks": ""
             }
            }
           }
          ],
          "scatterpolar": [
           {
            "type": "scatterpolar",
            "marker": {
             "colorbar": {
              "outlinewidth": 0,
              "ticks": ""
             }
            }
           }
          ],
          "histogram": [
           {
            "marker": {
             "pattern": {
              "fillmode": "overlay",
              "size": 10,
              "solidity": 0.2
             }
            },
            "type": "histogram"
           }
          ],
          "scattergl": [
           {
            "type": "scattergl",
            "marker": {
             "colorbar": {
              "outlinewidth": 0,
              "ticks": ""
             }
            }
           }
          ],
          "scatter3d": [
           {
            "type": "scatter3d",
            "line": {
             "colorbar": {
              "outlinewidth": 0,
              "ticks": ""
             }
            },
            "marker": {
             "colorbar": {
              "outlinewidth": 0,
              "ticks": ""
             }
            }
           }
          ],
          "scattermapbox": [
           {
            "type": "scattermapbox",
            "marker": {
             "colorbar": {
              "outlinewidth": 0,
              "ticks": ""
             }
            }
           }
          ],
          "scatterternary": [
           {
            "type": "scatterternary",
            "marker": {
             "colorbar": {
              "outlinewidth": 0,
              "ticks": ""
             }
            }
           }
          ],
          "scattercarpet": [
           {
            "type": "scattercarpet",
            "marker": {
             "colorbar": {
              "outlinewidth": 0,
              "ticks": ""
             }
            }
           }
          ],
          "carpet": [
           {
            "aaxis": {
             "endlinecolor": "#2a3f5f",
             "gridcolor": "white",
             "linecolor": "white",
             "minorgridcolor": "white",
             "startlinecolor": "#2a3f5f"
            },
            "baxis": {
             "endlinecolor": "#2a3f5f",
             "gridcolor": "white",
             "linecolor": "white",
             "minorgridcolor": "white",
             "startlinecolor": "#2a3f5f"
            },
            "type": "carpet"
           }
          ],
          "table": [
           {
            "cells": {
             "fill": {
              "color": "#EBF0F8"
             },
             "line": {
              "color": "white"
             }
            },
            "header": {
             "fill": {
              "color": "#C8D4E3"
             },
             "line": {
              "color": "white"
             }
            },
            "type": "table"
           }
          ],
          "barpolar": [
           {
            "marker": {
             "line": {
              "color": "#E5ECF6",
              "width": 0.5
             },
             "pattern": {
              "fillmode": "overlay",
              "size": 10,
              "solidity": 0.2
             }
            },
            "type": "barpolar"
           }
          ],
          "pie": [
           {
            "automargin": true,
            "type": "pie"
           }
          ]
         },
         "layout": {
          "autotypenumbers": "strict",
          "colorway": [
           "#636efa",
           "#EF553B",
           "#00cc96",
           "#ab63fa",
           "#FFA15A",
           "#19d3f3",
           "#FF6692",
           "#B6E880",
           "#FF97FF",
           "#FECB52"
          ],
          "font": {
           "color": "#2a3f5f"
          },
          "hovermode": "closest",
          "hoverlabel": {
           "align": "left"
          },
          "paper_bgcolor": "white",
          "plot_bgcolor": "#E5ECF6",
          "polar": {
           "bgcolor": "#E5ECF6",
           "angularaxis": {
            "gridcolor": "white",
            "linecolor": "white",
            "ticks": ""
           },
           "radialaxis": {
            "gridcolor": "white",
            "linecolor": "white",
            "ticks": ""
           }
          },
          "ternary": {
           "bgcolor": "#E5ECF6",
           "aaxis": {
            "gridcolor": "white",
            "linecolor": "white",
            "ticks": ""
           },
           "baxis": {
            "gridcolor": "white",
            "linecolor": "white",
            "ticks": ""
           },
           "caxis": {
            "gridcolor": "white",
            "linecolor": "white",
            "ticks": ""
           }
          },
          "coloraxis": {
           "colorbar": {
            "outlinewidth": 0,
            "ticks": ""
           }
          },
          "colorscale": {
           "sequential": [
            [
             0.0,
             "#0d0887"
            ],
            [
             0.1111111111111111,
             "#46039f"
            ],
            [
             0.2222222222222222,
             "#7201a8"
            ],
            [
             0.3333333333333333,
             "#9c179e"
            ],
            [
             0.4444444444444444,
             "#bd3786"
            ],
            [
             0.5555555555555556,
             "#d8576b"
            ],
            [
             0.6666666666666666,
             "#ed7953"
            ],
            [
             0.7777777777777778,
             "#fb9f3a"
            ],
            [
             0.8888888888888888,
             "#fdca26"
            ],
            [
             1.0,
             "#f0f921"
            ]
           ],
           "sequentialminus": [
            [
             0.0,
             "#0d0887"
            ],
            [
             0.1111111111111111,
             "#46039f"
            ],
            [
             0.2222222222222222,
             "#7201a8"
            ],
            [
             0.3333333333333333,
             "#9c179e"
            ],
            [
             0.4444444444444444,
             "#bd3786"
            ],
            [
             0.5555555555555556,
             "#d8576b"
            ],
            [
             0.6666666666666666,
             "#ed7953"
            ],
            [
             0.7777777777777778,
             "#fb9f3a"
            ],
            [
             0.8888888888888888,
             "#fdca26"
            ],
            [
             1.0,
             "#f0f921"
            ]
           ],
           "diverging": [
            [
             0,
             "#8e0152"
            ],
            [
             0.1,
             "#c51b7d"
            ],
            [
             0.2,
             "#de77ae"
            ],
            [
             0.3,
             "#f1b6da"
            ],
            [
             0.4,
             "#fde0ef"
            ],
            [
             0.5,
             "#f7f7f7"
            ],
            [
             0.6,
             "#e6f5d0"
            ],
            [
             0.7,
             "#b8e186"
            ],
            [
             0.8,
             "#7fbc41"
            ],
            [
             0.9,
             "#4d9221"
            ],
            [
             1,
             "#276419"
            ]
           ]
          },
          "xaxis": {
           "gridcolor": "white",
           "linecolor": "white",
           "ticks": "",
           "title": {
            "standoff": 15
           },
           "zerolinecolor": "white",
           "automargin": true,
           "zerolinewidth": 2
          },
          "yaxis": {
           "gridcolor": "white",
           "linecolor": "white",
           "ticks": "",
           "title": {
            "standoff": 15
           },
           "zerolinecolor": "white",
           "automargin": true,
           "zerolinewidth": 2
          },
          "scene": {
           "xaxis": {
            "backgroundcolor": "#E5ECF6",
            "gridcolor": "white",
            "linecolor": "white",
            "showbackground": true,
            "ticks": "",
            "zerolinecolor": "white",
            "gridwidth": 2
           },
           "yaxis": {
            "backgroundcolor": "#E5ECF6",
            "gridcolor": "white",
            "linecolor": "white",
            "showbackground": true,
            "ticks": "",
            "zerolinecolor": "white",
            "gridwidth": 2
           },
           "zaxis": {
            "backgroundcolor": "#E5ECF6",
            "gridcolor": "white",
            "linecolor": "white",
            "showbackground": true,
            "ticks": "",
            "zerolinecolor": "white",
            "gridwidth": 2
           }
          },
          "shapedefaults": {
           "line": {
            "color": "#2a3f5f"
           }
          },
          "annotationdefaults": {
           "arrowcolor": "#2a3f5f",
           "arrowhead": 0,
           "arrowwidth": 1
          },
          "geo": {
           "bgcolor": "white",
           "landcolor": "#E5ECF6",
           "subunitcolor": "white",
           "showland": true,
           "showlakes": true,
           "lakecolor": "white"
          },
          "title": {
           "x": 0.05
          },
          "mapbox": {
           "style": "light"
          }
         }
        },
        "xaxis": {
         "anchor": "y",
         "domain": [
          0.0,
          1.0
         ],
         "title": {
          "text": "0"
         }
        },
        "yaxis": {
         "anchor": "x",
         "domain": [
          0.0,
          1.0
         ],
         "title": {
          "text": "feature_name"
         }
        },
        "legend": {
         "tracegroupgap": 0
        },
        "title": {
         "text": "Feature Importance"
        },
        "barmode": "relative",
        "height": 5000
       },
       "config": {
        "plotlyServerURL": "https://plot.ly"
       }
      },
      "text/html": "<div>                            <div id=\"344ebe5e-afa0-4b7c-9e42-4fbddad91591\" class=\"plotly-graph-div\" style=\"height:5000px; width:100%;\"></div>            <script type=\"text/javascript\">                require([\"plotly\"], function(Plotly) {                    window.PLOTLYENV=window.PLOTLYENV || {};                                    if (document.getElementById(\"344ebe5e-afa0-4b7c-9e42-4fbddad91591\")) {                    Plotly.newPlot(                        \"344ebe5e-afa0-4b7c-9e42-4fbddad91591\",                        [{\"alignmentgroup\":\"True\",\"hovertemplate\":\"0=%{x}\\u003cbr\\u003efeature_name=%{y}\\u003cextra\\u003e\\u003c\\u002fextra\\u003e\",\"legendgroup\":\"\",\"marker\":{\"color\":\"#636efa\",\"pattern\":{\"shape\":\"\"}},\"name\":\"\",\"offsetgroup\":\"\",\"orientation\":\"h\",\"showlegend\":false,\"textposition\":\"auto\",\"x\":[0.0,0.0,0.0,0.0,0.0,0.0,0.0,0.0,0.0,0.0,0.0,0.0,0.0,0.0,0.0,0.0,0.0,0.0,0.0,0.0,0.0,0.0,0.0,0.0,0.0,0.0,0.0,0.0,2.9470967615238214e-07,7.508109110879146e-07,7.518293773509555e-07,8.140681560420772e-07,9.168019231539762e-07,9.648856687986076e-07,1.0153897456885112e-06,1.0530527547101601e-06,1.2614681535293982e-06,1.8942510667826518e-06,1.9818403779771313e-06,2.021677765596869e-06,2.1196971355186405e-06,2.168904029660511e-06,2.98919722340061e-06,2.991015259858438e-06,2.993470523731676e-06,2.9975100368844664e-06,3.033928367491472e-06,3.3116047130064042e-06,3.680272142588361e-06,4.640087606997266e-06,4.779593999537714e-06,5.132904260782454e-06,5.252070150207798e-06,5.2630087666853615e-06,5.532008723464117e-06,6.427972007931562e-06,6.663620001785907e-06,6.7351488379737916e-06,6.8066335867192596e-06,7.841103709295681e-06,8.205399577807608e-06,9.405571719731016e-06,1.1777059328986257e-05,1.2950669009699726e-05,1.4372290526837096e-05,1.5097536424840131e-05,1.6781751054181616e-05,1.7361532978627983e-05,1.7492632134783166e-05,1.749820991891071e-05,1.771684521555356e-05,1.879801626256049e-05,1.996764397004598e-05,2.0204822773800796e-05,2.038094138900322e-05,2.101946398849002e-05,2.112335021046586e-05,2.1879190014127437e-05,2.1918673618268695e-05,2.217197117059246e-05,2.469545689478037e-05,2.497056218267917e-05,2.5149632956981715e-05,2.5351948871877357e-05,2.5735321752084337e-05,2.8336032672980167e-05,3.1221006852872244e-05,3.542533686364546e-05,3.583294328376241e-05,3.715748788973546e-05,3.72609087509289e-05,4.04258816510176e-05,4.0772534726376766e-05,4.597530107651837e-05,4.9023592684011815e-05,5.0054558355743225e-05,5.19743229852139e-05,5.3701996803539185e-05,5.463115023835562e-05,5.5956756313042255e-05,5.621290149155203e-05,5.659747839766962e-05,5.663403895441576e-05,5.815701542864871e-05,5.848849180008192e-05,5.91843855620582e-05,6.0389550394649643e-05,6.089479096742142e-05,6.121578093533219e-05,6.188579612262962e-05,6.217510511114524e-05,6.25076622915132e-05,6.528022394423074e-05,6.709420218291596e-05,6.789779669616484e-05,6.817606583698087e-05,6.862740863240488e-05,6.897825596092974e-05,7.026712671815373e-05,7.092158110233736e-05,7.223930694784058e-05,7.349433811240716e-05,7.45939701879469e-05,7.762717945635191e-05,7.945347132755623e-05,8.187784493251684e-05,8.230535680987752e-05,8.282352261078633e-05,8.606259557931238e-05,8.688426337475024e-05,8.924419256458421e-05,8.977709201666347e-05,9.178201420929955e-05,9.644536153311142e-05,0.00010121394314674631,0.00010331998506397207,0.00010646914757186207,0.0001078445275969394,0.00010843871175070469,0.00011429036967918094,0.00012145192665655288,0.0001228443064284824,0.00012344743716170755,0.0001235856258915658,0.00012480217452204604,0.0001253396290907939,0.00012537067178860763,0.00012674033272803333,0.0001283784243392656,0.0001306433025352317,0.00013254822509743276,0.00013262719908557346,0.00013440914140365047,0.0001360433462425855,0.00013747445429634778,0.00013813375533117686,0.0001404598887736769,0.00014206951895241984,0.00014207821088253514,0.0001505794092010448,0.00015260069078706616,0.0001532854748783327,0.00015520441667068243,0.00015618930255179088,0.00015919716804632233,0.00016259932553384262,0.00016260398057555922,0.00016443831134851033,0.00016522311629372003,0.0001660687414679066,0.00017225222970854777,0.00017516739090634657,0.00017724460733003686,0.00017857910413040907,0.0001790380726626,0.000180960949289743,0.00018147677873947215,0.0001844234105581508,0.0001858490835884372,0.0001880325400594174,0.00018928323137475895,0.0001901611170247828,0.00019533410609359124,0.00019539732509599444,0.00019757312278799872,0.00019905902828974754,0.00020652392250464726,0.0002081487459651937,0.00021486737858840362,0.00022005519231615856,0.00022340305726004707,0.0002240955625000108,0.0002282357006442021,0.00022882744672869852,0.00023028542079337746,0.00023461785585864308,0.0002383386249969387,0.00024007022956871739,0.00025844498667862827,0.00025901302961785845,0.0002604626614160714,0.0002605746276073968,0.00026430711539363397,0.00026520007495122117,0.0002684431559407146,0.000268913508980237,0.00026933317269076524,0.00027023100157697093,0.0002719709468975108,0.0002720684649683443,0.00027219324995116773,0.00027506211883494906,0.0002792990590541135,0.0002818664198948082,0.00028190081849919054,0.00028886606909927153,0.00029468601148497676,0.0002996853576458006,0.0003017019798965014,0.00030316711761988466,0.00030575206283334785,0.00030793497734756914,0.00030806148700182503,0.0003113295792342273,0.00031192589898953446,0.00032456592270413973,0.00034236863924753594,0.0003429524055215133,0.00034968581183867183,0.00036192219340761553,0.00036414900837570115,0.00036674865028268964,0.00037019582227810853,0.0003709741192268265,0.0003746966851893991,0.00038894992575143247,0.00039878359751932806,0.00039899525414316867,0.0004029057581821163,0.0004112300759870912,0.0004213891823509547,0.0004465227684419292,0.0004465888724318419,0.00045650144436872915,0.0004600522126237434,0.0004600819455707321,0.00046162388090958603,0.0004664941940609057,0.0004676362569728461,0.0004692520935307205,0.0004743316001750275,0.0004766818143442109,0.000482420863841003,0.0005024118242339841,0.0005076201169880983,0.0005124518445993108,0.0005272687090592645,0.000539792839244839,0.0005558849575627794,0.0005744745092732655,0.0005955416278762431,0.0006023497799002372,0.000669016169712678,0.0007043331757488925,0.0007058485274440085,0.0007134847642975345,0.0007402885782810086,0.0007482641904673493,0.0007622214701891367,0.0007679150141909419,0.0007929014198910169,0.0007968461654986379,0.0007968733075011192,0.0008212456910346987,0.0008313263408939327,0.0008454290534757289,0.0008671936975628127,0.0008832499776187063,0.0009195976845651312,0.0009256958483839366,0.0009752371454074298,0.0009863412962242766,0.0010108762229209109,0.0010113233902712222,0.0010188941752847362,0.0010955619748724951,0.001097453822222294,0.0011832554196491603,0.0012521164202495955,0.0012759367033321894,0.0013091157633552733,0.001365298611276068,0.001417742505433072,0.001560441063594741,0.0015893951673576982,0.0015914464744985115,0.001754499428294525,0.0019094907735518582,0.0020236187698016365,0.0021368029582704354,0.0021854435427818408,0.002511789146369585,0.0026318210146144497,0.003511458292288263,0.004843369548637757,0.004977251493795895,0.00573889976755459,0.005858175648193553,0.010706400950088575,0.01174087134345231,0.01178665654780146,0.016883202640931832,0.017159437268134126,0.0195373569951905,0.020273192603102164,0.023461454190525564,0.02445977213509491,0.025834150865969796,0.029086429710751337,0.029455434454997802,0.030465529767208323,0.033580245015457186,0.042655860798731675,0.043552281251394646,0.04453179644873072,0.04479556451136951,0.04572402418129645,0.05824927363984138,0.06583085454695335,0.06614055335128936,0.07861216810120965,0.09307744046280893],\"xaxis\":\"x\",\"y\":[\"One Hot Encode__player_1_ioc_CUW\",\"One Hot Encode__player_2_ioc_MHL\",\"One Hot Encode__player_2_ioc_LBA\",\"One Hot Encode__player_2_ioc_IRQ\",\"One Hot Encode__player_1_ioc_BUR\",\"One Hot Encode__player_1_ioc_CAR\",\"One Hot Encode__player_2_ioc_SUR\",\"One Hot Encode__player_2_ioc_CUW\",\"One Hot Encode__player_2_ioc_CMR\",\"One Hot Encode__player_1_ioc_FIJ\",\"One Hot Encode__player_2_ioc_BER\",\"One Hot Encode__player_2_ioc_BEN\",\"One Hot Encode__player_2_ioc_AZE\",\"One Hot Encode__player_1_ioc_VAN\",\"One Hot Encode__player_1_ioc_UAE\",\"One Hot Encode__player_1_ioc_MNE\",\"One Hot Encode__player_1_ioc_SAM\",\"One Hot Encode__player_1_ioc_QAT\",\"One Hot Encode__player_1_ioc_NIG\",\"One Hot Encode__player_1_ioc_PNG\",\"One Hot Encode__player_2_ioc_UAE\",\"One Hot Encode__player_2_ioc_MNE\",\"One Hot Encode__player_1_ioc_PAN\",\"One Hot Encode__player_2_entry_s\",\"One Hot Encode__player_2_ioc_PNG\",\"One Hot Encode__player_2_ioc_NIG\",\"One Hot Encode__player_2_ioc_SUD\",\"One Hot Encode__player_2_ioc_VIE\",\"One Hot Encode__player_1_ioc_BEN\",\"One Hot Encode__player_2_ioc_COK\",\"One Hot Encode__player_1_ioc_SUD\",\"One Hot Encode__player_1_ioc_AND\",\"One Hot Encode__player_1_ioc_OMA\",\"One Hot Encode__player_2_ioc_MAD\",\"One Hot Encode__player_1_ioc_CMR\",\"One Hot Encode__player_2_ioc_VAN\",\"One Hot Encode__player_1_ioc_VIE\",\"One Hot Encode__player_1_ioc_TRI\",\"One Hot Encode__player_2_ioc_OMA\",\"One Hot Encode__player_2_ioc_CAR\",\"One Hot Encode__player_1_ioc_ECA\",\"One Hot Encode__player_1_ioc_CGO\",\"One Hot Encode__player_1_ioc_IRQ\",\"One Hot Encode__player_2_ioc_ECA\",\"One Hot Encode__player_1_ioc_MKD\",\"One Hot Encode__player_2_ioc_TRI\",\"One Hot Encode__player_1_ioc_AHO\",\"One Hot Encode__player_2_ioc_RHO\",\"One Hot Encode__player_1_ioc_LBN\",\"One Hot Encode__player_1_ioc_COK\",\"One Hot Encode__player_1_ioc_BAN\",\"One Hot Encode__player_2_ioc_SGP\",\"One Hot Encode__player_1_ioc_TJK\",\"One Hot Encode__player_2_ioc_BRN\",\"One Hot Encode__player_2_ioc_CGO\",\"One Hot Encode__player_1_ioc_MLT\",\"One Hot Encode__player_2_ioc_GUA\",\"One Hot Encode__player_2_ioc_JOR\",\"One Hot Encode__player_1_ioc_SOL\",\"One Hot Encode__player_2_ioc_LBN\",\"One Hot Encode__player_2_ioc_MKD\",\"One Hot Encode__player_1_ioc_KSA\",\"One Hot Encode__player_2_ioc_AHO\",\"One Hot Encode__player_1_entry_alt\",\"One Hot Encode__player_2_ioc_TJK\",\"One Hot Encode__player_2_ioc_BAR\",\"One Hot Encode__player_2_ioc_KSA\",\"One Hot Encode__player_1_ioc_MHL\",\"One Hot Encode__player_2_ioc_URS\",\"One Hot Encode__player_1_ioc_SYR\",\"One Hot Encode__player_1_ioc_GUA\",\"One Hot Encode__player_2_ioc_ESA\",\"One Hot Encode__player_2_ioc_ZAM\",\"One Hot Encode__player_1_ioc_JOR\",\"One Hot Encode__player_2_ioc_AND\",\"One Hot Encode__player_1_ioc_TOG\",\"One Hot Encode__player_2_ioc_SEN\",\"One Hot Encode__player_1_ioc_LBA\",\"One Hot Encode__player_1_ioc_KUW\",\"One Hot Encode__player_1_ioc_TCH\",\"One Hot Encode__player_2_entry_se\",\"One Hot Encode__player_2_ioc_KUW\",\"One Hot Encode__player_1_ioc_LIB\",\"One Hot Encode__player_1_ioc_SGP\",\"One Hot Encode__player_1_ioc_BRN\",\"One Hot Encode__player_2_ioc_SOL\",\"One Hot Encode__player_1_ioc_MAD\",\"One Hot Encode__player_1_entry_se\",\"One Hot Encode__player_2_ioc_TOG\",\"One Hot Encode__player_2_ioc_QAT\",\"One Hot Encode__player_2_entry_alt\",\"One Hot Encode__player_2_ioc_GHA\",\"One Hot Encode__player_2_ioc_LIB\",\"One Hot Encode__player_2_ioc_CUB\",\"One Hot Encode__player_1_ioc_IRL\",\"One Hot Encode__player_1_ioc_GHA\",\"One Hot Encode__player_2_ioc_UNK\",\"One Hot Encode__player_1_ioc_CIV\",\"One Hot Encode__player_2_ioc_SAM\",\"One Hot Encode__player_2_ioc_JAM\",\"One Hot Encode__player_1_ioc_EST\",\"One Hot Encode__player_1_ioc_ALG\",\"One Hot Encode__player_2_ioc_PUR\",\"One Hot Encode__player_1_ioc_SRI\",\"One Hot Encode__player_1_ioc_TUN\",\"One Hot Encode__player_1_ioc_HAI\",\"One Hot Encode__player_1_ioc_UZB\",\"One Hot Encode__player_1_ioc_DOM\",\"One Hot Encode__player_1_ioc_PUR\",\"One Hot Encode__player_1_ioc_BAR\",\"One Hot Encode__player_2_ioc_TCH\",\"One Hot Encode__player_2_ioc_HAI\",\"One Hot Encode__player_1_ioc_CUB\",\"One Hot Encode__player_2_ioc_NOR\",\"One Hot Encode__player_1_ioc_UNK\",\"One Hot Encode__player_2_ioc_IRI\",\"One Hot Encode__player_2_ioc_CRC\",\"One Hot Encode__player_1_ioc_MDA\",\"One Hot Encode__player_2_ioc_MDA\",\"One Hot Encode__player_2_ioc_NGR\",\"One Hot Encode__tourney_level_F\",\"One Hot Encode__player_1_ioc_PHI\",\"One Hot Encode__player_2_ioc_KEN\",\"One Hot Encode__player_1_ioc_ZAM\",\"One Hot Encode__player_2_ioc_SRI\",\"One Hot Encode__player_2_ioc_BAN\",\"One Hot Encode__player_1_ioc_MAS\",\"One Hot Encode__player_2_ioc_MAS\",\"One Hot Encode__player_1_ioc_ESA\",\"One Hot Encode__player_2_ioc_MON\",\"One Hot Encode__player_1_ioc_BAH\",\"One Hot Encode__player_2_ioc_DOM\",\"One Hot Encode__player_2_ioc_CIV\",\"One Hot Encode__player_1_ioc_LTU\",\"One Hot Encode__player_2_ioc_EST\",\"One Hot Encode__player_1_ioc_LUX\",\"One Hot Encode__player_2_ioc_SYR\",\"One Hot Encode__player_2_ioc_LTU\",\"One Hot Encode__player_1_ioc_YUG\",\"One Hot Encode__player_2_ioc_INA\",\"One Hot Encode__player_2_ioc_MLT\",\"One Hot Encode__player_1_ioc_MON\",\"One Hot Encode__player_2_ioc_BUL\",\"One Hot Encode__player_2_ioc_TUN\",\"One Hot Encode__player_2_ioc_SLO\",\"One Hot Encode__player_2_entry_pr\",\"One Hot Encode__player_2_ioc_TUR\",\"One Hot Encode__player_1_ioc_NOR\",\"One Hot Encode__player_2_ioc_LUX\",\"One Hot Encode__player_1_ioc_ARM\",\"One Hot Encode__player_1_ioc_HKG\",\"One Hot Encode__player_1_ioc_CRC\",\"One Hot Encode__player_2_ioc_THA\",\"One Hot Encode__player_2_ioc_IRL\",\"One Hot Encode__player_2_ioc_ALG\",\"One Hot Encode__player_1_ioc_BUL\",\"One Hot Encode__player_1_ioc_KEN\",\"One Hot Encode__player_2_ioc_ARM\",\"One Hot Encode__player_1_ioc_IRI\",\"One Hot Encode__player_2_ioc_BOL\",\"One Hot Encode__player_2_ioc_VEN\",\"One Hot Encode__player_2_ioc_HKG\",\"One Hot Encode__player_1_ioc_CYP\",\"One Hot Encode__player_1_ioc_SEN\",\"One Hot Encode__player_1_ioc_KOR\",\"One Hot Encode__player_2_ioc_ISR\",\"One Hot Encode__player_1_ioc_ZIM\",\"One Hot Encode__player_1_ioc_JAM\",\"One Hot Encode__player_1_ioc_KAZ\",\"One Hot Encode__player_1_ioc_EGY\",\"One Hot Encode__player_1_ioc_GRE\",\"One Hot Encode__player_1_ioc_URS\",\"One Hot Encode__player_1_ioc_GEO\",\"One Hot Encode__player_2_ioc_GRE\",\"One Hot Encode__player_2_ioc_BIH\",\"One Hot Encode__player_2_ioc_MAR\",\"One Hot Encode__player_2_ioc_GEO\",\"One Hot Encode__player_1_entry_pr\",\"One Hot Encode__player_1_ioc_PAR\",\"One Hot Encode__player_1_ioc_CHN\",\"One Hot Encode__player_1_ioc_BOL\",\"One Hot Encode__player_2_ioc_BAH\",\"One Hot Encode__player_2_ioc_PHI\",\"One Hot Encode__player_2_ioc_EGY\",\"One Hot Encode__player_2_ioc_YUG\",\"One Hot Encode__player_1_ioc_INA\",\"One Hot Encode__player_2_ioc_CYP\",\"One Hot Encode__player_2_ioc_BLR\",\"One Hot Encode__player_1_ioc_PAK\",\"One Hot Encode__player_1_ioc_TUR\",\"One Hot Encode__player_2_ioc_UZB\",\"One Hot Encode__player_2_ioc_COL\",\"One Hot Encode__player_2_ioc_URU\",\"One Hot Encode__player_2_ioc_CHN\",\"One Hot Encode__player_1_ioc_VEN\",\"One Hot Encode__player_1_ioc_SLO\",\"One Hot Encode__player_1_ioc_FIN\",\"One Hot Encode__player_1_ioc_BIH\",\"One Hot Encode__player_1_ioc_ECU\",\"One Hot Encode__player_1_ioc_BLR\",\"One Hot Encode__player_1_ioc_ISR\",\"One Hot Encode__player_2_ioc_ZIM\",\"One Hot Encode__player_1_ioc_POR\",\"One Hot Encode__player_2_ioc_PAR\",\"One Hot Encode__player_2_ioc_FIN\",\"One Hot Encode__player_1_ioc_SRB\",\"One Hot Encode__player_1_ioc_TPE\",\"One Hot Encode__player_2_ioc_PAK\",\"One Hot Encode__player_1_ioc_NGR\",\"One Hot Encode__player_1_ioc_CAN\",\"One Hot Encode__player_1_ioc_UKR\",\"One Hot Encode__player_1_ioc_JPN\",\"One Hot Encode__player_2_ioc_KAZ\",\"One Hot Encode__player_2_ioc_JPN\",\"One Hot Encode__player_1_ioc_MEX\",\"One Hot Encode__player_2_ioc_MEX\",\"One Hot Encode__player_2_ioc_TPE\",\"One Hot Encode__player_1_entry_ll\",\"One Hot Encode__player_1_ioc_LAT\",\"One Hot Encode__player_1_ioc_HUN\",\"One Hot Encode__player_1_ioc_IND\",\"One Hot Encode__player_2_ioc_LAT\",\"One Hot Encode__player_1_ioc_SVK\",\"One Hot Encode__player_2_ioc_IND\",\"One Hot Encode__player_2_ioc_NZL\",\"One Hot Encode__player_2_ioc_KOR\",\"One Hot Encode__player_2_entry_ll\",\"One Hot Encode__player_1_ioc_THA\",\"One Hot Encode__player_2_ioc_PER\",\"One Hot Encode__player_1_ioc_AUT\",\"One Hot Encode__player_1_ioc_COL\",\"One Hot Encode__player_1_ioc_URU\",\"One Hot Encode__player_2_ioc_SRB\",\"One Hot Encode__player_2_ioc_BRA\",\"One Hot Encode__player_2_ioc_UKR\",\"One Hot Encode__player_1_ioc_DEN\",\"One Hot Encode__player_1_ioc_POL\",\"One Hot Encode__player_1_ioc_PER\",\"One Hot Encode__player_1_ioc_NZL\",\"One Hot Encode__player_2_ioc_BEL\",\"One Hot Encode__player_2_ioc_DEN\",\"One Hot Encode__player_2_ioc_HUN\",\"One Hot Encode__player_2_ioc_CAN\",\"One Hot Encode__player_2_ioc_POL\",\"One Hot Encode__player_2_ioc_RSA\",\"One Hot Encode__player_1_ioc_CHI\",\"One Hot Encode__player_2_ioc_POR\",\"One Hot Encode__player_1_ioc_MAR\",\"One Hot Encode__player_2_ioc_AUT\",\"One Hot Encode__player_2_ioc_ECU\",\"One Hot Encode__player_1_ioc_BRA\",\"One Hot Encode__player_1_ioc_ITA\",\"One Hot Encode__player_1_entry_wc\",\"One Hot Encode__player_1_ioc_SWE\",\"One Hot Encode__player_2_ioc_NED\",\"One Hot Encode__player_2_ioc_SUI\",\"One Hot Encode__player_2_ioc_SVK\",\"One Hot Encode__player_1_ioc_ROU\",\"One Hot Encode__player_2_ioc_CHI\",\"One Hot Encode__player_1_ioc_NED\",\"One Hot Encode__player_1_ioc_RSA\",\"One Hot Encode__player_2_ioc_CRO\",\"One Hot Encode__player_2_ioc_GBR\",\"One Hot Encode__player_1_ioc_CRO\",\"One Hot Encode__player_2_ioc_ITA\",\"One Hot Encode__player_1_ioc_GBR\",\"One Hot Encode__player_1_ioc_BEL\",\"One Hot Encode__player_1_ioc_SUI\",\"One Hot Encode__tourney_level_M\",\"One Hot Encode__player_1_ioc_GER\",\"One Hot Encode__player_2_ioc_ROU\",\"One Hot Encode__player_2_ioc_GER\",\"One Hot Encode__player_2_ioc_CZE\",\"One Hot Encode__player_2_entry_wc\",\"One Hot Encode__player_1_ioc_CZE\",\"One Hot Encode__tourney_level_A\",\"One Hot Encode__player_2_ioc_SWE\",\"One Hot Encode__tourney_level_D\",\"One Hot Encode__surface_Carpet\",\"One Hot Encode__player_1_ioc_AUS\",\"One Hot Encode__player_2_ioc_FRA\",\"One Hot Encode__player_2_ioc_AUS\",\"One Hot Encode__player_2_ioc_RUS\",\"One Hot Encode__player_1_ioc_RUS\",\"One Hot Encode__player_2_ioc_ARG\",\"One Hot Encode__player_1_hand_L\",\"One Hot Encode__player_1_ioc_USA\",\"One Hot Encode__player_1_ioc_ARG\",\"One Hot Encode__surface_Hard\",\"One Hot Encode__player_1_ioc_FRA\",\"One Hot Encode__player_1_hand_R\",\"One Hot Encode__player_2_hand_L\",\"One Hot Encode__player_2_hand_R\",\"One Hot Encode__player_1_entry_none\",\"One Hot Encode__player_2_ioc_USA\",\"One Hot Encode__tourney_level_G\",\"One Hot Encode__player_2_entry_none\",\"One Hot Encode__player_1_ioc_ESP\",\"One Hot Encode__surface_Grass\",\"One Hot Encode__player_1_entry_q\",\"remainder__best_of\",\"One Hot Encode__player_2_entry_q\",\"One Hot Encode__player_2_ioc_ESP\",\"One Hot Encode__surface_Clay\",\"One Hot Encode__player_1_hand_U\",\"Scale__draw_size\",\"One Hot Encode__player_2_hand_U\",\"Scale__month\",\"Scale__player_2_ht\",\"Scale__player_1_ht\",\"Scale__match_num\",\"Scale__age_difference\",\"Scale__year\",\"Scale__player_1_rank_points\",\"Scale__player_2_rank_points\",\"Scale__rank_difference\",\"Scale__player_1_total_games_lost\",\"Scale__player_2_total_games_lost\",\"Scale__player_2_age\",\"Scale__player_1_age\",\"Scale__player_1_total_games_played\",\"Scale__player_2_total_games_played\",\"Scale__player_2_total_games_won\",\"Scale__player_2_rank\",\"Scale__player_1_rank\",\"Scale__player_1_total_games_won\",\"Scale__player_1_loss_rate\",\"Scale__player_2_loss_rate\",\"Scale__player_2_seed\",\"Scale__player_1_seed\",\"Scale__player_2_win_rate\",\"Scale__player_1_win_rate\"],\"yaxis\":\"y\",\"type\":\"bar\"}],                        {\"template\":{\"data\":{\"histogram2dcontour\":[{\"type\":\"histogram2dcontour\",\"colorbar\":{\"outlinewidth\":0,\"ticks\":\"\"},\"colorscale\":[[0.0,\"#0d0887\"],[0.1111111111111111,\"#46039f\"],[0.2222222222222222,\"#7201a8\"],[0.3333333333333333,\"#9c179e\"],[0.4444444444444444,\"#bd3786\"],[0.5555555555555556,\"#d8576b\"],[0.6666666666666666,\"#ed7953\"],[0.7777777777777778,\"#fb9f3a\"],[0.8888888888888888,\"#fdca26\"],[1.0,\"#f0f921\"]]}],\"choropleth\":[{\"type\":\"choropleth\",\"colorbar\":{\"outlinewidth\":0,\"ticks\":\"\"}}],\"histogram2d\":[{\"type\":\"histogram2d\",\"colorbar\":{\"outlinewidth\":0,\"ticks\":\"\"},\"colorscale\":[[0.0,\"#0d0887\"],[0.1111111111111111,\"#46039f\"],[0.2222222222222222,\"#7201a8\"],[0.3333333333333333,\"#9c179e\"],[0.4444444444444444,\"#bd3786\"],[0.5555555555555556,\"#d8576b\"],[0.6666666666666666,\"#ed7953\"],[0.7777777777777778,\"#fb9f3a\"],[0.8888888888888888,\"#fdca26\"],[1.0,\"#f0f921\"]]}],\"heatmap\":[{\"type\":\"heatmap\",\"colorbar\":{\"outlinewidth\":0,\"ticks\":\"\"},\"colorscale\":[[0.0,\"#0d0887\"],[0.1111111111111111,\"#46039f\"],[0.2222222222222222,\"#7201a8\"],[0.3333333333333333,\"#9c179e\"],[0.4444444444444444,\"#bd3786\"],[0.5555555555555556,\"#d8576b\"],[0.6666666666666666,\"#ed7953\"],[0.7777777777777778,\"#fb9f3a\"],[0.8888888888888888,\"#fdca26\"],[1.0,\"#f0f921\"]]}],\"heatmapgl\":[{\"type\":\"heatmapgl\",\"colorbar\":{\"outlinewidth\":0,\"ticks\":\"\"},\"colorscale\":[[0.0,\"#0d0887\"],[0.1111111111111111,\"#46039f\"],[0.2222222222222222,\"#7201a8\"],[0.3333333333333333,\"#9c179e\"],[0.4444444444444444,\"#bd3786\"],[0.5555555555555556,\"#d8576b\"],[0.6666666666666666,\"#ed7953\"],[0.7777777777777778,\"#fb9f3a\"],[0.8888888888888888,\"#fdca26\"],[1.0,\"#f0f921\"]]}],\"contourcarpet\":[{\"type\":\"contourcarpet\",\"colorbar\":{\"outlinewidth\":0,\"ticks\":\"\"}}],\"contour\":[{\"type\":\"contour\",\"colorbar\":{\"outlinewidth\":0,\"ticks\":\"\"},\"colorscale\":[[0.0,\"#0d0887\"],[0.1111111111111111,\"#46039f\"],[0.2222222222222222,\"#7201a8\"],[0.3333333333333333,\"#9c179e\"],[0.4444444444444444,\"#bd3786\"],[0.5555555555555556,\"#d8576b\"],[0.6666666666666666,\"#ed7953\"],[0.7777777777777778,\"#fb9f3a\"],[0.8888888888888888,\"#fdca26\"],[1.0,\"#f0f921\"]]}],\"surface\":[{\"type\":\"surface\",\"colorbar\":{\"outlinewidth\":0,\"ticks\":\"\"},\"colorscale\":[[0.0,\"#0d0887\"],[0.1111111111111111,\"#46039f\"],[0.2222222222222222,\"#7201a8\"],[0.3333333333333333,\"#9c179e\"],[0.4444444444444444,\"#bd3786\"],[0.5555555555555556,\"#d8576b\"],[0.6666666666666666,\"#ed7953\"],[0.7777777777777778,\"#fb9f3a\"],[0.8888888888888888,\"#fdca26\"],[1.0,\"#f0f921\"]]}],\"mesh3d\":[{\"type\":\"mesh3d\",\"colorbar\":{\"outlinewidth\":0,\"ticks\":\"\"}}],\"scatter\":[{\"fillpattern\":{\"fillmode\":\"overlay\",\"size\":10,\"solidity\":0.2},\"type\":\"scatter\"}],\"parcoords\":[{\"type\":\"parcoords\",\"line\":{\"colorbar\":{\"outlinewidth\":0,\"ticks\":\"\"}}}],\"scatterpolargl\":[{\"type\":\"scatterpolargl\",\"marker\":{\"colorbar\":{\"outlinewidth\":0,\"ticks\":\"\"}}}],\"bar\":[{\"error_x\":{\"color\":\"#2a3f5f\"},\"error_y\":{\"color\":\"#2a3f5f\"},\"marker\":{\"line\":{\"color\":\"#E5ECF6\",\"width\":0.5},\"pattern\":{\"fillmode\":\"overlay\",\"size\":10,\"solidity\":0.2}},\"type\":\"bar\"}],\"scattergeo\":[{\"type\":\"scattergeo\",\"marker\":{\"colorbar\":{\"outlinewidth\":0,\"ticks\":\"\"}}}],\"scatterpolar\":[{\"type\":\"scatterpolar\",\"marker\":{\"colorbar\":{\"outlinewidth\":0,\"ticks\":\"\"}}}],\"histogram\":[{\"marker\":{\"pattern\":{\"fillmode\":\"overlay\",\"size\":10,\"solidity\":0.2}},\"type\":\"histogram\"}],\"scattergl\":[{\"type\":\"scattergl\",\"marker\":{\"colorbar\":{\"outlinewidth\":0,\"ticks\":\"\"}}}],\"scatter3d\":[{\"type\":\"scatter3d\",\"line\":{\"colorbar\":{\"outlinewidth\":0,\"ticks\":\"\"}},\"marker\":{\"colorbar\":{\"outlinewidth\":0,\"ticks\":\"\"}}}],\"scattermapbox\":[{\"type\":\"scattermapbox\",\"marker\":{\"colorbar\":{\"outlinewidth\":0,\"ticks\":\"\"}}}],\"scatterternary\":[{\"type\":\"scatterternary\",\"marker\":{\"colorbar\":{\"outlinewidth\":0,\"ticks\":\"\"}}}],\"scattercarpet\":[{\"type\":\"scattercarpet\",\"marker\":{\"colorbar\":{\"outlinewidth\":0,\"ticks\":\"\"}}}],\"carpet\":[{\"aaxis\":{\"endlinecolor\":\"#2a3f5f\",\"gridcolor\":\"white\",\"linecolor\":\"white\",\"minorgridcolor\":\"white\",\"startlinecolor\":\"#2a3f5f\"},\"baxis\":{\"endlinecolor\":\"#2a3f5f\",\"gridcolor\":\"white\",\"linecolor\":\"white\",\"minorgridcolor\":\"white\",\"startlinecolor\":\"#2a3f5f\"},\"type\":\"carpet\"}],\"table\":[{\"cells\":{\"fill\":{\"color\":\"#EBF0F8\"},\"line\":{\"color\":\"white\"}},\"header\":{\"fill\":{\"color\":\"#C8D4E3\"},\"line\":{\"color\":\"white\"}},\"type\":\"table\"}],\"barpolar\":[{\"marker\":{\"line\":{\"color\":\"#E5ECF6\",\"width\":0.5},\"pattern\":{\"fillmode\":\"overlay\",\"size\":10,\"solidity\":0.2}},\"type\":\"barpolar\"}],\"pie\":[{\"automargin\":true,\"type\":\"pie\"}]},\"layout\":{\"autotypenumbers\":\"strict\",\"colorway\":[\"#636efa\",\"#EF553B\",\"#00cc96\",\"#ab63fa\",\"#FFA15A\",\"#19d3f3\",\"#FF6692\",\"#B6E880\",\"#FF97FF\",\"#FECB52\"],\"font\":{\"color\":\"#2a3f5f\"},\"hovermode\":\"closest\",\"hoverlabel\":{\"align\":\"left\"},\"paper_bgcolor\":\"white\",\"plot_bgcolor\":\"#E5ECF6\",\"polar\":{\"bgcolor\":\"#E5ECF6\",\"angularaxis\":{\"gridcolor\":\"white\",\"linecolor\":\"white\",\"ticks\":\"\"},\"radialaxis\":{\"gridcolor\":\"white\",\"linecolor\":\"white\",\"ticks\":\"\"}},\"ternary\":{\"bgcolor\":\"#E5ECF6\",\"aaxis\":{\"gridcolor\":\"white\",\"linecolor\":\"white\",\"ticks\":\"\"},\"baxis\":{\"gridcolor\":\"white\",\"linecolor\":\"white\",\"ticks\":\"\"},\"caxis\":{\"gridcolor\":\"white\",\"linecolor\":\"white\",\"ticks\":\"\"}},\"coloraxis\":{\"colorbar\":{\"outlinewidth\":0,\"ticks\":\"\"}},\"colorscale\":{\"sequential\":[[0.0,\"#0d0887\"],[0.1111111111111111,\"#46039f\"],[0.2222222222222222,\"#7201a8\"],[0.3333333333333333,\"#9c179e\"],[0.4444444444444444,\"#bd3786\"],[0.5555555555555556,\"#d8576b\"],[0.6666666666666666,\"#ed7953\"],[0.7777777777777778,\"#fb9f3a\"],[0.8888888888888888,\"#fdca26\"],[1.0,\"#f0f921\"]],\"sequentialminus\":[[0.0,\"#0d0887\"],[0.1111111111111111,\"#46039f\"],[0.2222222222222222,\"#7201a8\"],[0.3333333333333333,\"#9c179e\"],[0.4444444444444444,\"#bd3786\"],[0.5555555555555556,\"#d8576b\"],[0.6666666666666666,\"#ed7953\"],[0.7777777777777778,\"#fb9f3a\"],[0.8888888888888888,\"#fdca26\"],[1.0,\"#f0f921\"]],\"diverging\":[[0,\"#8e0152\"],[0.1,\"#c51b7d\"],[0.2,\"#de77ae\"],[0.3,\"#f1b6da\"],[0.4,\"#fde0ef\"],[0.5,\"#f7f7f7\"],[0.6,\"#e6f5d0\"],[0.7,\"#b8e186\"],[0.8,\"#7fbc41\"],[0.9,\"#4d9221\"],[1,\"#276419\"]]},\"xaxis\":{\"gridcolor\":\"white\",\"linecolor\":\"white\",\"ticks\":\"\",\"title\":{\"standoff\":15},\"zerolinecolor\":\"white\",\"automargin\":true,\"zerolinewidth\":2},\"yaxis\":{\"gridcolor\":\"white\",\"linecolor\":\"white\",\"ticks\":\"\",\"title\":{\"standoff\":15},\"zerolinecolor\":\"white\",\"automargin\":true,\"zerolinewidth\":2},\"scene\":{\"xaxis\":{\"backgroundcolor\":\"#E5ECF6\",\"gridcolor\":\"white\",\"linecolor\":\"white\",\"showbackground\":true,\"ticks\":\"\",\"zerolinecolor\":\"white\",\"gridwidth\":2},\"yaxis\":{\"backgroundcolor\":\"#E5ECF6\",\"gridcolor\":\"white\",\"linecolor\":\"white\",\"showbackground\":true,\"ticks\":\"\",\"zerolinecolor\":\"white\",\"gridwidth\":2},\"zaxis\":{\"backgroundcolor\":\"#E5ECF6\",\"gridcolor\":\"white\",\"linecolor\":\"white\",\"showbackground\":true,\"ticks\":\"\",\"zerolinecolor\":\"white\",\"gridwidth\":2}},\"shapedefaults\":{\"line\":{\"color\":\"#2a3f5f\"}},\"annotationdefaults\":{\"arrowcolor\":\"#2a3f5f\",\"arrowhead\":0,\"arrowwidth\":1},\"geo\":{\"bgcolor\":\"white\",\"landcolor\":\"#E5ECF6\",\"subunitcolor\":\"white\",\"showland\":true,\"showlakes\":true,\"lakecolor\":\"white\"},\"title\":{\"x\":0.05},\"mapbox\":{\"style\":\"light\"}}},\"xaxis\":{\"anchor\":\"y\",\"domain\":[0.0,1.0],\"title\":{\"text\":\"0\"}},\"yaxis\":{\"anchor\":\"x\",\"domain\":[0.0,1.0],\"title\":{\"text\":\"feature_name\"}},\"legend\":{\"tracegroupgap\":0},\"title\":{\"text\":\"Feature Importance\"},\"barmode\":\"relative\",\"height\":5000},                        {\"responsive\": true}                    ).then(function(){\n                            \nvar gd = document.getElementById('344ebe5e-afa0-4b7c-9e42-4fbddad91591');\nvar x = new MutationObserver(function (mutations, observer) {{\n        var display = window.getComputedStyle(gd).display;\n        if (!display || display === 'none') {{\n            console.log([gd, 'removed!']);\n            Plotly.purge(gd);\n            observer.disconnect();\n        }}\n}});\n\n// Listen for the removal of the full notebook cells\nvar notebookContainer = gd.closest('#notebook-container');\nif (notebookContainer) {{\n    x.observe(notebookContainer, {childList: true});\n}}\n\n// Listen for the clearing of the current output cell\nvar outputEl = gd.closest('.output');\nif (outputEl) {{\n    x.observe(outputEl, {childList: true});\n}}\n\n                        })                };                });            </script>        </div>"
     },
     "metadata": {},
     "output_type": "display_data"
    }
   ],
   "source": [
    "px.bar(feature_importance, y=\"feature_name\", x=0, orientation=\"h\", height=5000, title=\"Feature Importance\")"
   ],
   "metadata": {
    "collapsed": false,
    "ExecuteTime": {
     "end_time": "2024-01-09T22:38:38.916776200Z",
     "start_time": "2024-01-09T22:38:38.827582900Z"
    }
   },
   "id": "86167cd38717907e",
   "execution_count": 69
  },
  {
   "cell_type": "code",
   "outputs": [],
   "source": [],
   "metadata": {
    "collapsed": false,
    "ExecuteTime": {
     "end_time": "2024-01-09T22:38:38.925783300Z",
     "start_time": "2024-01-09T22:38:38.875194200Z"
    }
   },
   "id": "c41a0edc9f04f1aa",
   "execution_count": 69
  }
 ],
 "metadata": {
  "kernelspec": {
   "display_name": "Python 3",
   "language": "python",
   "name": "python3"
  },
  "language_info": {
   "codemirror_mode": {
    "name": "ipython",
    "version": 2
   },
   "file_extension": ".py",
   "mimetype": "text/x-python",
   "name": "python",
   "nbconvert_exporter": "python",
   "pygments_lexer": "ipython2",
   "version": "2.7.6"
  }
 },
 "nbformat": 4,
 "nbformat_minor": 5
}
