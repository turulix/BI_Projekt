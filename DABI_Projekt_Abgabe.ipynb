{
 "cells": [
  {
   "cell_type": "markdown",
   "id": "1deb94b7-4bea-40f4-98fc-1e9bc10ebac7",
   "metadata": {},
   "source": [
    "# DSCB310 – Abgabe Projektaufgabe WS2023/24\n",
    "\n",
    "Gruppennummer: 7\n",
    "\n",
    "Gruppenmitglieder:\n",
    "- 80768\n",
    "- 85083"
   ]
  },
  {
   "cell_type": "markdown",
   "id": "a6c8ffd6-e2d4-4fda-bac7-c90445ce78ce",
   "metadata": {},
   "source": [
    "#### Aufgaben:\n",
    "\n",
    "1. Gibt es „Angstgegner“-Nationen, gegen die die deutschen Spieler besonders schlecht\n",
    "abschneiden? Lässt sich das einfach durch die generelle Spielstärke der Spieler dieser\n",
    "Nationen erklären, oder gibt es Nationen, gegen die gerade deutsche Spieler schlecht\n",
    "abschneiden? Gibt es analog „Lieblingsgegner“-Nationen?\n",
    "2. Gibt es „Angstgegner“ einzelner deutscher Spieler, d.h. Paarungen, bei denen der deutsche\n",
    "Spieler schlechter abschneidet, als es aufgrund der allgemeinen Spielstärke beider Spieler zu\n",
    "erwarten ist? Gibt es analog „Lieblingsgegner“ einzelner deutscher Spieler?\n",
    "3. Gibt es Turniere, bei denen die Deutschen besonders gut oder besonders schlecht\n",
    "abschneiden? Wenn ja, ist ein regionales Muster oder eine andere Ursache zu erkennen?\n",
    "4. Wie entwickelt sich der sportliche Erfolg mit dem Alter? Gilt das für die Spielstatistiken\n",
    "gleichermaßen wie für die Platzierung auf der Rangliste?\n",
    "5. Sinkt die Wahrscheinlichkeit zu siegen, wenn das vorhergehende Spiel eines Spielers\n",
    "besonders lange gedauert hat?\n",
    "6. Gibt es einen Zusammenhang dazwischen, wie man zuletzt gegen einen bestimmten Gegner\n",
    "gespielt hat, und wie das nächste Spiel gegen diesen Gegner ausgehen wird?\n",
    "7. Wie gut lässt sich das Ergebnis eines Matches vorhersagen? Welches sind die wichtigsten\n",
    "Features für eine solche Prognose?"
   ]
  },
  {
   "cell_type": "markdown",
   "id": "5a647605-c10a-4163-bc61-bf1ba0d379b3",
   "metadata": {},
   "source": [
    "##### Empfehlung für das Notebook:  \n",
    "Führen Sie Ihre Visualisierungen auf und beschreiben Sie sehr knapp\n",
    "deren Interpretation sowie die Kernerkenntnisse in einer Markdown-Zelle bzw. auch dem Titel. Nutzen\n",
    "Sie einen angemessenen Detailgrad.  \n",
    "Die drei beschriebenen Aspekte „Vorverarbeitung“, „Analyse“ und „Visualisierung“ müssen nicht\n",
    "sequentiell „hintereinander“ abgehandelt werden; Stattdessen wird ein systematischer Aufbau des\n",
    "Notebooks erwartet, mit dem Sie für die genannten Zielgruppen „Data Stories“ (also Erkenntnisse aus\n",
    "den Daten) berichten können. "
   ]
  },
  {
   "cell_type": "code",
   "execution_count": null,
   "id": "910fcd81-7386-4f1e-9ba1-edfe5f496273",
   "metadata": {},
   "outputs": [],
   "source": []
  }
 ],
 "metadata": {
  "kernelspec": {
   "display_name": "Python 3 (ipykernel)",
   "language": "python",
   "name": "python3"
  },
  "language_info": {
   "codemirror_mode": {
    "name": "ipython",
    "version": 3
   },
   "file_extension": ".py",
   "mimetype": "text/x-python",
   "name": "python",
   "nbconvert_exporter": "python",
   "pygments_lexer": "ipython3",
   "version": "3.10.12"
  }
 },
 "nbformat": 4,
 "nbformat_minor": 5
}
