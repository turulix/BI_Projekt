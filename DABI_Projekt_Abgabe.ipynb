{
 "cells": [
  {
   "cell_type": "markdown",
   "id": "1deb94b7-4bea-40f4-98fc-1e9bc10ebac7",
   "metadata": {},
   "source": [
    "# DSCB310 – Abgabe Projektaufgabe WS2023/24\n",
    "\n",
    "Gruppennummer: 7\n",
    "\n",
    "Gruppenmitglieder:\n",
    "- 80768\n",
    "- 85083"
   ]
  },
  {
   "cell_type": "markdown",
   "id": "a6c8ffd6-e2d4-4fda-bac7-c90445ce78ce",
   "metadata": {},
   "source": [
    "#### Aufgaben:\n",
    "\n",
    "1. Gibt es „Angstgegner“-Nationen, gegen die die deutschen Spieler besonders schlecht\n",
    "abschneiden? Lässt sich das einfach durch die generelle Spielstärke der Spieler dieser\n",
    "Nationen erklären, oder gibt es Nationen, gegen die gerade deutsche Spieler schlecht\n",
    "abschneiden? Gibt es analog „Lieblingsgegner“-Nationen?\n",
    "2. Gibt es „Angstgegner“ einzelner deutscher Spieler, d.h. Paarungen, bei denen der deutsche\n",
    "Spieler schlechter abschneidet, als es aufgrund der allgemeinen Spielstärke beider Spieler zu\n",
    "erwarten ist? Gibt es analog „Lieblingsgegner“ einzelner deutscher Spieler?\n",
    "3. Gibt es Turniere, bei denen die Deutschen besonders gut oder besonders schlecht\n",
    "abschneiden? Wenn ja, ist ein regionales Muster oder eine andere Ursache zu erkennen?\n",
    "4. Wie entwickelt sich der sportliche Erfolg mit dem Alter? Gilt das für die Spielstatistiken\n",
    "gleichermaßen wie für die Platzierung auf der Rangliste?\n",
    "5. Sinkt die Wahrscheinlichkeit zu siegen, wenn das vorhergehende Spiel eines Spielers\n",
    "besonders lange gedauert hat?\n",
    "6. Gibt es einen Zusammenhang dazwischen, wie man zuletzt gegen einen bestimmten Gegner\n",
    "gespielt hat, und wie das nächste Spiel gegen diesen Gegner ausgehen wird?\n",
    "7. Wie gut lässt sich das Ergebnis eines Matches vorhersagen? Welches sind die wichtigsten\n",
    "Features für eine solche Prognose?"
   ]
  },
  {
   "cell_type": "markdown",
   "id": "96a0ad9a-d88c-42cb-b6a9-2d9e4c010ab9",
   "metadata": {},
   "source": [
    "Für das Power BI Dashboard wurde die sportliche Leitung des deutschen Tennisverbands ausgewählt.  \n",
    "Zu deckender Informationsbedarf:\n",
    "- Überblick über die weltweite Verteilung der Veranstaltungsorte\n",
    "- Daraus resultierende Abschätzungsmöglichkeiten für zu erwartende Reisekosten und -dauer\n",
    "- Einordnung der Leistung aller Spieler des Verbands im Verhältnis zu den Verbänden anderer Länder\n",
    "- Analyse eines messbaren Kriteriums zur möglichen Betrachtung bei der Kaderauswahl von Nachwuchssportlern"
   ]
  },
  {
   "cell_type": "code",
   "execution_count": null,
   "id": "9219b287-a637-498c-b3d7-c2be81c826f0",
   "metadata": {},
   "outputs": [],
   "source": []
  }
 ],
 "metadata": {
  "kernelspec": {
   "display_name": "Python 3 (ipykernel)",
   "language": "python",
   "name": "python3"
  },
  "language_info": {
   "codemirror_mode": {
    "name": "ipython",
    "version": 3
   },
   "file_extension": ".py",
   "mimetype": "text/x-python",
   "name": "python",
   "nbconvert_exporter": "python",
   "pygments_lexer": "ipython3",
   "version": "3.10.12"
  }
 },
 "nbformat": 4,
 "nbformat_minor": 5
}
