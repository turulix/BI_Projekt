{
 "cells": [
  {
   "cell_type": "markdown",
   "id": "ed580be8-4a35-40d4-991a-8a0b4c199e8e",
   "metadata": {},
   "source": [
    "# BI-Projekt\n",
    "## Aufgabe 5"
   ]
  },
  {
   "cell_type": "markdown",
   "id": "4e0c41fe-bc5a-4d61-929e-b2b96c624558",
   "metadata": {},
   "source": [
    "***5. Sinkt die Wahrscheinlichkeit zu siegen, wenn das vorhergehende Spiel eines Spielers besonders lange gedauert hat?***"
   ]
  },
  {
   "cell_type": "markdown",
   "id": "ffd9e00b-0c75-4340-b267-11070868f3fa",
   "metadata": {},
   "source": [
    "Bei dieser Frage muss erstmal definiert werden, was ein \"besonders langes\" Spiel überhaupt ist. Verglichen mit zum Beispiel Fußball wird Tennis nicht nach Zeit gespielt sondern es muss eine bestimmte Anzahl an Sätzen gewonnen werden. Hat man diese Zahl der Gewinnsätze erreicht, so endet das Spiel. In der \"atp_matches_till_2022.csv\" sehen wir einige Features, die eventuell besonders Hinweise liefern können auf die Länge eines Spieles."
   ]
  },
  {
   "cell_type": "code",
   "execution_count": 8,
   "id": "699bf098-0bd0-47b4-923d-0cfeb2240570",
   "metadata": {
    "tags": []
   },
   "outputs": [
    {
     "data": {
      "text/plain": [
       "tourney_id             object\n",
       "tourney_name           object\n",
       "surface                object\n",
       "draw_size               int64\n",
       "tourney_level          object\n",
       "tourney_date            int64\n",
       "match_num               int64\n",
       "winner_id               int64\n",
       "winner_seed           float64\n",
       "winner_entry           object\n",
       "winner_name            object\n",
       "winner_hand            object\n",
       "winner_ht             float64\n",
       "winner_ioc             object\n",
       "winner_age            float64\n",
       "loser_id                int64\n",
       "loser_seed            float64\n",
       "loser_entry            object\n",
       "loser_name             object\n",
       "loser_hand             object\n",
       "loser_ht              float64\n",
       "loser_ioc              object\n",
       "loser_age             float64\n",
       "score                  object\n",
       "best_of                 int64\n",
       "round                  object\n",
       "minutes               float64\n",
       "w_ace                 float64\n",
       "w_df                  float64\n",
       "w_svpt                float64\n",
       "w_1stIn               float64\n",
       "w_1stWon              float64\n",
       "w_2ndWon              float64\n",
       "w_SvGms               float64\n",
       "w_bpSaved             float64\n",
       "w_bpFaced             float64\n",
       "l_ace                 float64\n",
       "l_df                  float64\n",
       "l_svpt                float64\n",
       "l_1stIn               float64\n",
       "l_1stWon              float64\n",
       "l_2ndWon              float64\n",
       "l_SvGms               float64\n",
       "l_bpSaved             float64\n",
       "l_bpFaced             float64\n",
       "winner_rank           float64\n",
       "winner_rank_points    float64\n",
       "loser_rank            float64\n",
       "loser_rank_points     float64\n",
       "dtype: object"
      ]
     },
     "execution_count": 8,
     "metadata": {},
     "output_type": "execute_result"
    }
   ],
   "source": [
    "#Relevante module\n",
    "import plotly.express as px\n",
    "import pandas as pd\n",
    "import numpy as np\n",
    "import missingno as mn\n",
    "\n",
    "df_matches = pd.read_csv(\"data/atp_matches_till_2022.csv\")\n",
    "df_matches.dtypes"
   ]
  },
  {
   "cell_type": "markdown",
   "id": "d0a21f16-0a47-40d9-8230-27567f19535b",
   "metadata": {},
   "source": [
    "Interessant scheinen die Features: score, best_of und minutes.  \n",
    "- score  \n",
    "Wenn man sich mit den Tennisregeln etwas stärker beschäftigt, dann stellt man aber fest das ein Satz endet wenn ein Spieler zuerst 6 Aufschlagspiele gewinnt mit der Voraussetzung dieser hat einen Vorsprung von mindestens zwei Aufschlagspielen gegenüber des Gegners. Damit gibt es die Möglichkeit, dass tatsächlich ein Satz der mit 6:1 gewonnen wurde, länger dauert als ein Satz der mit 7:5 gewonnen wurde (Was aber nicht die Regel sein sollte.). Damit ist die score nicht ganz geeignet.  \n",
    "- best_of  \n",
    "Das nächste Feature best_of sagt uns die maximale Anzahl von Sätzen die gespielt wird(und auch die Mindestzahl).\n"
   ]
  },
  {
   "cell_type": "code",
   "execution_count": 3,
   "id": "57d8617c-ed27-457f-9a9f-0a37bbd1013e",
   "metadata": {
    "tags": []
   },
   "outputs": [
    {
     "data": {
      "text/plain": [
       "array([3, 5, 1], dtype=int64)"
      ]
     },
     "execution_count": 3,
     "metadata": {},
     "output_type": "execute_result"
    }
   ],
   "source": [
    "#Welche best_of gibt es überhaupt?\n",
    "df_matches.best_of.unique()"
   ]
  },
  {
   "cell_type": "markdown",
   "id": "28f6c783-5240-41ed-ad74-ab95e8793dcb",
   "metadata": {},
   "source": [
    " Zum Beispiel wird bei einem best_of 5 erwartet, dass mindestens 3 Sätze gespielt werden.  \n",
    " Es werden ein paar Zeilen zur Überprüfung ausgegeben, ob die Scores auch zum best_of passen:"
   ]
  },
  {
   "cell_type": "code",
   "execution_count": 6,
   "id": "40b166bc-2ec4-4298-8dd6-ff17cebcc84c",
   "metadata": {
    "tags": []
   },
   "outputs": [
    {
     "data": {
      "text/html": [
       "<div>\n",
       "<style scoped>\n",
       "    .dataframe tbody tr th:only-of-type {\n",
       "        vertical-align: middle;\n",
       "    }\n",
       "\n",
       "    .dataframe tbody tr th {\n",
       "        vertical-align: top;\n",
       "    }\n",
       "\n",
       "    .dataframe thead th {\n",
       "        text-align: right;\n",
       "    }\n",
       "</style>\n",
       "<table border=\"1\" class=\"dataframe\">\n",
       "  <thead>\n",
       "    <tr style=\"text-align: right;\">\n",
       "      <th></th>\n",
       "      <th>score</th>\n",
       "    </tr>\n",
       "  </thead>\n",
       "  <tbody>\n",
       "    <tr>\n",
       "      <th>31</th>\n",
       "      <td>6-1 6-4 6-4</td>\n",
       "    </tr>\n",
       "    <tr>\n",
       "      <th>32</th>\n",
       "      <td>6-3 6-2 0-6 6-3</td>\n",
       "    </tr>\n",
       "    <tr>\n",
       "      <th>33</th>\n",
       "      <td>11-9 9-11 6-4 6-3</td>\n",
       "    </tr>\n",
       "    <tr>\n",
       "      <th>34</th>\n",
       "      <td>6-1 4-6 10-8 6-3</td>\n",
       "    </tr>\n",
       "    <tr>\n",
       "      <th>35</th>\n",
       "      <td>6-2 8-6 6-2</td>\n",
       "    </tr>\n",
       "    <tr>\n",
       "      <th>36</th>\n",
       "      <td>6-4 8-10 6-4 6-4</td>\n",
       "    </tr>\n",
       "    <tr>\n",
       "      <th>37</th>\n",
       "      <td>9-7 6-4 6-4</td>\n",
       "    </tr>\n",
       "    <tr>\n",
       "      <th>38</th>\n",
       "      <td>6-4 8-6 8-6</td>\n",
       "    </tr>\n",
       "    <tr>\n",
       "      <th>39</th>\n",
       "      <td>6-4 6-4 6-2</td>\n",
       "    </tr>\n",
       "    <tr>\n",
       "      <th>40</th>\n",
       "      <td>6-4 6-3 6-2</td>\n",
       "    </tr>\n",
       "  </tbody>\n",
       "</table>\n",
       "</div>"
      ],
      "text/plain": [
       "                score\n",
       "31        6-1 6-4 6-4\n",
       "32    6-3 6-2 0-6 6-3\n",
       "33  11-9 9-11 6-4 6-3\n",
       "34   6-1 4-6 10-8 6-3\n",
       "35        6-2 8-6 6-2\n",
       "36   6-4 8-10 6-4 6-4\n",
       "37        9-7 6-4 6-4\n",
       "38        6-4 8-6 8-6\n",
       "39        6-4 6-4 6-2\n",
       "40        6-4 6-3 6-2"
      ]
     },
     "metadata": {},
     "output_type": "display_data"
    }
   ],
   "source": [
    "display(df_matches.loc[df_matches['best_of'].eq(5)][['score']].head(10))"
   ]
  },
  {
   "cell_type": "markdown",
   "id": "8ff63142-98a0-4c4c-a171-e9e93956af20",
   "metadata": {},
   "source": [
    "Es scheint zu passen auf den ersten Blick.  \n",
    "- minutes  \n",
    "Das am meisten geeignetste Feature ist aber offensichtlich minutes, der wie der Name verrät die Dauer eines Spiels(Matches) in Minuten angibt. Aber es darf nicht Blind nur auf die Minuten geguckt werden denn wir sollten beachten, ob ein Spiel für ein best_of 5 oder ein best_of 3 besonders lange gedauert hat. Das Feature minutes hat aber einen kleinen Makel wenn auf die Null-Werte geschaut wird der relevanten Features:"
   ]
  },
  {
   "cell_type": "code",
   "execution_count": 9,
   "id": "26f290ef-f2c6-4f48-b2d3-f71f4bfdbd54",
   "metadata": {
    "tags": []
   },
   "outputs": [
    {
     "data": {
      "text/plain": [
       "<Axes: >"
      ]
     },
     "execution_count": 9,
     "metadata": {},
     "output_type": "execute_result"
    },
    {
     "data": {
      "image/png": "[encoded data removed]",
      "text/plain": [
       "<Figure size 2500x1000 with 2 Axes>"
      ]
     },
     "metadata": {},
     "output_type": "display_data"
    }
   ],
   "source": [
    "mn.matrix(df_matches[['tourney_id','score','best_of','minutes']])"
   ]
  },
  {
   "cell_type": "markdown",
   "id": "ad141147-678d-44e9-b7db-354f68d4e945",
   "metadata": {},
   "source": [
    "Es fällt direkt auf, dass die Minuten eines Spieles nicht immer aufgezeichnet wurden."
   ]
  },
  {
   "cell_type": "code",
   "execution_count": 12,
   "id": "9de521cc-3d2c-49aa-8ca3-1cd9858dd3d5",
   "metadata": {
    "tags": []
   },
   "outputs": [
    {
     "data": {
      "text/plain": [
       "188161"
      ]
     },
     "metadata": {},
     "output_type": "display_data"
    }
   ],
   "source": [
    "#Anzahl matches\n",
    "display(len(df_matches))"
   ]
  },
  {
   "cell_type": "code",
   "execution_count": 13,
   "id": "f2e9400f-0d0b-477b-949e-52bf62918476",
   "metadata": {
    "tags": []
   },
   "outputs": [
    {
     "data": {
      "text/plain": [
       "98650"
      ]
     },
     "metadata": {},
     "output_type": "display_data"
    }
   ],
   "source": [
    "#Anzahl matches bei denen die minuten fehlen\n",
    "fehlend = df_matches['minutes'].isnull().sum()\n",
    "display(fehlend)"
   ]
  },
  {
   "cell_type": "code",
   "execution_count": 14,
   "id": "8d157293-44bb-4f5d-aa03-960eb3738aa6",
   "metadata": {
    "tags": []
   },
   "outputs": [
    {
     "data": {
      "text/plain": [
       "89511"
      ]
     },
     "metadata": {},
     "output_type": "display_data"
    }
   ],
   "source": [
    "#Anzahl Einträge mit minutes\n",
    "display(len(df_matches)-fehlend)"
   ]
  },
  {
   "cell_type": "markdown",
   "id": "7afa39d3-c7b0-4666-bfef-012a66f098c9",
   "metadata": {},
   "source": [
    "Es fällt direkt auf, dass die Minuten eines Spieles nicht immer aufgezeichnet wurden."
   ]
  },
  {
   "cell_type": "markdown",
   "id": "03f9516a-7cba-45c5-92cd-a4ebb14324d5",
   "metadata": {},
   "source": [
    "Es fehlen mehr als die Hälfte aller Einträge von minutes. Eventuell ist dies aber gar nicht problematisch, da sich Tennis von vor 50 Jahren sicherlich unterscheidet von Tennis von heute und somit etwas relevantere Daten nur verwendet.   \n",
    "Da nun die relevanten Features bekannt sind, stellt sich nun die Frage was denn nun genau ein \"besonders langes\" Spiel ist?  \n",
    "Bei unserer Definition berücksichtigen wir das best_of. Dabei gilt nun:  \n",
    "Ein Spiel gilt als \"besonders\" lange, wenn es länger gedauert hat als das 95% Quantil => Also wenn es in die oberen 5% gehört.  \n",
    "  \n",
    "Wir vergleichen Ohne Berücksichtigung des best_of und mit Berücksichtigung best_of:\n"
   ]
  },
  {
   "cell_type": "code",
   "execution_count": 17,
   "id": "c6f01d65-3b62-4dbc-ac68-eb8aa9aa7ca3",
   "metadata": {
    "tags": []
   },
   "outputs": [
    {
     "data": {
      "text/plain": [
       "176.0"
      ]
     },
     "execution_count": 17,
     "metadata": {},
     "output_type": "execute_result"
    }
   ],
   "source": [
    "quantile_95 = df_matches['minutes'].quantile(0.95) #quantile methode schließt null-werte bereits aus.\n",
    "quantile_95"
   ]
  },
  {
   "cell_type": "markdown",
   "id": "8a6336f1-c27b-4cc6-9e90-ed838485a626",
   "metadata": {},
   "source": [
    "Ein besonders langes Spiel ohne Rücksicht auf best_of wäre also ein Spiel was länger gedauert hat als ca. 3 Stunden."
   ]
  },
  {
   "cell_type": "code",
   "execution_count": 24,
   "id": "9efc89e3-1ac0-4ac3-ade3-e6d8417c8d28",
   "metadata": {
    "tags": []
   },
   "outputs": [
    {
     "data": {
      "text/html": [
       "<div>\n",
       "<style scoped>\n",
       "    .dataframe tbody tr th:only-of-type {\n",
       "        vertical-align: middle;\n",
       "    }\n",
       "\n",
       "    .dataframe tbody tr th {\n",
       "        vertical-align: top;\n",
       "    }\n",
       "\n",
       "    .dataframe thead th {\n",
       "        text-align: right;\n",
       "    }\n",
       "</style>\n",
       "<table border=\"1\" class=\"dataframe\">\n",
       "  <thead>\n",
       "    <tr style=\"text-align: right;\">\n",
       "      <th></th>\n",
       "      <th>best_of</th>\n",
       "      <th>minutes</th>\n",
       "    </tr>\n",
       "  </thead>\n",
       "  <tbody>\n",
       "    <tr>\n",
       "      <th>0</th>\n",
       "      <td>1</td>\n",
       "      <td>NaN</td>\n",
       "    </tr>\n",
       "    <tr>\n",
       "      <th>1</th>\n",
       "      <td>3</td>\n",
       "      <td>152.0</td>\n",
       "    </tr>\n",
       "    <tr>\n",
       "      <th>2</th>\n",
       "      <td>5</td>\n",
       "      <td>232.0</td>\n",
       "    </tr>\n",
       "  </tbody>\n",
       "</table>\n",
       "</div>"
      ],
      "text/plain": [
       "   best_of  minutes\n",
       "0        1      NaN\n",
       "1        3    152.0\n",
       "2        5    232.0"
      ]
     },
     "execution_count": 24,
     "metadata": {},
     "output_type": "execute_result"
    }
   ],
   "source": [
    "#Wir berücksichtigen best_of jetzt\n",
    "quantile_95_best_of = df_matches.groupby('best_of')['minutes'].quantile(0.95).reset_index()\n",
    "quantile_95_best_of"
   ]
  },
  {
   "cell_type": "markdown",
   "id": "e35bffc9-99d8-4aa8-8c39-012e3b69cac3",
   "metadata": {},
   "source": [
    "Ein besonders langes best_of 3 dauert als mehr als ca. 150 min und ein best_of 5 dauert fast mehr als 4 Stunden. Aber was ist passiert bei best_of 1? Es wird nachgeprüft:"
   ]
  },
  {
   "cell_type": "code",
   "execution_count": 21,
   "id": "da3c46ec-bf7b-4fe1-8723-ca1f2a44e02f",
   "metadata": {
    "tags": []
   },
   "outputs": [
    {
     "data": {
      "text/plain": [
       "array([3, 5], dtype=int64)"
      ]
     },
     "execution_count": 21,
     "metadata": {},
     "output_type": "execute_result"
    }
   ],
   "source": [
    "#Entfernen aller Zeilen bei denen keine minuten aufzeichnet wurden.\n",
    "#Danach prüfen ob es tatsächlich keine best_of 1 mehr gibt\n",
    "df_matches.dropna(subset= 'minutes')['best_of'].unique()"
   ]
  },
  {
   "cell_type": "markdown",
   "id": "6615ae01-edce-4b7a-8b97-e2afb99831fe",
   "metadata": {},
   "source": [
    "Tatsächlich, bei jedem best_of 1 wurden keine minutes aufgenommen."
   ]
  },
  {
   "cell_type": "markdown",
   "id": "a8b45413-d9fe-40a2-8161-969fbb2c02e8",
   "metadata": {},
   "source": [
    "Es sollen nun alle Matches mit einem neuem Feature ausgestattet werden, die besonders lange gingen (Abhängig von best_of)."
   ]
  },
  {
   "cell_type": "code",
   "execution_count": 26,
   "id": "1d26c681-c241-4557-9dec-08a2bb93e4b1",
   "metadata": {
    "tags": []
   },
   "outputs": [
    {
     "data": {
      "text/html": [
       "<div>\n",
       "<style scoped>\n",
       "    .dataframe tbody tr th:only-of-type {\n",
       "        vertical-align: middle;\n",
       "    }\n",
       "\n",
       "    .dataframe tbody tr th {\n",
       "        vertical-align: top;\n",
       "    }\n",
       "\n",
       "    .dataframe thead th {\n",
       "        text-align: right;\n",
       "    }\n",
       "</style>\n",
       "<table border=\"1\" class=\"dataframe\">\n",
       "  <thead>\n",
       "    <tr style=\"text-align: right;\">\n",
       "      <th></th>\n",
       "      <th>best_of</th>\n",
       "      <th>duration_quantile_95</th>\n",
       "    </tr>\n",
       "  </thead>\n",
       "  <tbody>\n",
       "    <tr>\n",
       "      <th>0</th>\n",
       "      <td>1</td>\n",
       "      <td>NaN</td>\n",
       "    </tr>\n",
       "    <tr>\n",
       "      <th>1</th>\n",
       "      <td>3</td>\n",
       "      <td>152.0</td>\n",
       "    </tr>\n",
       "    <tr>\n",
       "      <th>2</th>\n",
       "      <td>5</td>\n",
       "      <td>232.0</td>\n",
       "    </tr>\n",
       "  </tbody>\n",
       "</table>\n",
       "</div>"
      ],
      "text/plain": [
       "   best_of  duration_quantile_95\n",
       "0        1                   NaN\n",
       "1        3                 152.0\n",
       "2        5                 232.0"
      ]
     },
     "execution_count": 26,
     "metadata": {},
     "output_type": "execute_result"
    }
   ],
   "source": [
    "#Wir geben der Spalte einen besseren namen noch\n",
    "quantile_95_best_of = quantile_95_best_of.rename(columns={'minutes': 'duration_quantile_95'})\n",
    "quantile_95_best_of"
   ]
  },
  {
   "cell_type": "code",
   "execution_count": 30,
   "id": "3572e7cc-e282-4583-a255-314d6293fa7e",
   "metadata": {
    "tags": []
   },
   "outputs": [
    {
     "data": {
      "text/html": [
       "<div>\n",
       "<style scoped>\n",
       "    .dataframe tbody tr th:only-of-type {\n",
       "        vertical-align: middle;\n",
       "    }\n",
       "\n",
       "    .dataframe tbody tr th {\n",
       "        vertical-align: top;\n",
       "    }\n",
       "\n",
       "    .dataframe thead th {\n",
       "        text-align: right;\n",
       "    }\n",
       "</style>\n",
       "<table border=\"1\" class=\"dataframe\">\n",
       "  <thead>\n",
       "    <tr style=\"text-align: right;\">\n",
       "      <th></th>\n",
       "      <th>tourney_id</th>\n",
       "      <th>tourney_name</th>\n",
       "      <th>surface</th>\n",
       "      <th>draw_size</th>\n",
       "      <th>tourney_level</th>\n",
       "      <th>tourney_date</th>\n",
       "      <th>match_num</th>\n",
       "      <th>winner_id</th>\n",
       "      <th>winner_seed</th>\n",
       "      <th>winner_entry</th>\n",
       "      <th>...</th>\n",
       "      <th>l_1stWon</th>\n",
       "      <th>l_2ndWon</th>\n",
       "      <th>l_SvGms</th>\n",
       "      <th>l_bpSaved</th>\n",
       "      <th>l_bpFaced</th>\n",
       "      <th>winner_rank</th>\n",
       "      <th>winner_rank_points</th>\n",
       "      <th>loser_rank</th>\n",
       "      <th>loser_rank_points</th>\n",
       "      <th>duration_quantile_95</th>\n",
       "    </tr>\n",
       "  </thead>\n",
       "  <tbody>\n",
       "    <tr>\n",
       "      <th>95761</th>\n",
       "      <td>1993-321</td>\n",
       "      <td>Stuttgart Outdoor</td>\n",
       "      <td>Clay</td>\n",
       "      <td>56</td>\n",
       "      <td>A</td>\n",
       "      <td>19930719</td>\n",
       "      <td>2</td>\n",
       "      <td>101594</td>\n",
       "      <td>NaN</td>\n",
       "      <td>WC</td>\n",
       "      <td>...</td>\n",
       "      <td>12.0</td>\n",
       "      <td>10.0</td>\n",
       "      <td>8.0</td>\n",
       "      <td>1.0</td>\n",
       "      <td>6.0</td>\n",
       "      <td>114.0</td>\n",
       "      <td>360.0</td>\n",
       "      <td>73.0</td>\n",
       "      <td>545.0</td>\n",
       "      <td>152.0</td>\n",
       "    </tr>\n",
       "    <tr>\n",
       "      <th>172669</th>\n",
       "      <td>2017-580</td>\n",
       "      <td>Australian Open</td>\n",
       "      <td>Hard</td>\n",
       "      <td>128</td>\n",
       "      <td>G</td>\n",
       "      <td>20170116</td>\n",
       "      <td>195</td>\n",
       "      <td>104797</td>\n",
       "      <td>NaN</td>\n",
       "      <td>NaN</td>\n",
       "      <td>...</td>\n",
       "      <td>77.0</td>\n",
       "      <td>43.0</td>\n",
       "      <td>27.0</td>\n",
       "      <td>10.0</td>\n",
       "      <td>14.0</td>\n",
       "      <td>117.0</td>\n",
       "      <td>498.0</td>\n",
       "      <td>2.0</td>\n",
       "      <td>11780.0</td>\n",
       "      <td>232.0</td>\n",
       "    </tr>\n",
       "    <tr>\n",
       "      <th>136953</th>\n",
       "      <td>2005-414</td>\n",
       "      <td>Hamburg Masters</td>\n",
       "      <td>Clay</td>\n",
       "      <td>64</td>\n",
       "      <td>M</td>\n",
       "      <td>20050509</td>\n",
       "      <td>54</td>\n",
       "      <td>103294</td>\n",
       "      <td>NaN</td>\n",
       "      <td>Q</td>\n",
       "      <td>...</td>\n",
       "      <td>42.0</td>\n",
       "      <td>14.0</td>\n",
       "      <td>14.0</td>\n",
       "      <td>12.0</td>\n",
       "      <td>18.0</td>\n",
       "      <td>68.0</td>\n",
       "      <td>566.0</td>\n",
       "      <td>6.0</td>\n",
       "      <td>2370.0</td>\n",
       "      <td>152.0</td>\n",
       "    </tr>\n",
       "    <tr>\n",
       "      <th>117196</th>\n",
       "      <td>1999-308</td>\n",
       "      <td>Munich</td>\n",
       "      <td>Clay</td>\n",
       "      <td>32</td>\n",
       "      <td>A</td>\n",
       "      <td>19990426</td>\n",
       "      <td>15</td>\n",
       "      <td>102318</td>\n",
       "      <td>NaN</td>\n",
       "      <td>NaN</td>\n",
       "      <td>...</td>\n",
       "      <td>11.0</td>\n",
       "      <td>11.0</td>\n",
       "      <td>8.0</td>\n",
       "      <td>4.0</td>\n",
       "      <td>9.0</td>\n",
       "      <td>77.0</td>\n",
       "      <td>619.0</td>\n",
       "      <td>490.0</td>\n",
       "      <td>49.0</td>\n",
       "      <td>152.0</td>\n",
       "    </tr>\n",
       "    <tr>\n",
       "      <th>169462</th>\n",
       "      <td>2015-352</td>\n",
       "      <td>Paris Masters</td>\n",
       "      <td>Hard</td>\n",
       "      <td>48</td>\n",
       "      <td>M</td>\n",
       "      <td>20151102</td>\n",
       "      <td>34</td>\n",
       "      <td>104607</td>\n",
       "      <td>5.0</td>\n",
       "      <td>NaN</td>\n",
       "      <td>...</td>\n",
       "      <td>22.0</td>\n",
       "      <td>10.0</td>\n",
       "      <td>9.0</td>\n",
       "      <td>4.0</td>\n",
       "      <td>7.0</td>\n",
       "      <td>5.0</td>\n",
       "      <td>4730.0</td>\n",
       "      <td>10.0</td>\n",
       "      <td>2545.0</td>\n",
       "      <td>152.0</td>\n",
       "    </tr>\n",
       "  </tbody>\n",
       "</table>\n",
       "<p>5 rows × 50 columns</p>\n",
       "</div>"
      ],
      "text/plain": [
       "       tourney_id       tourney_name surface  draw_size tourney_level  \\\n",
       "95761    1993-321  Stuttgart Outdoor    Clay         56             A   \n",
       "172669   2017-580    Australian Open    Hard        128             G   \n",
       "136953   2005-414    Hamburg Masters    Clay         64             M   \n",
       "117196   1999-308             Munich    Clay         32             A   \n",
       "169462   2015-352      Paris Masters    Hard         48             M   \n",
       "\n",
       "        tourney_date  match_num  winner_id  winner_seed winner_entry  ...  \\\n",
       "95761       19930719          2     101594          NaN           WC  ...   \n",
       "172669      20170116        195     104797          NaN          NaN  ...   \n",
       "136953      20050509         54     103294          NaN            Q  ...   \n",
       "117196      19990426         15     102318          NaN          NaN  ...   \n",
       "169462      20151102         34     104607          5.0          NaN  ...   \n",
       "\n",
       "       l_1stWon l_2ndWon  l_SvGms l_bpSaved  l_bpFaced  winner_rank  \\\n",
       "95761      12.0     10.0      8.0       1.0        6.0        114.0   \n",
       "172669     77.0     43.0     27.0      10.0       14.0        117.0   \n",
       "136953     42.0     14.0     14.0      12.0       18.0         68.0   \n",
       "117196     11.0     11.0      8.0       4.0        9.0         77.0   \n",
       "169462     22.0     10.0      9.0       4.0        7.0          5.0   \n",
       "\n",
       "        winner_rank_points loser_rank loser_rank_points duration_quantile_95  \n",
       "95761                360.0       73.0             545.0                152.0  \n",
       "172669               498.0        2.0           11780.0                232.0  \n",
       "136953               566.0        6.0            2370.0                152.0  \n",
       "117196               619.0      490.0              49.0                152.0  \n",
       "169462              4730.0       10.0            2545.0                152.0  \n",
       "\n",
       "[5 rows x 50 columns]"
      ]
     },
     "execution_count": 30,
     "metadata": {},
     "output_type": "execute_result"
    }
   ],
   "source": [
    "#Hinzufügen des neuen Features duration_quantile_95 in abhängig von best_of\n",
    "df_merge = pd.merge(df_matches, quantile_95_best_of, on='best_of', how='left')\n",
    "df_merge.sample(5)"
   ]
  },
  {
   "cell_type": "markdown",
   "id": "db840a37-887f-4418-97dc-b490e72a7bb9",
   "metadata": {},
   "source": [
    "Jetzt kann leicht nach besonders langen Spielen gefiltert werden."
   ]
  },
  {
   "cell_type": "code",
   "execution_count": 33,
   "id": "97e43266-8ee8-4ff3-8077-7c20ebe4ef44",
   "metadata": {
    "tags": []
   },
   "outputs": [
    {
     "data": {
      "text/html": [
       "<div>\n",
       "<style scoped>\n",
       "    .dataframe tbody tr th:only-of-type {\n",
       "        vertical-align: middle;\n",
       "    }\n",
       "\n",
       "    .dataframe tbody tr th {\n",
       "        vertical-align: top;\n",
       "    }\n",
       "\n",
       "    .dataframe thead th {\n",
       "        text-align: right;\n",
       "    }\n",
       "</style>\n",
       "<table border=\"1\" class=\"dataframe\">\n",
       "  <thead>\n",
       "    <tr style=\"text-align: right;\">\n",
       "      <th></th>\n",
       "      <th>tourney_id</th>\n",
       "      <th>tourney_name</th>\n",
       "      <th>surface</th>\n",
       "      <th>draw_size</th>\n",
       "      <th>tourney_level</th>\n",
       "      <th>tourney_date</th>\n",
       "      <th>match_num</th>\n",
       "      <th>winner_id</th>\n",
       "      <th>winner_seed</th>\n",
       "      <th>winner_entry</th>\n",
       "      <th>...</th>\n",
       "      <th>l_1stWon</th>\n",
       "      <th>l_2ndWon</th>\n",
       "      <th>l_SvGms</th>\n",
       "      <th>l_bpSaved</th>\n",
       "      <th>l_bpFaced</th>\n",
       "      <th>winner_rank</th>\n",
       "      <th>winner_rank_points</th>\n",
       "      <th>loser_rank</th>\n",
       "      <th>loser_rank_points</th>\n",
       "      <th>duration_quantile_95</th>\n",
       "    </tr>\n",
       "  </thead>\n",
       "  <tbody>\n",
       "    <tr>\n",
       "      <th>85857</th>\n",
       "      <td>1991-339</td>\n",
       "      <td>Adelaide</td>\n",
       "      <td>Hard</td>\n",
       "      <td>32</td>\n",
       "      <td>A</td>\n",
       "      <td>19901231</td>\n",
       "      <td>10</td>\n",
       "      <td>101332</td>\n",
       "      <td>NaN</td>\n",
       "      <td>NaN</td>\n",
       "      <td>...</td>\n",
       "      <td>52.0</td>\n",
       "      <td>25.0</td>\n",
       "      <td>17.0</td>\n",
       "      <td>5.0</td>\n",
       "      <td>9.0</td>\n",
       "      <td>66.0</td>\n",
       "      <td>NaN</td>\n",
       "      <td>228.0</td>\n",
       "      <td>NaN</td>\n",
       "      <td>152.0</td>\n",
       "    </tr>\n",
       "    <tr>\n",
       "      <th>85907</th>\n",
       "      <td>1991-354</td>\n",
       "      <td>Wellington</td>\n",
       "      <td>Hard</td>\n",
       "      <td>32</td>\n",
       "      <td>A</td>\n",
       "      <td>19901231</td>\n",
       "      <td>29</td>\n",
       "      <td>101735</td>\n",
       "      <td>3.0</td>\n",
       "      <td>NaN</td>\n",
       "      <td>...</td>\n",
       "      <td>55.0</td>\n",
       "      <td>16.0</td>\n",
       "      <td>16.0</td>\n",
       "      <td>4.0</td>\n",
       "      <td>8.0</td>\n",
       "      <td>32.0</td>\n",
       "      <td>NaN</td>\n",
       "      <td>80.0</td>\n",
       "      <td>NaN</td>\n",
       "      <td>152.0</td>\n",
       "    </tr>\n",
       "    <tr>\n",
       "      <th>85981</th>\n",
       "      <td>1991-580</td>\n",
       "      <td>Australian Open</td>\n",
       "      <td>Hard</td>\n",
       "      <td>128</td>\n",
       "      <td>G</td>\n",
       "      <td>19910114</td>\n",
       "      <td>10</td>\n",
       "      <td>101642</td>\n",
       "      <td>NaN</td>\n",
       "      <td>Q</td>\n",
       "      <td>...</td>\n",
       "      <td>78.0</td>\n",
       "      <td>38.0</td>\n",
       "      <td>31.0</td>\n",
       "      <td>16.0</td>\n",
       "      <td>29.0</td>\n",
       "      <td>143.0</td>\n",
       "      <td>241.0</td>\n",
       "      <td>79.0</td>\n",
       "      <td>462.0</td>\n",
       "      <td>232.0</td>\n",
       "    </tr>\n",
       "    <tr>\n",
       "      <th>86083</th>\n",
       "      <td>1991-580</td>\n",
       "      <td>Australian Open</td>\n",
       "      <td>Hard</td>\n",
       "      <td>128</td>\n",
       "      <td>G</td>\n",
       "      <td>19910114</td>\n",
       "      <td>112</td>\n",
       "      <td>101414</td>\n",
       "      <td>2.0</td>\n",
       "      <td>NaN</td>\n",
       "      <td>...</td>\n",
       "      <td>77.0</td>\n",
       "      <td>61.0</td>\n",
       "      <td>33.0</td>\n",
       "      <td>15.0</td>\n",
       "      <td>20.0</td>\n",
       "      <td>2.0</td>\n",
       "      <td>3528.0</td>\n",
       "      <td>45.0</td>\n",
       "      <td>641.0</td>\n",
       "      <td>232.0</td>\n",
       "    </tr>\n",
       "    <tr>\n",
       "      <th>86096</th>\n",
       "      <td>1991-580</td>\n",
       "      <td>Australian Open</td>\n",
       "      <td>Hard</td>\n",
       "      <td>128</td>\n",
       "      <td>G</td>\n",
       "      <td>19910114</td>\n",
       "      <td>125</td>\n",
       "      <td>100656</td>\n",
       "      <td>3.0</td>\n",
       "      <td>NaN</td>\n",
       "      <td>...</td>\n",
       "      <td>68.0</td>\n",
       "      <td>35.0</td>\n",
       "      <td>27.0</td>\n",
       "      <td>4.0</td>\n",
       "      <td>10.0</td>\n",
       "      <td>3.0</td>\n",
       "      <td>2541.0</td>\n",
       "      <td>1.0</td>\n",
       "      <td>3889.0</td>\n",
       "      <td>232.0</td>\n",
       "    </tr>\n",
       "    <tr>\n",
       "      <th>...</th>\n",
       "      <td>...</td>\n",
       "      <td>...</td>\n",
       "      <td>...</td>\n",
       "      <td>...</td>\n",
       "      <td>...</td>\n",
       "      <td>...</td>\n",
       "      <td>...</td>\n",
       "      <td>...</td>\n",
       "      <td>...</td>\n",
       "      <td>...</td>\n",
       "      <td>...</td>\n",
       "      <td>...</td>\n",
       "      <td>...</td>\n",
       "      <td>...</td>\n",
       "      <td>...</td>\n",
       "      <td>...</td>\n",
       "      <td>...</td>\n",
       "      <td>...</td>\n",
       "      <td>...</td>\n",
       "      <td>...</td>\n",
       "      <td>...</td>\n",
       "    </tr>\n",
       "    <tr>\n",
       "      <th>187946</th>\n",
       "      <td>2022-0605</td>\n",
       "      <td>Tour Finals</td>\n",
       "      <td>Hard</td>\n",
       "      <td>8</td>\n",
       "      <td>F</td>\n",
       "      <td>20221114</td>\n",
       "      <td>292</td>\n",
       "      <td>126203</td>\n",
       "      <td>8.0</td>\n",
       "      <td>NaN</td>\n",
       "      <td>...</td>\n",
       "      <td>50.0</td>\n",
       "      <td>19.0</td>\n",
       "      <td>16.0</td>\n",
       "      <td>3.0</td>\n",
       "      <td>5.0</td>\n",
       "      <td>9.0</td>\n",
       "      <td>2955.0</td>\n",
       "      <td>6.0</td>\n",
       "      <td>3995.0</td>\n",
       "      <td>152.0</td>\n",
       "    </tr>\n",
       "    <tr>\n",
       "      <th>187951</th>\n",
       "      <td>2022-0605</td>\n",
       "      <td>Tour Finals</td>\n",
       "      <td>Hard</td>\n",
       "      <td>8</td>\n",
       "      <td>F</td>\n",
       "      <td>20221114</td>\n",
       "      <td>287</td>\n",
       "      <td>104925</td>\n",
       "      <td>7.0</td>\n",
       "      <td>NaN</td>\n",
       "      <td>...</td>\n",
       "      <td>60.0</td>\n",
       "      <td>17.0</td>\n",
       "      <td>16.0</td>\n",
       "      <td>4.0</td>\n",
       "      <td>6.0</td>\n",
       "      <td>8.0</td>\n",
       "      <td>3320.0</td>\n",
       "      <td>5.0</td>\n",
       "      <td>4065.0</td>\n",
       "      <td>152.0</td>\n",
       "    </tr>\n",
       "    <tr>\n",
       "      <th>188104</th>\n",
       "      <td>2022-M-DC-2022-WG1-PO-UZB-TUR-01</td>\n",
       "      <td>Davis Cup WG1 PO: UZB vs TUR</td>\n",
       "      <td>Hard</td>\n",
       "      <td>4</td>\n",
       "      <td>D</td>\n",
       "      <td>20220304</td>\n",
       "      <td>1</td>\n",
       "      <td>122109</td>\n",
       "      <td>NaN</td>\n",
       "      <td>NaN</td>\n",
       "      <td>...</td>\n",
       "      <td>42.0</td>\n",
       "      <td>19.0</td>\n",
       "      <td>15.0</td>\n",
       "      <td>3.0</td>\n",
       "      <td>8.0</td>\n",
       "      <td>510.0</td>\n",
       "      <td>62.0</td>\n",
       "      <td>189.0</td>\n",
       "      <td>314.0</td>\n",
       "      <td>152.0</td>\n",
       "    </tr>\n",
       "    <tr>\n",
       "      <th>188157</th>\n",
       "      <td>2022-M-DC-2022-WG2-PO-GRE-JAM-01</td>\n",
       "      <td>Davis Cup WG2 PO: GRE vs JAM</td>\n",
       "      <td>Clay</td>\n",
       "      <td>4</td>\n",
       "      <td>D</td>\n",
       "      <td>20220304</td>\n",
       "      <td>5</td>\n",
       "      <td>202065</td>\n",
       "      <td>NaN</td>\n",
       "      <td>NaN</td>\n",
       "      <td>...</td>\n",
       "      <td>40.0</td>\n",
       "      <td>20.0</td>\n",
       "      <td>15.0</td>\n",
       "      <td>4.0</td>\n",
       "      <td>8.0</td>\n",
       "      <td>808.0</td>\n",
       "      <td>23.0</td>\n",
       "      <td>1390.0</td>\n",
       "      <td>4.0</td>\n",
       "      <td>152.0</td>\n",
       "    </tr>\n",
       "    <tr>\n",
       "      <th>188158</th>\n",
       "      <td>2022-M-DC-2022-WG2-PO-HKG-BEN-01</td>\n",
       "      <td>Davis Cup WG2 PO: HKG vs BEN</td>\n",
       "      <td>Hard</td>\n",
       "      <td>4</td>\n",
       "      <td>D</td>\n",
       "      <td>20220304</td>\n",
       "      <td>1</td>\n",
       "      <td>138846</td>\n",
       "      <td>NaN</td>\n",
       "      <td>NaN</td>\n",
       "      <td>...</td>\n",
       "      <td>29.0</td>\n",
       "      <td>8.0</td>\n",
       "      <td>11.0</td>\n",
       "      <td>6.0</td>\n",
       "      <td>10.0</td>\n",
       "      <td>1059.0</td>\n",
       "      <td>10.0</td>\n",
       "      <td>1881.0</td>\n",
       "      <td>1.0</td>\n",
       "      <td>152.0</td>\n",
       "    </tr>\n",
       "  </tbody>\n",
       "</table>\n",
       "<p>4258 rows × 50 columns</p>\n",
       "</div>"
      ],
      "text/plain": [
       "                              tourney_id                  tourney_name  \\\n",
       "85857                           1991-339                      Adelaide   \n",
       "85907                           1991-354                    Wellington   \n",
       "85981                           1991-580               Australian Open   \n",
       "86083                           1991-580               Australian Open   \n",
       "86096                           1991-580               Australian Open   \n",
       "...                                  ...                           ...   \n",
       "187946                         2022-0605                   Tour Finals   \n",
       "187951                         2022-0605                   Tour Finals   \n",
       "188104  2022-M-DC-2022-WG1-PO-UZB-TUR-01  Davis Cup WG1 PO: UZB vs TUR   \n",
       "188157  2022-M-DC-2022-WG2-PO-GRE-JAM-01  Davis Cup WG2 PO: GRE vs JAM   \n",
       "188158  2022-M-DC-2022-WG2-PO-HKG-BEN-01  Davis Cup WG2 PO: HKG vs BEN   \n",
       "\n",
       "       surface  draw_size tourney_level  tourney_date  match_num  winner_id  \\\n",
       "85857     Hard         32             A      19901231         10     101332   \n",
       "85907     Hard         32             A      19901231         29     101735   \n",
       "85981     Hard        128             G      19910114         10     101642   \n",
       "86083     Hard        128             G      19910114        112     101414   \n",
       "86096     Hard        128             G      19910114        125     100656   \n",
       "...        ...        ...           ...           ...        ...        ...   \n",
       "187946    Hard          8             F      20221114        292     126203   \n",
       "187951    Hard          8             F      20221114        287     104925   \n",
       "188104    Hard          4             D      20220304          1     122109   \n",
       "188157    Clay          4             D      20220304          5     202065   \n",
       "188158    Hard          4             D      20220304          1     138846   \n",
       "\n",
       "        winner_seed winner_entry  ... l_1stWon l_2ndWon  l_SvGms l_bpSaved  \\\n",
       "85857           NaN          NaN  ...     52.0     25.0     17.0       5.0   \n",
       "85907           3.0          NaN  ...     55.0     16.0     16.0       4.0   \n",
       "85981           NaN            Q  ...     78.0     38.0     31.0      16.0   \n",
       "86083           2.0          NaN  ...     77.0     61.0     33.0      15.0   \n",
       "86096           3.0          NaN  ...     68.0     35.0     27.0       4.0   \n",
       "...             ...          ...  ...      ...      ...      ...       ...   \n",
       "187946          8.0          NaN  ...     50.0     19.0     16.0       3.0   \n",
       "187951          7.0          NaN  ...     60.0     17.0     16.0       4.0   \n",
       "188104          NaN          NaN  ...     42.0     19.0     15.0       3.0   \n",
       "188157          NaN          NaN  ...     40.0     20.0     15.0       4.0   \n",
       "188158          NaN          NaN  ...     29.0      8.0     11.0       6.0   \n",
       "\n",
       "        l_bpFaced  winner_rank  winner_rank_points loser_rank  \\\n",
       "85857         9.0         66.0                 NaN      228.0   \n",
       "85907         8.0         32.0                 NaN       80.0   \n",
       "85981        29.0        143.0               241.0       79.0   \n",
       "86083        20.0          2.0              3528.0       45.0   \n",
       "86096        10.0          3.0              2541.0        1.0   \n",
       "...           ...          ...                 ...        ...   \n",
       "187946        5.0          9.0              2955.0        6.0   \n",
       "187951        6.0          8.0              3320.0        5.0   \n",
       "188104        8.0        510.0                62.0      189.0   \n",
       "188157        8.0        808.0                23.0     1390.0   \n",
       "188158       10.0       1059.0                10.0     1881.0   \n",
       "\n",
       "       loser_rank_points duration_quantile_95  \n",
       "85857                NaN                152.0  \n",
       "85907                NaN                152.0  \n",
       "85981              462.0                232.0  \n",
       "86083              641.0                232.0  \n",
       "86096             3889.0                232.0  \n",
       "...                  ...                  ...  \n",
       "187946            3995.0                152.0  \n",
       "187951            4065.0                152.0  \n",
       "188104             314.0                152.0  \n",
       "188157               4.0                152.0  \n",
       "188158               1.0                152.0  \n",
       "\n",
       "[4258 rows x 50 columns]"
      ]
     },
     "execution_count": 33,
     "metadata": {},
     "output_type": "execute_result"
    }
   ],
   "source": [
    "besonders_lange_spiele = df_merge[df_merge['minutes'] > df_merge['duration_quantile_95']]\n",
    "besonders_lange_spiele"
   ]
  },
  {
   "cell_type": "markdown",
   "id": "e660fe9d-c0ae-4e0f-9589-07da9921b9ae",
   "metadata": {},
   "source": [
    "Es wird nun ein neues Feature hinzufügt, das als Flag für besonders lange Spiele fungiert."
   ]
  },
  {
   "cell_type": "code",
   "execution_count": 34,
   "id": "80daa3b8-ad3f-4c2f-aa77-c4edf6b5a9cf",
   "metadata": {
    "tags": []
   },
   "outputs": [
    {
     "name": "stderr",
     "output_type": "stream",
     "text": [
      "C:\\Users\\Markus\\AppData\\Local\\Temp\\ipykernel_7108\\2226633801.py:1: SettingWithCopyWarning: \n",
      "A value is trying to be set on a copy of a slice from a DataFrame.\n",
      "Try using .loc[row_indexer,col_indexer] = value instead\n",
      "\n",
      "See the caveats in the documentation: https://pandas.pydata.org/pandas-docs/stable/user_guide/indexing.html#returning-a-view-versus-a-copy\n",
      "  besonders_lange_spiele['very_long_game'] = True\n"
     ]
    }
   ],
   "source": [
    "besonders_lange_spiele['very_long_game'] = True"
   ]
  },
  {
   "cell_type": "markdown",
   "id": "7f9b0872-c9d7-40f4-8781-fcd681ae6a95",
   "metadata": {},
   "source": [
    "Das neue Feature very_long_game wird nun hinzugefügt zu allen matches."
   ]
  },
  {
   "cell_type": "code",
   "execution_count": 35,
   "id": "6ceed33a-7e3a-49f4-985e-aa2a2d131fa0",
   "metadata": {
    "tags": []
   },
   "outputs": [
    {
     "data": {
      "text/html": [
       "<div>\n",
       "<style scoped>\n",
       "    .dataframe tbody tr th:only-of-type {\n",
       "        vertical-align: middle;\n",
       "    }\n",
       "\n",
       "    .dataframe tbody tr th {\n",
       "        vertical-align: top;\n",
       "    }\n",
       "\n",
       "    .dataframe thead th {\n",
       "        text-align: right;\n",
       "    }\n",
       "</style>\n",
       "<table border=\"1\" class=\"dataframe\">\n",
       "  <thead>\n",
       "    <tr style=\"text-align: right;\">\n",
       "      <th></th>\n",
       "      <th>tourney_id</th>\n",
       "      <th>tourney_name</th>\n",
       "      <th>surface</th>\n",
       "      <th>draw_size</th>\n",
       "      <th>tourney_level</th>\n",
       "      <th>tourney_date</th>\n",
       "      <th>match_num</th>\n",
       "      <th>winner_id</th>\n",
       "      <th>winner_seed</th>\n",
       "      <th>winner_entry</th>\n",
       "      <th>...</th>\n",
       "      <th>l_1stWon</th>\n",
       "      <th>l_2ndWon</th>\n",
       "      <th>l_SvGms</th>\n",
       "      <th>l_bpSaved</th>\n",
       "      <th>l_bpFaced</th>\n",
       "      <th>winner_rank</th>\n",
       "      <th>winner_rank_points</th>\n",
       "      <th>loser_rank</th>\n",
       "      <th>loser_rank_points</th>\n",
       "      <th>very_long_game</th>\n",
       "    </tr>\n",
       "  </thead>\n",
       "  <tbody>\n",
       "    <tr>\n",
       "      <th>179348</th>\n",
       "      <td>2019-M009</td>\n",
       "      <td>Rome Masters</td>\n",
       "      <td>Clay</td>\n",
       "      <td>64</td>\n",
       "      <td>M</td>\n",
       "      <td>20190513</td>\n",
       "      <td>291</td>\n",
       "      <td>106043</td>\n",
       "      <td>NaN</td>\n",
       "      <td>NaN</td>\n",
       "      <td>...</td>\n",
       "      <td>16.0</td>\n",
       "      <td>14.0</td>\n",
       "      <td>9.0</td>\n",
       "      <td>3.0</td>\n",
       "      <td>6.0</td>\n",
       "      <td>24.0</td>\n",
       "      <td>1440.0</td>\n",
       "      <td>33.0</td>\n",
       "      <td>1275.0</td>\n",
       "      <td>NaN</td>\n",
       "    </tr>\n",
       "    <tr>\n",
       "      <th>45683</th>\n",
       "      <td>1979-802</td>\n",
       "      <td>Richmond WCT</td>\n",
       "      <td>Carpet</td>\n",
       "      <td>32</td>\n",
       "      <td>A</td>\n",
       "      <td>19790129</td>\n",
       "      <td>23</td>\n",
       "      <td>100631</td>\n",
       "      <td>NaN</td>\n",
       "      <td>NaN</td>\n",
       "      <td>...</td>\n",
       "      <td>NaN</td>\n",
       "      <td>NaN</td>\n",
       "      <td>NaN</td>\n",
       "      <td>NaN</td>\n",
       "      <td>NaN</td>\n",
       "      <td>44.0</td>\n",
       "      <td>NaN</td>\n",
       "      <td>10.0</td>\n",
       "      <td>NaN</td>\n",
       "      <td>NaN</td>\n",
       "    </tr>\n",
       "    <tr>\n",
       "      <th>24759</th>\n",
       "      <td>1974-583</td>\n",
       "      <td>Manchester</td>\n",
       "      <td>Grass</td>\n",
       "      <td>16</td>\n",
       "      <td>A</td>\n",
       "      <td>19740603</td>\n",
       "      <td>284</td>\n",
       "      <td>100201</td>\n",
       "      <td>NaN</td>\n",
       "      <td>NaN</td>\n",
       "      <td>...</td>\n",
       "      <td>NaN</td>\n",
       "      <td>NaN</td>\n",
       "      <td>NaN</td>\n",
       "      <td>NaN</td>\n",
       "      <td>NaN</td>\n",
       "      <td>63.0</td>\n",
       "      <td>0.0</td>\n",
       "      <td>NaN</td>\n",
       "      <td>NaN</td>\n",
       "      <td>NaN</td>\n",
       "    </tr>\n",
       "    <tr>\n",
       "      <th>147722</th>\n",
       "      <td>2008-560</td>\n",
       "      <td>US Open</td>\n",
       "      <td>Hard</td>\n",
       "      <td>128</td>\n",
       "      <td>G</td>\n",
       "      <td>20080825</td>\n",
       "      <td>95</td>\n",
       "      <td>103285</td>\n",
       "      <td>28.0</td>\n",
       "      <td>NaN</td>\n",
       "      <td>...</td>\n",
       "      <td>56.0</td>\n",
       "      <td>20.0</td>\n",
       "      <td>20.0</td>\n",
       "      <td>5.0</td>\n",
       "      <td>9.0</td>\n",
       "      <td>30.0</td>\n",
       "      <td>1006.0</td>\n",
       "      <td>87.0</td>\n",
       "      <td>505.0</td>\n",
       "      <td>NaN</td>\n",
       "    </tr>\n",
       "    <tr>\n",
       "      <th>6451</th>\n",
       "      <td>1969-9277</td>\n",
       "      <td>Curacao</td>\n",
       "      <td>Hard</td>\n",
       "      <td>16</td>\n",
       "      <td>A</td>\n",
       "      <td>19690224</td>\n",
       "      <td>295</td>\n",
       "      <td>100128</td>\n",
       "      <td>NaN</td>\n",
       "      <td>NaN</td>\n",
       "      <td>...</td>\n",
       "      <td>NaN</td>\n",
       "      <td>NaN</td>\n",
       "      <td>NaN</td>\n",
       "      <td>NaN</td>\n",
       "      <td>NaN</td>\n",
       "      <td>NaN</td>\n",
       "      <td>NaN</td>\n",
       "      <td>NaN</td>\n",
       "      <td>NaN</td>\n",
       "      <td>NaN</td>\n",
       "    </tr>\n",
       "  </tbody>\n",
       "</table>\n",
       "<p>5 rows × 50 columns</p>\n",
       "</div>"
      ],
      "text/plain": [
       "       tourney_id  tourney_name surface  draw_size tourney_level  \\\n",
       "179348  2019-M009  Rome Masters    Clay         64             M   \n",
       "45683    1979-802  Richmond WCT  Carpet         32             A   \n",
       "24759    1974-583    Manchester   Grass         16             A   \n",
       "147722   2008-560       US Open    Hard        128             G   \n",
       "6451    1969-9277       Curacao    Hard         16             A   \n",
       "\n",
       "        tourney_date  match_num  winner_id  winner_seed winner_entry  ...  \\\n",
       "179348      20190513        291     106043          NaN          NaN  ...   \n",
       "45683       19790129         23     100631          NaN          NaN  ...   \n",
       "24759       19740603        284     100201          NaN          NaN  ...   \n",
       "147722      20080825         95     103285         28.0          NaN  ...   \n",
       "6451        19690224        295     100128          NaN          NaN  ...   \n",
       "\n",
       "       l_1stWon l_2ndWon  l_SvGms l_bpSaved  l_bpFaced  winner_rank  \\\n",
       "179348     16.0     14.0      9.0       3.0        6.0         24.0   \n",
       "45683       NaN      NaN      NaN       NaN        NaN         44.0   \n",
       "24759       NaN      NaN      NaN       NaN        NaN         63.0   \n",
       "147722     56.0     20.0     20.0       5.0        9.0         30.0   \n",
       "6451        NaN      NaN      NaN       NaN        NaN          NaN   \n",
       "\n",
       "        winner_rank_points loser_rank loser_rank_points very_long_game  \n",
       "179348              1440.0       33.0            1275.0            NaN  \n",
       "45683                  NaN       10.0               NaN            NaN  \n",
       "24759                  0.0        NaN               NaN            NaN  \n",
       "147722              1006.0       87.0             505.0            NaN  \n",
       "6451                   NaN        NaN               NaN            NaN  \n",
       "\n",
       "[5 rows x 50 columns]"
      ]
     },
     "execution_count": 35,
     "metadata": {},
     "output_type": "execute_result"
    }
   ],
   "source": [
    "#Mergen der Tabelle df_matches und besonders_lange_spiele für das neue Feature\n",
    "df_merge_5 = pd.merge(df_matches,besonders_lange_spiele[['very_long_game']], left_index=True, right_index=True, how='left')\n",
    "df_merge_5.sample(5)"
   ]
  },
  {
   "cell_type": "markdown",
   "id": "15d1b75d-2c03-432d-bb59-58cd238909e3",
   "metadata": {},
   "source": [
    "Alle Matches die NaN Werte haben für das neue Feature very_long_game werden sinnvollerweise mit False gefüllt."
   ]
  },
  {
   "cell_type": "code",
   "execution_count": 36,
   "id": "8bd400f8-2750-44bc-b50d-fadf6476e2a2",
   "metadata": {
    "tags": []
   },
   "outputs": [],
   "source": [
    "df_merge_5['very_long_game'] = df_merge_5['very_long_game'].fillna(False)"
   ]
  },
  {
   "cell_type": "markdown",
   "id": "99ea514b-d6aa-4f75-acde-aece44ba19a2",
   "metadata": {},
   "source": [
    "Wir wissen nun alle Matches mithilfe eines Flags die besonders lang waren. Für die Aufgabenstellung ist aber auch noch das Datum für die Sortierung später wichtig. Dieses muss noch das richtige Type erhalten."
   ]
  },
  {
   "cell_type": "code",
   "execution_count": 39,
   "id": "2cb1f78c-dcce-4bfa-861c-d403085737dc",
   "metadata": {
    "tags": []
   },
   "outputs": [],
   "source": [
    "#Tourney_date type ändern\n",
    "df_merge_5['tourney_date'] = pd.to_datetime(df_merge_5['tourney_date'], format='%Y%m%d')\n",
    "df_merge_5 = df_merge_5.sort_values(['winner_id', 'tourney_date'])"
   ]
  },
  {
   "cell_type": "code",
   "execution_count": 38,
   "id": "5e07eefd-a16a-4012-8a73-acc9d03d53a9",
   "metadata": {
    "tags": []
   },
   "outputs": [
    {
     "data": {
      "text/html": [
       "<div>\n",
       "<style scoped>\n",
       "    .dataframe tbody tr th:only-of-type {\n",
       "        vertical-align: middle;\n",
       "    }\n",
       "\n",
       "    .dataframe tbody tr th {\n",
       "        vertical-align: top;\n",
       "    }\n",
       "\n",
       "    .dataframe thead th {\n",
       "        text-align: right;\n",
       "    }\n",
       "</style>\n",
       "<table border=\"1\" class=\"dataframe\">\n",
       "  <thead>\n",
       "    <tr style=\"text-align: right;\">\n",
       "      <th></th>\n",
       "      <th>tourney_id</th>\n",
       "      <th>tourney_name</th>\n",
       "      <th>surface</th>\n",
       "      <th>draw_size</th>\n",
       "      <th>tourney_level</th>\n",
       "      <th>tourney_date</th>\n",
       "      <th>match_num</th>\n",
       "      <th>winner_id</th>\n",
       "      <th>winner_seed</th>\n",
       "      <th>winner_entry</th>\n",
       "      <th>...</th>\n",
       "      <th>l_1stWon</th>\n",
       "      <th>l_2ndWon</th>\n",
       "      <th>l_SvGms</th>\n",
       "      <th>l_bpSaved</th>\n",
       "      <th>l_bpFaced</th>\n",
       "      <th>winner_rank</th>\n",
       "      <th>winner_rank_points</th>\n",
       "      <th>loser_rank</th>\n",
       "      <th>loser_rank_points</th>\n",
       "      <th>very_long_game</th>\n",
       "    </tr>\n",
       "  </thead>\n",
       "  <tbody>\n",
       "    <tr>\n",
       "      <th>1694</th>\n",
       "      <td>1968-3940</td>\n",
       "      <td>Barranquilla</td>\n",
       "      <td>Clay</td>\n",
       "      <td>32</td>\n",
       "      <td>A</td>\n",
       "      <td>1968-03-04</td>\n",
       "      <td>274</td>\n",
       "      <td>100001</td>\n",
       "      <td>NaN</td>\n",
       "      <td>NaN</td>\n",
       "      <td>...</td>\n",
       "      <td>NaN</td>\n",
       "      <td>NaN</td>\n",
       "      <td>NaN</td>\n",
       "      <td>NaN</td>\n",
       "      <td>NaN</td>\n",
       "      <td>NaN</td>\n",
       "      <td>NaN</td>\n",
       "      <td>NaN</td>\n",
       "      <td>NaN</td>\n",
       "      <td>False</td>\n",
       "    </tr>\n",
       "    <tr>\n",
       "      <th>6204</th>\n",
       "      <td>1969-6818</td>\n",
       "      <td>St. Petersburg</td>\n",
       "      <td>Clay</td>\n",
       "      <td>64</td>\n",
       "      <td>A</td>\n",
       "      <td>1969-03-17</td>\n",
       "      <td>262</td>\n",
       "      <td>100001</td>\n",
       "      <td>NaN</td>\n",
       "      <td>NaN</td>\n",
       "      <td>...</td>\n",
       "      <td>NaN</td>\n",
       "      <td>NaN</td>\n",
       "      <td>NaN</td>\n",
       "      <td>NaN</td>\n",
       "      <td>NaN</td>\n",
       "      <td>NaN</td>\n",
       "      <td>NaN</td>\n",
       "      <td>NaN</td>\n",
       "      <td>NaN</td>\n",
       "      <td>False</td>\n",
       "    </tr>\n",
       "    <tr>\n",
       "      <th>5583</th>\n",
       "      <td>1969-2047</td>\n",
       "      <td>Jacksonville</td>\n",
       "      <td>Clay</td>\n",
       "      <td>32</td>\n",
       "      <td>A</td>\n",
       "      <td>1969-04-02</td>\n",
       "      <td>274</td>\n",
       "      <td>100001</td>\n",
       "      <td>NaN</td>\n",
       "      <td>NaN</td>\n",
       "      <td>...</td>\n",
       "      <td>NaN</td>\n",
       "      <td>NaN</td>\n",
       "      <td>NaN</td>\n",
       "      <td>NaN</td>\n",
       "      <td>NaN</td>\n",
       "      <td>NaN</td>\n",
       "      <td>NaN</td>\n",
       "      <td>NaN</td>\n",
       "      <td>NaN</td>\n",
       "      <td>False</td>\n",
       "    </tr>\n",
       "    <tr>\n",
       "      <th>9273</th>\n",
       "      <td>1970-2047</td>\n",
       "      <td>Jacksonville</td>\n",
       "      <td>Clay</td>\n",
       "      <td>32</td>\n",
       "      <td>A</td>\n",
       "      <td>1970-03-25</td>\n",
       "      <td>274</td>\n",
       "      <td>100001</td>\n",
       "      <td>NaN</td>\n",
       "      <td>NaN</td>\n",
       "      <td>...</td>\n",
       "      <td>NaN</td>\n",
       "      <td>NaN</td>\n",
       "      <td>NaN</td>\n",
       "      <td>NaN</td>\n",
       "      <td>NaN</td>\n",
       "      <td>NaN</td>\n",
       "      <td>NaN</td>\n",
       "      <td>NaN</td>\n",
       "      <td>NaN</td>\n",
       "      <td>False</td>\n",
       "    </tr>\n",
       "    <tr>\n",
       "      <th>2724</th>\n",
       "      <td>1968-6811</td>\n",
       "      <td>Los Angeles NTL</td>\n",
       "      <td>Carpet</td>\n",
       "      <td>16</td>\n",
       "      <td>A</td>\n",
       "      <td>1968-07-17</td>\n",
       "      <td>295</td>\n",
       "      <td>100002</td>\n",
       "      <td>NaN</td>\n",
       "      <td>NaN</td>\n",
       "      <td>...</td>\n",
       "      <td>NaN</td>\n",
       "      <td>NaN</td>\n",
       "      <td>NaN</td>\n",
       "      <td>NaN</td>\n",
       "      <td>NaN</td>\n",
       "      <td>NaN</td>\n",
       "      <td>NaN</td>\n",
       "      <td>NaN</td>\n",
       "      <td>NaN</td>\n",
       "      <td>False</td>\n",
       "    </tr>\n",
       "  </tbody>\n",
       "</table>\n",
       "<p>5 rows × 50 columns</p>\n",
       "</div>"
      ],
      "text/plain": [
       "     tourney_id     tourney_name surface  draw_size tourney_level  \\\n",
       "1694  1968-3940     Barranquilla    Clay         32             A   \n",
       "6204  1969-6818   St. Petersburg    Clay         64             A   \n",
       "5583  1969-2047     Jacksonville    Clay         32             A   \n",
       "9273  1970-2047     Jacksonville    Clay         32             A   \n",
       "2724  1968-6811  Los Angeles NTL  Carpet         16             A   \n",
       "\n",
       "     tourney_date  match_num  winner_id  winner_seed winner_entry  ...  \\\n",
       "1694   1968-03-04        274     100001          NaN          NaN  ...   \n",
       "6204   1969-03-17        262     100001          NaN          NaN  ...   \n",
       "5583   1969-04-02        274     100001          NaN          NaN  ...   \n",
       "9273   1970-03-25        274     100001          NaN          NaN  ...   \n",
       "2724   1968-07-17        295     100002          NaN          NaN  ...   \n",
       "\n",
       "     l_1stWon l_2ndWon  l_SvGms l_bpSaved  l_bpFaced  winner_rank  \\\n",
       "1694      NaN      NaN      NaN       NaN        NaN          NaN   \n",
       "6204      NaN      NaN      NaN       NaN        NaN          NaN   \n",
       "5583      NaN      NaN      NaN       NaN        NaN          NaN   \n",
       "9273      NaN      NaN      NaN       NaN        NaN          NaN   \n",
       "2724      NaN      NaN      NaN       NaN        NaN          NaN   \n",
       "\n",
       "      winner_rank_points loser_rank loser_rank_points very_long_game  \n",
       "1694                 NaN        NaN               NaN          False  \n",
       "6204                 NaN        NaN               NaN          False  \n",
       "5583                 NaN        NaN               NaN          False  \n",
       "9273                 NaN        NaN               NaN          False  \n",
       "2724                 NaN        NaN               NaN          False  \n",
       "\n",
       "[5 rows x 50 columns]"
      ]
     },
     "execution_count": 38,
     "metadata": {},
     "output_type": "execute_result"
    }
   ],
   "source": [
    "df_merge_5.head(5)"
   ]
  },
  {
   "cell_type": "markdown",
   "id": "db89086c-25c7-4748-937f-dae647dff3d5",
   "metadata": {},
   "source": [
    "Für die Fragestellung brauchen wir nun die Spieler. Wir müssen später nach Spieler gruppieren können und für jeden Spieler alle Matches haben an denen diese Teilgenommen haben.  \n",
    "Die neue Tabelle sollte also doppelt so viele Einträge haben wie die matches."
   ]
  },
  {
   "cell_type": "code",
   "execution_count": 42,
   "id": "c35d40cb-f868-4e88-870c-b5059a33c1b9",
   "metadata": {
    "tags": []
   },
   "outputs": [],
   "source": [
    "#Laden der Spieler\n",
    "df_players = pd.read_csv(\"data/atp_players_till_2022.csv\")"
   ]
  },
  {
   "cell_type": "code",
   "execution_count": 43,
   "id": "cc9c6e34-760c-4949-9f3f-ec1bedaa851b",
   "metadata": {
    "tags": []
   },
   "outputs": [
    {
     "data": {
      "text/html": [
       "<div>\n",
       "<style scoped>\n",
       "    .dataframe tbody tr th:only-of-type {\n",
       "        vertical-align: middle;\n",
       "    }\n",
       "\n",
       "    .dataframe tbody tr th {\n",
       "        vertical-align: top;\n",
       "    }\n",
       "\n",
       "    .dataframe thead th {\n",
       "        text-align: right;\n",
       "    }\n",
       "</style>\n",
       "<table border=\"1\" class=\"dataframe\">\n",
       "  <thead>\n",
       "    <tr style=\"text-align: right;\">\n",
       "      <th></th>\n",
       "      <th>player_id</th>\n",
       "      <th>name_first</th>\n",
       "      <th>name_last</th>\n",
       "      <th>hand</th>\n",
       "      <th>dob</th>\n",
       "      <th>ioc</th>\n",
       "      <th>height</th>\n",
       "      <th>wikidata_id</th>\n",
       "    </tr>\n",
       "  </thead>\n",
       "  <tbody>\n",
       "    <tr>\n",
       "      <th>48895</th>\n",
       "      <td>202243</td>\n",
       "      <td>Annei</td>\n",
       "      <td>Laska</td>\n",
       "      <td>U</td>\n",
       "      <td>20000113.0</td>\n",
       "      <td>BLR</td>\n",
       "      <td>NaN</td>\n",
       "      <td>NaN</td>\n",
       "    </tr>\n",
       "    <tr>\n",
       "      <th>33580</th>\n",
       "      <td>133596</td>\n",
       "      <td>Javier</td>\n",
       "      <td>Aznar Martinez</td>\n",
       "      <td>U</td>\n",
       "      <td>19980906.0</td>\n",
       "      <td>ESP</td>\n",
       "      <td>NaN</td>\n",
       "      <td>NaN</td>\n",
       "    </tr>\n",
       "    <tr>\n",
       "      <th>42300</th>\n",
       "      <td>142316</td>\n",
       "      <td>Stonar</td>\n",
       "      <td>Coleman</td>\n",
       "      <td>U</td>\n",
       "      <td>19781225.0</td>\n",
       "      <td>USA</td>\n",
       "      <td>NaN</td>\n",
       "      <td>NaN</td>\n",
       "    </tr>\n",
       "    <tr>\n",
       "      <th>2703</th>\n",
       "      <td>102704</td>\n",
       "      <td>Markus</td>\n",
       "      <td>Tanner</td>\n",
       "      <td>R</td>\n",
       "      <td>19760105.0</td>\n",
       "      <td>SUI</td>\n",
       "      <td>NaN</td>\n",
       "      <td>NaN</td>\n",
       "    </tr>\n",
       "    <tr>\n",
       "      <th>23685</th>\n",
       "      <td>123701</td>\n",
       "      <td>Quincy</td>\n",
       "      <td>Adjei Darko</td>\n",
       "      <td>U</td>\n",
       "      <td>19850512.0</td>\n",
       "      <td>GHA</td>\n",
       "      <td>NaN</td>\n",
       "      <td>NaN</td>\n",
       "    </tr>\n",
       "  </tbody>\n",
       "</table>\n",
       "</div>"
      ],
      "text/plain": [
       "       player_id name_first       name_last hand         dob  ioc  height  \\\n",
       "48895     202243      Annei           Laska    U  20000113.0  BLR     NaN   \n",
       "33580     133596     Javier  Aznar Martinez    U  19980906.0  ESP     NaN   \n",
       "42300     142316     Stonar         Coleman    U  19781225.0  USA     NaN   \n",
       "2703      102704     Markus          Tanner    R  19760105.0  SUI     NaN   \n",
       "23685     123701     Quincy     Adjei Darko    U  19850512.0  GHA     NaN   \n",
       "\n",
       "      wikidata_id  \n",
       "48895         NaN  \n",
       "33580         NaN  \n",
       "42300         NaN  \n",
       "2703          NaN  \n",
       "23685         NaN  "
      ]
     },
     "execution_count": 43,
     "metadata": {},
     "output_type": "execute_result"
    }
   ],
   "source": [
    "df_players.sample(5)"
   ]
  },
  {
   "cell_type": "markdown",
   "id": "c730eac6-9f97-403d-b213-a0cd48c9f8af",
   "metadata": {},
   "source": [
    "merged_winner_df wird ein DataFrame, bei dem die winner_id und die player_id gleich sein werden."
   ]
  },
  {
   "cell_type": "code",
   "execution_count": 47,
   "id": "f4d73996-0dc2-491c-8763-7031220de4da",
   "metadata": {
    "tags": []
   },
   "outputs": [
    {
     "data": {
      "text/html": [
       "<div>\n",
       "<style scoped>\n",
       "    .dataframe tbody tr th:only-of-type {\n",
       "        vertical-align: middle;\n",
       "    }\n",
       "\n",
       "    .dataframe tbody tr th {\n",
       "        vertical-align: top;\n",
       "    }\n",
       "\n",
       "    .dataframe thead th {\n",
       "        text-align: right;\n",
       "    }\n",
       "</style>\n",
       "<table border=\"1\" class=\"dataframe\">\n",
       "  <thead>\n",
       "    <tr style=\"text-align: right;\">\n",
       "      <th></th>\n",
       "      <th>tourney_id</th>\n",
       "      <th>tourney_name</th>\n",
       "      <th>surface</th>\n",
       "      <th>draw_size</th>\n",
       "      <th>tourney_level</th>\n",
       "      <th>tourney_date</th>\n",
       "      <th>match_num</th>\n",
       "      <th>winner_id</th>\n",
       "      <th>winner_seed</th>\n",
       "      <th>winner_entry</th>\n",
       "      <th>...</th>\n",
       "      <th>loser_rank_points</th>\n",
       "      <th>very_long_game</th>\n",
       "      <th>player_id</th>\n",
       "      <th>name_first</th>\n",
       "      <th>name_last</th>\n",
       "      <th>hand</th>\n",
       "      <th>dob</th>\n",
       "      <th>ioc</th>\n",
       "      <th>height</th>\n",
       "      <th>wikidata_id</th>\n",
       "    </tr>\n",
       "  </thead>\n",
       "  <tbody>\n",
       "    <tr>\n",
       "      <th>0</th>\n",
       "      <td>1968-3940</td>\n",
       "      <td>Barranquilla</td>\n",
       "      <td>Clay</td>\n",
       "      <td>32</td>\n",
       "      <td>A</td>\n",
       "      <td>1968-03-04</td>\n",
       "      <td>274</td>\n",
       "      <td>100001</td>\n",
       "      <td>NaN</td>\n",
       "      <td>NaN</td>\n",
       "      <td>...</td>\n",
       "      <td>NaN</td>\n",
       "      <td>False</td>\n",
       "      <td>100001</td>\n",
       "      <td>Gardnar</td>\n",
       "      <td>Mulloy</td>\n",
       "      <td>R</td>\n",
       "      <td>19131122.0</td>\n",
       "      <td>USA</td>\n",
       "      <td>185.0</td>\n",
       "      <td>Q54544</td>\n",
       "    </tr>\n",
       "    <tr>\n",
       "      <th>1</th>\n",
       "      <td>1969-6818</td>\n",
       "      <td>St. Petersburg</td>\n",
       "      <td>Clay</td>\n",
       "      <td>64</td>\n",
       "      <td>A</td>\n",
       "      <td>1969-03-17</td>\n",
       "      <td>262</td>\n",
       "      <td>100001</td>\n",
       "      <td>NaN</td>\n",
       "      <td>NaN</td>\n",
       "      <td>...</td>\n",
       "      <td>NaN</td>\n",
       "      <td>False</td>\n",
       "      <td>100001</td>\n",
       "      <td>Gardnar</td>\n",
       "      <td>Mulloy</td>\n",
       "      <td>R</td>\n",
       "      <td>19131122.0</td>\n",
       "      <td>USA</td>\n",
       "      <td>185.0</td>\n",
       "      <td>Q54544</td>\n",
       "    </tr>\n",
       "    <tr>\n",
       "      <th>2</th>\n",
       "      <td>1969-2047</td>\n",
       "      <td>Jacksonville</td>\n",
       "      <td>Clay</td>\n",
       "      <td>32</td>\n",
       "      <td>A</td>\n",
       "      <td>1969-04-02</td>\n",
       "      <td>274</td>\n",
       "      <td>100001</td>\n",
       "      <td>NaN</td>\n",
       "      <td>NaN</td>\n",
       "      <td>...</td>\n",
       "      <td>NaN</td>\n",
       "      <td>False</td>\n",
       "      <td>100001</td>\n",
       "      <td>Gardnar</td>\n",
       "      <td>Mulloy</td>\n",
       "      <td>R</td>\n",
       "      <td>19131122.0</td>\n",
       "      <td>USA</td>\n",
       "      <td>185.0</td>\n",
       "      <td>Q54544</td>\n",
       "    </tr>\n",
       "    <tr>\n",
       "      <th>3</th>\n",
       "      <td>1970-2047</td>\n",
       "      <td>Jacksonville</td>\n",
       "      <td>Clay</td>\n",
       "      <td>32</td>\n",
       "      <td>A</td>\n",
       "      <td>1970-03-25</td>\n",
       "      <td>274</td>\n",
       "      <td>100001</td>\n",
       "      <td>NaN</td>\n",
       "      <td>NaN</td>\n",
       "      <td>...</td>\n",
       "      <td>NaN</td>\n",
       "      <td>False</td>\n",
       "      <td>100001</td>\n",
       "      <td>Gardnar</td>\n",
       "      <td>Mulloy</td>\n",
       "      <td>R</td>\n",
       "      <td>19131122.0</td>\n",
       "      <td>USA</td>\n",
       "      <td>185.0</td>\n",
       "      <td>Q54544</td>\n",
       "    </tr>\n",
       "    <tr>\n",
       "      <th>4</th>\n",
       "      <td>1968-6811</td>\n",
       "      <td>Los Angeles NTL</td>\n",
       "      <td>Carpet</td>\n",
       "      <td>16</td>\n",
       "      <td>A</td>\n",
       "      <td>1968-07-17</td>\n",
       "      <td>295</td>\n",
       "      <td>100002</td>\n",
       "      <td>NaN</td>\n",
       "      <td>NaN</td>\n",
       "      <td>...</td>\n",
       "      <td>NaN</td>\n",
       "      <td>False</td>\n",
       "      <td>100002</td>\n",
       "      <td>Pancho</td>\n",
       "      <td>Segura</td>\n",
       "      <td>R</td>\n",
       "      <td>19210620.0</td>\n",
       "      <td>ECU</td>\n",
       "      <td>168.0</td>\n",
       "      <td>Q54581</td>\n",
       "    </tr>\n",
       "    <tr>\n",
       "      <th>...</th>\n",
       "      <td>...</td>\n",
       "      <td>...</td>\n",
       "      <td>...</td>\n",
       "      <td>...</td>\n",
       "      <td>...</td>\n",
       "      <td>...</td>\n",
       "      <td>...</td>\n",
       "      <td>...</td>\n",
       "      <td>...</td>\n",
       "      <td>...</td>\n",
       "      <td>...</td>\n",
       "      <td>...</td>\n",
       "      <td>...</td>\n",
       "      <td>...</td>\n",
       "      <td>...</td>\n",
       "      <td>...</td>\n",
       "      <td>...</td>\n",
       "      <td>...</td>\n",
       "      <td>...</td>\n",
       "      <td>...</td>\n",
       "      <td>...</td>\n",
       "    </tr>\n",
       "    <tr>\n",
       "      <th>188156</th>\n",
       "      <td>1972-7308</td>\n",
       "      <td>Adelaide</td>\n",
       "      <td>Grass</td>\n",
       "      <td>64</td>\n",
       "      <td>A</td>\n",
       "      <td>1972-01-17</td>\n",
       "      <td>256</td>\n",
       "      <td>211376</td>\n",
       "      <td>NaN</td>\n",
       "      <td>NaN</td>\n",
       "      <td>...</td>\n",
       "      <td>NaN</td>\n",
       "      <td>False</td>\n",
       "      <td>211376</td>\n",
       "      <td>Richard</td>\n",
       "      <td>Garey</td>\n",
       "      <td>U</td>\n",
       "      <td>NaN</td>\n",
       "      <td>AUS</td>\n",
       "      <td>NaN</td>\n",
       "      <td>NaN</td>\n",
       "    </tr>\n",
       "    <tr>\n",
       "      <th>188157</th>\n",
       "      <td>1972-7308</td>\n",
       "      <td>Adelaide</td>\n",
       "      <td>Grass</td>\n",
       "      <td>64</td>\n",
       "      <td>A</td>\n",
       "      <td>1972-01-17</td>\n",
       "      <td>242</td>\n",
       "      <td>211377</td>\n",
       "      <td>NaN</td>\n",
       "      <td>NaN</td>\n",
       "      <td>...</td>\n",
       "      <td>NaN</td>\n",
       "      <td>False</td>\n",
       "      <td>211377</td>\n",
       "      <td>Keith</td>\n",
       "      <td>Simpson</td>\n",
       "      <td>U</td>\n",
       "      <td>NaN</td>\n",
       "      <td>AUS</td>\n",
       "      <td>NaN</td>\n",
       "      <td>NaN</td>\n",
       "    </tr>\n",
       "    <tr>\n",
       "      <th>188158</th>\n",
       "      <td>1970-319</td>\n",
       "      <td>Kitzbuehel</td>\n",
       "      <td>Clay</td>\n",
       "      <td>64</td>\n",
       "      <td>A</td>\n",
       "      <td>1970-08-09</td>\n",
       "      <td>250</td>\n",
       "      <td>211421</td>\n",
       "      <td>NaN</td>\n",
       "      <td>NaN</td>\n",
       "      <td>...</td>\n",
       "      <td>NaN</td>\n",
       "      <td>False</td>\n",
       "      <td>211421</td>\n",
       "      <td>Peter</td>\n",
       "      <td>Popovic</td>\n",
       "      <td>U</td>\n",
       "      <td>NaN</td>\n",
       "      <td>UNK</td>\n",
       "      <td>NaN</td>\n",
       "      <td>NaN</td>\n",
       "    </tr>\n",
       "    <tr>\n",
       "      <th>188159</th>\n",
       "      <td>1970-6818</td>\n",
       "      <td>St. Petersburg</td>\n",
       "      <td>Clay</td>\n",
       "      <td>64</td>\n",
       "      <td>A</td>\n",
       "      <td>1970-04-06</td>\n",
       "      <td>251</td>\n",
       "      <td>211423</td>\n",
       "      <td>NaN</td>\n",
       "      <td>NaN</td>\n",
       "      <td>...</td>\n",
       "      <td>NaN</td>\n",
       "      <td>False</td>\n",
       "      <td>211423</td>\n",
       "      <td>John</td>\n",
       "      <td>Solow</td>\n",
       "      <td>U</td>\n",
       "      <td>NaN</td>\n",
       "      <td>USA</td>\n",
       "      <td>NaN</td>\n",
       "      <td>NaN</td>\n",
       "    </tr>\n",
       "    <tr>\n",
       "      <th>188160</th>\n",
       "      <td>2022-M-DC-2022-WG1-M-BIH-MEX-01</td>\n",
       "      <td>Davis Cup WG1 R1: BIH vs MEX</td>\n",
       "      <td>Clay</td>\n",
       "      <td>4</td>\n",
       "      <td>D</td>\n",
       "      <td>2022-09-16</td>\n",
       "      <td>4</td>\n",
       "      <td>211468</td>\n",
       "      <td>NaN</td>\n",
       "      <td>NaN</td>\n",
       "      <td>...</td>\n",
       "      <td>5.0</td>\n",
       "      <td>False</td>\n",
       "      <td>211468</td>\n",
       "      <td>Luis Carlos</td>\n",
       "      <td>Alvarez Valdes</td>\n",
       "      <td>U</td>\n",
       "      <td>NaN</td>\n",
       "      <td>MEX</td>\n",
       "      <td>NaN</td>\n",
       "      <td>NaN</td>\n",
       "    </tr>\n",
       "  </tbody>\n",
       "</table>\n",
       "<p>188161 rows × 58 columns</p>\n",
       "</div>"
      ],
      "text/plain": [
       "                             tourney_id                  tourney_name surface  \\\n",
       "0                             1968-3940                  Barranquilla    Clay   \n",
       "1                             1969-6818                St. Petersburg    Clay   \n",
       "2                             1969-2047                  Jacksonville    Clay   \n",
       "3                             1970-2047                  Jacksonville    Clay   \n",
       "4                             1968-6811               Los Angeles NTL  Carpet   \n",
       "...                                 ...                           ...     ...   \n",
       "188156                        1972-7308                      Adelaide   Grass   \n",
       "188157                        1972-7308                      Adelaide   Grass   \n",
       "188158                         1970-319                    Kitzbuehel    Clay   \n",
       "188159                        1970-6818                St. Petersburg    Clay   \n",
       "188160  2022-M-DC-2022-WG1-M-BIH-MEX-01  Davis Cup WG1 R1: BIH vs MEX    Clay   \n",
       "\n",
       "        draw_size tourney_level tourney_date  match_num  winner_id  \\\n",
       "0              32             A   1968-03-04        274     100001   \n",
       "1              64             A   1969-03-17        262     100001   \n",
       "2              32             A   1969-04-02        274     100001   \n",
       "3              32             A   1970-03-25        274     100001   \n",
       "4              16             A   1968-07-17        295     100002   \n",
       "...           ...           ...          ...        ...        ...   \n",
       "188156         64             A   1972-01-17        256     211376   \n",
       "188157         64             A   1972-01-17        242     211377   \n",
       "188158         64             A   1970-08-09        250     211421   \n",
       "188159         64             A   1970-04-06        251     211423   \n",
       "188160          4             D   2022-09-16          4     211468   \n",
       "\n",
       "        winner_seed winner_entry  ... loser_rank_points very_long_game  \\\n",
       "0               NaN          NaN  ...               NaN          False   \n",
       "1               NaN          NaN  ...               NaN          False   \n",
       "2               NaN          NaN  ...               NaN          False   \n",
       "3               NaN          NaN  ...               NaN          False   \n",
       "4               NaN          NaN  ...               NaN          False   \n",
       "...             ...          ...  ...               ...            ...   \n",
       "188156          NaN          NaN  ...               NaN          False   \n",
       "188157          NaN          NaN  ...               NaN          False   \n",
       "188158          NaN          NaN  ...               NaN          False   \n",
       "188159          NaN          NaN  ...               NaN          False   \n",
       "188160          NaN          NaN  ...               5.0          False   \n",
       "\n",
       "        player_id   name_first       name_last  hand         dob  ioc height  \\\n",
       "0          100001      Gardnar          Mulloy     R  19131122.0  USA  185.0   \n",
       "1          100001      Gardnar          Mulloy     R  19131122.0  USA  185.0   \n",
       "2          100001      Gardnar          Mulloy     R  19131122.0  USA  185.0   \n",
       "3          100001      Gardnar          Mulloy     R  19131122.0  USA  185.0   \n",
       "4          100002       Pancho          Segura     R  19210620.0  ECU  168.0   \n",
       "...           ...          ...             ...   ...         ...  ...    ...   \n",
       "188156     211376      Richard           Garey     U         NaN  AUS    NaN   \n",
       "188157     211377        Keith         Simpson     U         NaN  AUS    NaN   \n",
       "188158     211421        Peter         Popovic     U         NaN  UNK    NaN   \n",
       "188159     211423         John           Solow     U         NaN  USA    NaN   \n",
       "188160     211468  Luis Carlos  Alvarez Valdes     U         NaN  MEX    NaN   \n",
       "\n",
       "       wikidata_id  \n",
       "0           Q54544  \n",
       "1           Q54544  \n",
       "2           Q54544  \n",
       "3           Q54544  \n",
       "4           Q54581  \n",
       "...            ...  \n",
       "188156         NaN  \n",
       "188157         NaN  \n",
       "188158         NaN  \n",
       "188159         NaN  \n",
       "188160         NaN  \n",
       "\n",
       "[188161 rows x 58 columns]"
      ]
     },
     "execution_count": 47,
     "metadata": {},
     "output_type": "execute_result"
    }
   ],
   "source": [
    "merged_winner_df = pd.merge(df_merge_5, df_players, left_on='winner_id', right_on='player_id', how='left')\n",
    "merged_winner_df"
   ]
  },
  {
   "cell_type": "markdown",
   "id": "e399a393-9377-4c63-845f-6a0ecb8ec10d",
   "metadata": {},
   "source": [
    "Es wird ein neues Feature hinzugefügt, damit später leichter herausgefunden werden kann ob player_id gewonnen hatte."
   ]
  },
  {
   "cell_type": "code",
   "execution_count": 48,
   "id": "78094458-8762-44a0-9b9b-a25a68c4b5da",
   "metadata": {
    "tags": []
   },
   "outputs": [],
   "source": [
    "merged_winner_df['player_id_won'] = True"
   ]
  },
  {
   "cell_type": "code",
   "execution_count": 50,
   "id": "b62c8b9f-d075-4b32-a716-ea2a81047320",
   "metadata": {
    "tags": []
   },
   "outputs": [
    {
     "data": {
      "text/html": [
       "<div>\n",
       "<style scoped>\n",
       "    .dataframe tbody tr th:only-of-type {\n",
       "        vertical-align: middle;\n",
       "    }\n",
       "\n",
       "    .dataframe tbody tr th {\n",
       "        vertical-align: top;\n",
       "    }\n",
       "\n",
       "    .dataframe thead th {\n",
       "        text-align: right;\n",
       "    }\n",
       "</style>\n",
       "<table border=\"1\" class=\"dataframe\">\n",
       "  <thead>\n",
       "    <tr style=\"text-align: right;\">\n",
       "      <th></th>\n",
       "      <th>player_id</th>\n",
       "      <th>winner_id</th>\n",
       "      <th>loser_id</th>\n",
       "      <th>tourney_id</th>\n",
       "      <th>tourney_date</th>\n",
       "      <th>match_num</th>\n",
       "      <th>very_long_game</th>\n",
       "      <th>player_id_won</th>\n",
       "    </tr>\n",
       "  </thead>\n",
       "  <tbody>\n",
       "    <tr>\n",
       "      <th>82501</th>\n",
       "      <td>101298</td>\n",
       "      <td>101298</td>\n",
       "      <td>100631</td>\n",
       "      <td>1988-301</td>\n",
       "      <td>1988-01-04</td>\n",
       "      <td>12</td>\n",
       "      <td>False</td>\n",
       "      <td>True</td>\n",
       "    </tr>\n",
       "    <tr>\n",
       "      <th>19723</th>\n",
       "      <td>100133</td>\n",
       "      <td>100133</td>\n",
       "      <td>100377</td>\n",
       "      <td>1975-254</td>\n",
       "      <td>1975-11-17</td>\n",
       "      <td>282</td>\n",
       "      <td>False</td>\n",
       "      <td>True</td>\n",
       "    </tr>\n",
       "    <tr>\n",
       "      <th>100092</th>\n",
       "      <td>101843</td>\n",
       "      <td>101843</td>\n",
       "      <td>101772</td>\n",
       "      <td>1994-224</td>\n",
       "      <td>1994-08-22</td>\n",
       "      <td>1</td>\n",
       "      <td>False</td>\n",
       "      <td>True</td>\n",
       "    </tr>\n",
       "    <tr>\n",
       "      <th>173257</th>\n",
       "      <td>105807</td>\n",
       "      <td>105807</td>\n",
       "      <td>111202</td>\n",
       "      <td>2018-6242</td>\n",
       "      <td>2018-08-20</td>\n",
       "      <td>294</td>\n",
       "      <td>False</td>\n",
       "      <td>True</td>\n",
       "    </tr>\n",
       "    <tr>\n",
       "      <th>29099</th>\n",
       "      <td>100231</td>\n",
       "      <td>100231</td>\n",
       "      <td>100247</td>\n",
       "      <td>1974-419</td>\n",
       "      <td>1974-08-05</td>\n",
       "      <td>17</td>\n",
       "      <td>False</td>\n",
       "      <td>True</td>\n",
       "    </tr>\n",
       "  </tbody>\n",
       "</table>\n",
       "</div>"
      ],
      "text/plain": [
       "        player_id  winner_id  loser_id tourney_id tourney_date  match_num  \\\n",
       "82501      101298     101298    100631   1988-301   1988-01-04         12   \n",
       "19723      100133     100133    100377   1975-254   1975-11-17        282   \n",
       "100092     101843     101843    101772   1994-224   1994-08-22          1   \n",
       "173257     105807     105807    111202  2018-6242   2018-08-20        294   \n",
       "29099      100231     100231    100247   1974-419   1974-08-05         17   \n",
       "\n",
       "        very_long_game  player_id_won  \n",
       "82501            False           True  \n",
       "19723            False           True  \n",
       "100092           False           True  \n",
       "173257           False           True  \n",
       "29099            False           True  "
      ]
     },
     "execution_count": 50,
     "metadata": {},
     "output_type": "execute_result"
    }
   ],
   "source": [
    "#Nur die relevanten Features zeigen\n",
    "merged_winner_df[['player_id', 'winner_id','loser_id','tourney_id','tourney_date','match_num','very_long_game','player_id_won']].sample(5)"
   ]
  },
  {
   "cell_type": "markdown",
   "id": "85163a78-75a4-4a20-8b81-c368b2867267",
   "metadata": {
    "tags": []
   },
   "source": [
    "Analog werden nun auch die Matches genommen, bei dem player_id verloren hatte."
   ]
  },
  {
   "cell_type": "code",
   "execution_count": 52,
   "id": "e9a85d9b-57ce-491c-bcbe-ae3048320e2c",
   "metadata": {
    "tags": []
   },
   "outputs": [
    {
     "data": {
      "text/html": [
       "<div>\n",
       "<style scoped>\n",
       "    .dataframe tbody tr th:only-of-type {\n",
       "        vertical-align: middle;\n",
       "    }\n",
       "\n",
       "    .dataframe tbody tr th {\n",
       "        vertical-align: top;\n",
       "    }\n",
       "\n",
       "    .dataframe thead th {\n",
       "        text-align: right;\n",
       "    }\n",
       "</style>\n",
       "<table border=\"1\" class=\"dataframe\">\n",
       "  <thead>\n",
       "    <tr style=\"text-align: right;\">\n",
       "      <th></th>\n",
       "      <th>player_id</th>\n",
       "      <th>winner_id</th>\n",
       "      <th>loser_id</th>\n",
       "      <th>tourney_id</th>\n",
       "      <th>tourney_date</th>\n",
       "      <th>match_num</th>\n",
       "      <th>very_long_game</th>\n",
       "      <th>player_id_won</th>\n",
       "    </tr>\n",
       "  </thead>\n",
       "  <tbody>\n",
       "    <tr>\n",
       "      <th>184717</th>\n",
       "      <td>144895</td>\n",
       "      <td>126774</td>\n",
       "      <td>144895</td>\n",
       "      <td>2018-0425</td>\n",
       "      <td>2018-04-23</td>\n",
       "      <td>252</td>\n",
       "      <td>False</td>\n",
       "      <td>False</td>\n",
       "    </tr>\n",
       "    <tr>\n",
       "      <th>99864</th>\n",
       "      <td>101264</td>\n",
       "      <td>101843</td>\n",
       "      <td>101264</td>\n",
       "      <td>1990-319</td>\n",
       "      <td>1990-07-30</td>\n",
       "      <td>29</td>\n",
       "      <td>False</td>\n",
       "      <td>False</td>\n",
       "    </tr>\n",
       "    <tr>\n",
       "      <th>183893</th>\n",
       "      <td>106210</td>\n",
       "      <td>126094</td>\n",
       "      <td>106210</td>\n",
       "      <td>2022-0495</td>\n",
       "      <td>2022-02-21</td>\n",
       "      <td>300</td>\n",
       "      <td>False</td>\n",
       "      <td>False</td>\n",
       "    </tr>\n",
       "    <tr>\n",
       "      <th>49974</th>\n",
       "      <td>100416</td>\n",
       "      <td>100446</td>\n",
       "      <td>100416</td>\n",
       "      <td>1980-315</td>\n",
       "      <td>1980-07-07</td>\n",
       "      <td>285</td>\n",
       "      <td>False</td>\n",
       "      <td>False</td>\n",
       "    </tr>\n",
       "    <tr>\n",
       "      <th>35858</th>\n",
       "      <td>100186</td>\n",
       "      <td>100282</td>\n",
       "      <td>100186</td>\n",
       "      <td>1973-419</td>\n",
       "      <td>1973-08-13</td>\n",
       "      <td>28</td>\n",
       "      <td>False</td>\n",
       "      <td>False</td>\n",
       "    </tr>\n",
       "  </tbody>\n",
       "</table>\n",
       "</div>"
      ],
      "text/plain": [
       "        player_id  winner_id  loser_id tourney_id tourney_date  match_num  \\\n",
       "184717     144895     126774    144895  2018-0425   2018-04-23        252   \n",
       "99864      101264     101843    101264   1990-319   1990-07-30         29   \n",
       "183893     106210     126094    106210  2022-0495   2022-02-21        300   \n",
       "49974      100416     100446    100416   1980-315   1980-07-07        285   \n",
       "35858      100186     100282    100186   1973-419   1973-08-13         28   \n",
       "\n",
       "        very_long_game  player_id_won  \n",
       "184717           False          False  \n",
       "99864            False          False  \n",
       "183893           False          False  \n",
       "49974            False          False  \n",
       "35858            False          False  "
      ]
     },
     "execution_count": 52,
     "metadata": {},
     "output_type": "execute_result"
    }
   ],
   "source": [
    "merged_loser_df = pd.merge(df_merge_5, df_players, left_on='loser_id', right_on='player_id', how='left')\n",
    "merged_loser_df['player_id_won'] = False\n",
    "merged_loser_df[['player_id', 'winner_id','loser_id','tourney_id','tourney_date','match_num','very_long_game','player_id_won']].sample(5)"
   ]
  },
  {
   "cell_type": "markdown",
   "id": "cf3f5ae5-51db-4088-a81c-0602ff0c2401",
   "metadata": {},
   "source": [
    "Jetzt werden die Tabellen merged_winner_df und merged_loser_df verschmolzen. Der neue DataFrame beinhaltet alle Spieler mit jeweils allen Spielen an diese teilgenommen hatten."
   ]
  },
  {
   "cell_type": "code",
   "execution_count": 53,
   "id": "0d793538-8c72-46bb-9cef-3aa4a47ae792",
   "metadata": {
    "tags": []
   },
   "outputs": [],
   "source": [
    "merged_all = pd.concat([merged_winner_df[['player_id', 'winner_id','loser_id','tourney_id','tourney_date','match_num','very_long_game','player_id_won']],\n",
    "                        merged_loser_df[['player_id', 'winner_id','loser_id','tourney_id','tourney_date','match_num','very_long_game','player_id_won']]]).reset_index(drop=True)"
   ]
  },
  {
   "cell_type": "markdown",
   "id": "54fc5307-c8f7-49fe-98ff-4eb4a110614a",
   "metadata": {},
   "source": [
    "Prüfen der neuen Tabelle und sortieren Best möglichst nach der Reihenfolge wie es mit den gegebenen Features möglich ist."
   ]
  },
  {
   "cell_type": "code",
   "execution_count": 55,
   "id": "c8c97f64-64f3-4d0c-8acf-9d0a587103ef",
   "metadata": {
    "tags": []
   },
   "outputs": [
    {
     "data": {
      "text/html": [
       "<div>\n",
       "<style scoped>\n",
       "    .dataframe tbody tr th:only-of-type {\n",
       "        vertical-align: middle;\n",
       "    }\n",
       "\n",
       "    .dataframe tbody tr th {\n",
       "        vertical-align: top;\n",
       "    }\n",
       "\n",
       "    .dataframe thead th {\n",
       "        text-align: right;\n",
       "    }\n",
       "</style>\n",
       "<table border=\"1\" class=\"dataframe\">\n",
       "  <thead>\n",
       "    <tr style=\"text-align: right;\">\n",
       "      <th></th>\n",
       "      <th>player_id</th>\n",
       "      <th>winner_id</th>\n",
       "      <th>loser_id</th>\n",
       "      <th>tourney_id</th>\n",
       "      <th>tourney_date</th>\n",
       "      <th>match_num</th>\n",
       "      <th>very_long_game</th>\n",
       "      <th>player_id_won</th>\n",
       "    </tr>\n",
       "  </thead>\n",
       "  <tbody>\n",
       "    <tr>\n",
       "      <th>0</th>\n",
       "      <td>100001</td>\n",
       "      <td>100001</td>\n",
       "      <td>100039</td>\n",
       "      <td>1968-3940</td>\n",
       "      <td>1968-03-04</td>\n",
       "      <td>274</td>\n",
       "      <td>False</td>\n",
       "      <td>True</td>\n",
       "    </tr>\n",
       "    <tr>\n",
       "      <th>195830</th>\n",
       "      <td>100001</td>\n",
       "      <td>100073</td>\n",
       "      <td>100001</td>\n",
       "      <td>1968-3940</td>\n",
       "      <td>1968-03-04</td>\n",
       "      <td>292</td>\n",
       "      <td>False</td>\n",
       "      <td>False</td>\n",
       "    </tr>\n",
       "    <tr>\n",
       "      <th>369431</th>\n",
       "      <td>100001</td>\n",
       "      <td>110268</td>\n",
       "      <td>100001</td>\n",
       "      <td>1968-410</td>\n",
       "      <td>1968-04-15</td>\n",
       "      <td>267</td>\n",
       "      <td>False</td>\n",
       "      <td>False</td>\n",
       "    </tr>\n",
       "    <tr>\n",
       "      <th>1</th>\n",
       "      <td>100001</td>\n",
       "      <td>100001</td>\n",
       "      <td>209609</td>\n",
       "      <td>1969-6818</td>\n",
       "      <td>1969-03-17</td>\n",
       "      <td>262</td>\n",
       "      <td>False</td>\n",
       "      <td>True</td>\n",
       "    </tr>\n",
       "    <tr>\n",
       "      <th>204327</th>\n",
       "      <td>100001</td>\n",
       "      <td>100119</td>\n",
       "      <td>100001</td>\n",
       "      <td>1969-6818</td>\n",
       "      <td>1969-03-17</td>\n",
       "      <td>273</td>\n",
       "      <td>False</td>\n",
       "      <td>False</td>\n",
       "    </tr>\n",
       "    <tr>\n",
       "      <th>...</th>\n",
       "      <td>...</td>\n",
       "      <td>...</td>\n",
       "      <td>...</td>\n",
       "      <td>...</td>\n",
       "      <td>...</td>\n",
       "      <td>...</td>\n",
       "      <td>...</td>\n",
       "      <td>...</td>\n",
       "    </tr>\n",
       "    <tr>\n",
       "      <th>208532</th>\n",
       "      <td>211801</td>\n",
       "      <td>100139</td>\n",
       "      <td>211801</td>\n",
       "      <td>1968-319</td>\n",
       "      <td>1968-08-20</td>\n",
       "      <td>269</td>\n",
       "      <td>False</td>\n",
       "      <td>False</td>\n",
       "    </tr>\n",
       "    <tr>\n",
       "      <th>369188</th>\n",
       "      <td>211802</td>\n",
       "      <td>110005</td>\n",
       "      <td>211802</td>\n",
       "      <td>1968-319</td>\n",
       "      <td>1968-08-20</td>\n",
       "      <td>268</td>\n",
       "      <td>False</td>\n",
       "      <td>False</td>\n",
       "    </tr>\n",
       "    <tr>\n",
       "      <th>210686</th>\n",
       "      <td>211803</td>\n",
       "      <td>100161</td>\n",
       "      <td>211803</td>\n",
       "      <td>1968-319</td>\n",
       "      <td>1968-08-20</td>\n",
       "      <td>265</td>\n",
       "      <td>False</td>\n",
       "      <td>False</td>\n",
       "    </tr>\n",
       "    <tr>\n",
       "      <th>375859</th>\n",
       "      <td>211804</td>\n",
       "      <td>208990</td>\n",
       "      <td>211804</td>\n",
       "      <td>1968-319</td>\n",
       "      <td>1968-08-20</td>\n",
       "      <td>255</td>\n",
       "      <td>False</td>\n",
       "      <td>False</td>\n",
       "    </tr>\n",
       "    <tr>\n",
       "      <th>198899</th>\n",
       "      <td>211805</td>\n",
       "      <td>100085</td>\n",
       "      <td>211805</td>\n",
       "      <td>1968-319</td>\n",
       "      <td>1968-08-20</td>\n",
       "      <td>252</td>\n",
       "      <td>False</td>\n",
       "      <td>False</td>\n",
       "    </tr>\n",
       "  </tbody>\n",
       "</table>\n",
       "<p>376322 rows × 8 columns</p>\n",
       "</div>"
      ],
      "text/plain": [
       "        player_id  winner_id  loser_id tourney_id tourney_date  match_num  \\\n",
       "0          100001     100001    100039  1968-3940   1968-03-04        274   \n",
       "195830     100001     100073    100001  1968-3940   1968-03-04        292   \n",
       "369431     100001     110268    100001   1968-410   1968-04-15        267   \n",
       "1          100001     100001    209609  1969-6818   1969-03-17        262   \n",
       "204327     100001     100119    100001  1969-6818   1969-03-17        273   \n",
       "...           ...        ...       ...        ...          ...        ...   \n",
       "208532     211801     100139    211801   1968-319   1968-08-20        269   \n",
       "369188     211802     110005    211802   1968-319   1968-08-20        268   \n",
       "210686     211803     100161    211803   1968-319   1968-08-20        265   \n",
       "375859     211804     208990    211804   1968-319   1968-08-20        255   \n",
       "198899     211805     100085    211805   1968-319   1968-08-20        252   \n",
       "\n",
       "        very_long_game  player_id_won  \n",
       "0                False           True  \n",
       "195830           False          False  \n",
       "369431           False          False  \n",
       "1                False           True  \n",
       "204327           False          False  \n",
       "...                ...            ...  \n",
       "208532           False          False  \n",
       "369188           False          False  \n",
       "210686           False          False  \n",
       "375859           False          False  \n",
       "198899           False          False  \n",
       "\n",
       "[376322 rows x 8 columns]"
      ]
     },
     "execution_count": 55,
     "metadata": {},
     "output_type": "execute_result"
    }
   ],
   "source": [
    "merged_all.sort_values(by=['player_id', 'tourney_date','match_num'], inplace=True)\n",
    "merged_all"
   ]
  },
  {
   "cell_type": "markdown",
   "id": "4088e124-cc8b-4169-9eab-bea4353f67d5",
   "metadata": {},
   "source": [
    "Das DataFrame sieht gut aus, die Zeilenanzahl ist auch wie erwartet doppelt so groß."
   ]
  },
  {
   "cell_type": "markdown",
   "id": "786c1e0c-7dd5-4f21-9e22-24e8ce7416d4",
   "metadata": {},
   "source": [
    "Für die Aufgabenstellung ist wichtig zu wissen, ob ein Spiel nach einem langen Spiel stattgefunden hatte. Wir fügen ein neues Feature hinzu und nutzen dazu das erstelle Feature very_long_game."
   ]
  },
  {
   "cell_type": "code",
   "execution_count": 58,
   "id": "e7b2788e-a2ea-4465-a7fd-cdd9c36f7878",
   "metadata": {
    "tags": []
   },
   "outputs": [],
   "source": [
    "merged_all['previous_match_was_long'] = merged_all.groupby('player_id')['very_long_game'].shift(fill_value=False)"
   ]
  },
  {
   "cell_type": "code",
   "execution_count": 61,
   "id": "333ca12f-c430-4ef8-92e5-06692a95da92",
   "metadata": {
    "tags": []
   },
   "outputs": [
    {
     "data": {
      "text/html": [
       "<div>\n",
       "<style scoped>\n",
       "    .dataframe tbody tr th:only-of-type {\n",
       "        vertical-align: middle;\n",
       "    }\n",
       "\n",
       "    .dataframe tbody tr th {\n",
       "        vertical-align: top;\n",
       "    }\n",
       "\n",
       "    .dataframe thead th {\n",
       "        text-align: right;\n",
       "    }\n",
       "</style>\n",
       "<table border=\"1\" class=\"dataframe\">\n",
       "  <thead>\n",
       "    <tr style=\"text-align: right;\">\n",
       "      <th></th>\n",
       "      <th>player_id</th>\n",
       "      <th>winner_id</th>\n",
       "      <th>loser_id</th>\n",
       "      <th>tourney_id</th>\n",
       "      <th>tourney_date</th>\n",
       "      <th>match_num</th>\n",
       "      <th>very_long_game</th>\n",
       "      <th>player_id_won</th>\n",
       "      <th>previous_match_was_long</th>\n",
       "    </tr>\n",
       "  </thead>\n",
       "  <tbody>\n",
       "    <tr>\n",
       "      <th>285115</th>\n",
       "      <td>101821</td>\n",
       "      <td>101746</td>\n",
       "      <td>101821</td>\n",
       "      <td>1997-580</td>\n",
       "      <td>1997-01-13</td>\n",
       "      <td>71</td>\n",
       "      <td>False</td>\n",
       "      <td>False</td>\n",
       "      <td>False</td>\n",
       "    </tr>\n",
       "    <tr>\n",
       "      <th>229925</th>\n",
       "      <td>100261</td>\n",
       "      <td>100326</td>\n",
       "      <td>100261</td>\n",
       "      <td>1980-338</td>\n",
       "      <td>1980-12-15</td>\n",
       "      <td>53</td>\n",
       "      <td>False</td>\n",
       "      <td>False</td>\n",
       "      <td>False</td>\n",
       "    </tr>\n",
       "    <tr>\n",
       "      <th>237901</th>\n",
       "      <td>100397</td>\n",
       "      <td>100443</td>\n",
       "      <td>100397</td>\n",
       "      <td>1980-206</td>\n",
       "      <td>1980-03-03</td>\n",
       "      <td>27</td>\n",
       "      <td>False</td>\n",
       "      <td>False</td>\n",
       "      <td>False</td>\n",
       "    </tr>\n",
       "    <tr>\n",
       "      <th>305157</th>\n",
       "      <td>101334</td>\n",
       "      <td>102563</td>\n",
       "      <td>101334</td>\n",
       "      <td>1997-568</td>\n",
       "      <td>1997-03-17</td>\n",
       "      <td>8</td>\n",
       "      <td>False</td>\n",
       "      <td>False</td>\n",
       "      <td>False</td>\n",
       "    </tr>\n",
       "    <tr>\n",
       "      <th>28023</th>\n",
       "      <td>100220</td>\n",
       "      <td>100220</td>\n",
       "      <td>100098</td>\n",
       "      <td>1973-379</td>\n",
       "      <td>1973-10-28</td>\n",
       "      <td>30</td>\n",
       "      <td>False</td>\n",
       "      <td>True</td>\n",
       "      <td>False</td>\n",
       "    </tr>\n",
       "  </tbody>\n",
       "</table>\n",
       "</div>"
      ],
      "text/plain": [
       "        player_id  winner_id  loser_id tourney_id tourney_date  match_num  \\\n",
       "285115     101821     101746    101821   1997-580   1997-01-13         71   \n",
       "229925     100261     100326    100261   1980-338   1980-12-15         53   \n",
       "237901     100397     100443    100397   1980-206   1980-03-03         27   \n",
       "305157     101334     102563    101334   1997-568   1997-03-17          8   \n",
       "28023      100220     100220    100098   1973-379   1973-10-28         30   \n",
       "\n",
       "        very_long_game  player_id_won  previous_match_was_long  \n",
       "285115           False          False                    False  \n",
       "229925           False          False                    False  \n",
       "237901           False          False                    False  \n",
       "305157           False          False                    False  \n",
       "28023            False           True                    False  "
      ]
     },
     "execution_count": 61,
     "metadata": {},
     "output_type": "execute_result"
    }
   ],
   "source": [
    "merged_all.sample(5)"
   ]
  },
  {
   "cell_type": "markdown",
   "id": "adef312e-712d-4e1c-bebb-825d4e10bb46",
   "metadata": {},
   "source": [
    "Jetzt sind die nötigen Features vorhanden die zur Auswertung nötig sind. Es muss jetzt nur noch gruppiert werden nach previus_match_was_long und mithile von player_id_won können wir die Häufigkeit ausrechnen."
   ]
  },
  {
   "cell_type": "code",
   "execution_count": 64,
   "id": "2ba0017f-8cf4-42ad-b4e5-31ecb820b371",
   "metadata": {
    "tags": []
   },
   "outputs": [],
   "source": [
    "result = merged_all.groupby('previous_match_was_long')['player_id_won'].mean() * 100"
   ]
  },
  {
   "cell_type": "code",
   "execution_count": 70,
   "id": "1f2a3a0a-61e3-4503-b709-f90dd8e427fe",
   "metadata": {
    "tags": []
   },
   "outputs": [
    {
     "data": {
      "text/plain": [
       "previous_match_was_long\n",
       "False    50.01\n",
       "True     49.77\n",
       "Name: player_id_won, dtype: float64"
      ]
     },
     "execution_count": 70,
     "metadata": {},
     "output_type": "execute_result"
    }
   ],
   "source": [
    "#Auf 2 nachkommastellen runden\n",
    "result = result.round(2)\n",
    "result"
   ]
  },
  {
   "cell_type": "markdown",
   "id": "762c5a54-9b6f-4e13-9c48-86c32db67faa",
   "metadata": {},
   "source": [
    "Es scheint keinen Unterschied zu machen ob ein Spiel vorher sehr lange gewesen ist, wobei wir einiges noch beachten müssen:  \n",
    "Wir können leider nicht berücksichtigen, wie viele Tage zwischen den Matches lagen. Es ist nur das Startdatum des Turnieres bekannt und die match_num für die Reihenfolge (Keine direkten Zeitlichen Hinweise) Die Fragestellung lässt sich also nicht wirklich gut beantworten mit den gegebenen Daten.  \n",
    "Das Ergebnis wird mit einem Sunburst dargestellt.\n"
   ]
  },
  {
   "cell_type": "code",
   "execution_count": 72,
   "id": "f0bfe768-7936-4141-a2ea-496fcab1bb62",
   "metadata": {
    "tags": []
   },
   "outputs": [
    {
     "data": {
      "application/vnd.plotly.v1+json": {
       "config": {
        "plotlyServerURL": "https://plot.ly"
       },
       "data": [
        {
         "branchvalues": "total",
         "domain": {
          "x": [
           0,
           1
          ],
          "y": [
           0,
           1
          ]
         },
         "hovertemplate": "labels=%{label}<br>player_id_won=%{value}<br>parent=%{parent}<br>id=%{id}<extra></extra>",
         "ids": [
          "True/49.77",
          "False/50.01",
          "False",
          "True"
         ],
         "labels": [
          "49.77",
          "50.01",
          "False",
          "True"
         ],
         "name": "",
         "parents": [
          "True",
          "False",
          "",
          ""
         ],
         "type": "sunburst",
         "values": [
          49.77,
          50.01,
          50.01,
          49.77
         ]
        }
       ],
       "layout": {
        "autosize": true,
        "legend": {
         "tracegroupgap": 0
        },
        "sunburstcolorway": [
         "green",
         "blue"
        ],
        "template": {
         "data": {
          "bar": [
           {
            "error_x": {
             "color": "#2a3f5f"
            },
            "error_y": {
             "color": "#2a3f5f"
            },
            "marker": {
             "line": {
              "color": "#E5ECF6",
              "width": 0.5
             },
             "pattern": {
              "fillmode": "overlay",
              "size": 10,
              "solidity": 0.2
             }
            },
            "type": "bar"
           }
          ],
          "barpolar": [
           {
            "marker": {
             "line": {
              "color": "#E5ECF6",
              "width": 0.5
             },
             "pattern": {
              "fillmode": "overlay",
              "size": 10,
              "solidity": 0.2
             }
            },
            "type": "barpolar"
           }
          ],
          "carpet": [
           {
            "aaxis": {
             "endlinecolor": "#2a3f5f",
             "gridcolor": "white",
             "linecolor": "white",
             "minorgridcolor": "white",
             "startlinecolor": "#2a3f5f"
            },
            "baxis": {
             "endlinecolor": "#2a3f5f",
             "gridcolor": "white",
             "linecolor": "white",
             "minorgridcolor": "white",
             "startlinecolor": "#2a3f5f"
            },
            "type": "carpet"
           }
          ],
          "choropleth": [
           {
            "colorbar": {
             "outlinewidth": 0,
             "ticks": ""
            },
            "type": "choropleth"
           }
          ],
          "contour": [
           {
            "colorbar": {
             "outlinewidth": 0,
             "ticks": ""
            },
            "colorscale": [
             [
              0,
              "#0d0887"
             ],
             [
              0.1111111111111111,
              "#46039f"
             ],
             [
              0.2222222222222222,
              "#7201a8"
             ],
             [
              0.3333333333333333,
              "#9c179e"
             ],
             [
              0.4444444444444444,
              "#bd3786"
             ],
             [
              0.5555555555555556,
              "#d8576b"
             ],
             [
              0.6666666666666666,
              "#ed7953"
             ],
             [
              0.7777777777777778,
              "#fb9f3a"
             ],
             [
              0.8888888888888888,
              "#fdca26"
             ],
             [
              1,
              "#f0f921"
             ]
            ],
            "type": "contour"
           }
          ],
          "contourcarpet": [
           {
            "colorbar": {
             "outlinewidth": 0,
             "ticks": ""
            },
            "type": "contourcarpet"
           }
          ],
          "heatmap": [
           {
            "colorbar": {
             "outlinewidth": 0,
             "ticks": ""
            },
            "colorscale": [
             [
              0,
              "#0d0887"
             ],
             [
              0.1111111111111111,
              "#46039f"
             ],
             [
              0.2222222222222222,
              "#7201a8"
             ],
             [
              0.3333333333333333,
              "#9c179e"
             ],
             [
              0.4444444444444444,
              "#bd3786"
             ],
             [
              0.5555555555555556,
              "#d8576b"
             ],
             [
              0.6666666666666666,
              "#ed7953"
             ],
             [
              0.7777777777777778,
              "#fb9f3a"
             ],
             [
              0.8888888888888888,
              "#fdca26"
             ],
             [
              1,
              "#f0f921"
             ]
            ],
            "type": "heatmap"
           }
          ],
          "heatmapgl": [
           {
            "colorbar": {
             "outlinewidth": 0,
             "ticks": ""
            },
            "colorscale": [
             [
              0,
              "#0d0887"
             ],
             [
              0.1111111111111111,
              "#46039f"
             ],
             [
              0.2222222222222222,
              "#7201a8"
             ],
             [
              0.3333333333333333,
              "#9c179e"
             ],
             [
              0.4444444444444444,
              "#bd3786"
             ],
             [
              0.5555555555555556,
              "#d8576b"
             ],
             [
              0.6666666666666666,
              "#ed7953"
             ],
             [
              0.7777777777777778,
              "#fb9f3a"
             ],
             [
              0.8888888888888888,
              "#fdca26"
             ],
             [
              1,
              "#f0f921"
             ]
            ],
            "type": "heatmapgl"
           }
          ],
          "histogram": [
           {
            "marker": {
             "pattern": {
              "fillmode": "overlay",
              "size": 10,
              "solidity": 0.2
             }
            },
            "type": "histogram"
           }
          ],
          "histogram2d": [
           {
            "colorbar": {
             "outlinewidth": 0,
             "ticks": ""
            },
            "colorscale": [
             [
              0,
              "#0d0887"
             ],
             [
              0.1111111111111111,
              "#46039f"
             ],
             [
              0.2222222222222222,
              "#7201a8"
             ],
             [
              0.3333333333333333,
              "#9c179e"
             ],
             [
              0.4444444444444444,
              "#bd3786"
             ],
             [
              0.5555555555555556,
              "#d8576b"
             ],
             [
              0.6666666666666666,
              "#ed7953"
             ],
             [
              0.7777777777777778,
              "#fb9f3a"
             ],
             [
              0.8888888888888888,
              "#fdca26"
             ],
             [
              1,
              "#f0f921"
             ]
            ],
            "type": "histogram2d"
           }
          ],
          "histogram2dcontour": [
           {
            "colorbar": {
             "outlinewidth": 0,
             "ticks": ""
            },
            "colorscale": [
             [
              0,
              "#0d0887"
             ],
             [
              0.1111111111111111,
              "#46039f"
             ],
             [
              0.2222222222222222,
              "#7201a8"
             ],
             [
              0.3333333333333333,
              "#9c179e"
             ],
             [
              0.4444444444444444,
              "#bd3786"
             ],
             [
              0.5555555555555556,
              "#d8576b"
             ],
             [
              0.6666666666666666,
              "#ed7953"
             ],
             [
              0.7777777777777778,
              "#fb9f3a"
             ],
             [
              0.8888888888888888,
              "#fdca26"
             ],
             [
              1,
              "#f0f921"
             ]
            ],
            "type": "histogram2dcontour"
           }
          ],
          "mesh3d": [
           {
            "colorbar": {
             "outlinewidth": 0,
             "ticks": ""
            },
            "type": "mesh3d"
           }
          ],
          "parcoords": [
           {
            "line": {
             "colorbar": {
              "outlinewidth": 0,
              "ticks": ""
             }
            },
            "type": "parcoords"
           }
          ],
          "pie": [
           {
            "automargin": true,
            "type": "pie"
           }
          ],
          "scatter": [
           {
            "fillpattern": {
             "fillmode": "overlay",
             "size": 10,
             "solidity": 0.2
            },
            "type": "scatter"
           }
          ],
          "scatter3d": [
           {
            "line": {
             "colorbar": {
              "outlinewidth": 0,
              "ticks": ""
             }
            },
            "marker": {
             "colorbar": {
              "outlinewidth": 0,
              "ticks": ""
             }
            },
            "type": "scatter3d"
           }
          ],
          "scattercarpet": [
           {
            "marker": {
             "colorbar": {
              "outlinewidth": 0,
              "ticks": ""
             }
            },
            "type": "scattercarpet"
           }
          ],
          "scattergeo": [
           {
            "marker": {
             "colorbar": {
              "outlinewidth": 0,
              "ticks": ""
             }
            },
            "type": "scattergeo"
           }
          ],
          "scattergl": [
           {
            "marker": {
             "colorbar": {
              "outlinewidth": 0,
              "ticks": ""
             }
            },
            "type": "scattergl"
           }
          ],
          "scattermapbox": [
           {
            "marker": {
             "colorbar": {
              "outlinewidth": 0,
              "ticks": ""
             }
            },
            "type": "scattermapbox"
           }
          ],
          "scatterpolar": [
           {
            "marker": {
             "colorbar": {
              "outlinewidth": 0,
              "ticks": ""
             }
            },
            "type": "scatterpolar"
           }
          ],
          "scatterpolargl": [
           {
            "marker": {
             "colorbar": {
              "outlinewidth": 0,
              "ticks": ""
             }
            },
            "type": "scatterpolargl"
           }
          ],
          "scatterternary": [
           {
            "marker": {
             "colorbar": {
              "outlinewidth": 0,
              "ticks": ""
             }
            },
            "type": "scatterternary"
           }
          ],
          "surface": [
           {
            "colorbar": {
             "outlinewidth": 0,
             "ticks": ""
            },
            "colorscale": [
             [
              0,
              "#0d0887"
             ],
             [
              0.1111111111111111,
              "#46039f"
             ],
             [
              0.2222222222222222,
              "#7201a8"
             ],
             [
              0.3333333333333333,
              "#9c179e"
             ],
             [
              0.4444444444444444,
              "#bd3786"
             ],
             [
              0.5555555555555556,
              "#d8576b"
             ],
             [
              0.6666666666666666,
              "#ed7953"
             ],
             [
              0.7777777777777778,
              "#fb9f3a"
             ],
             [
              0.8888888888888888,
              "#fdca26"
             ],
             [
              1,
              "#f0f921"
             ]
            ],
            "type": "surface"
           }
          ],
          "table": [
           {
            "cells": {
             "fill": {
              "color": "#EBF0F8"
             },
             "line": {
              "color": "white"
             }
            },
            "header": {
             "fill": {
              "color": "#C8D4E3"
             },
             "line": {
              "color": "white"
             }
            },
            "type": "table"
           }
          ]
         },
         "layout": {
          "annotationdefaults": {
           "arrowcolor": "#2a3f5f",
           "arrowhead": 0,
           "arrowwidth": 1
          },
          "autotypenumbers": "strict",
          "coloraxis": {
           "colorbar": {
            "outlinewidth": 0,
            "ticks": ""
           }
          },
          "colorscale": {
           "diverging": [
            [
             0,
             "#8e0152"
            ],
            [
             0.1,
             "#c51b7d"
            ],
            [
             0.2,
             "#de77ae"
            ],
            [
             0.3,
             "#f1b6da"
            ],
            [
             0.4,
             "#fde0ef"
            ],
            [
             0.5,
             "#f7f7f7"
            ],
            [
             0.6,
             "#e6f5d0"
            ],
            [
             0.7,
             "#b8e186"
            ],
            [
             0.8,
             "#7fbc41"
            ],
            [
             0.9,
             "#4d9221"
            ],
            [
             1,
             "#276419"
            ]
           ],
           "sequential": [
            [
             0,
             "#0d0887"
            ],
            [
             0.1111111111111111,
             "#46039f"
            ],
            [
             0.2222222222222222,
             "#7201a8"
            ],
            [
             0.3333333333333333,
             "#9c179e"
            ],
            [
             0.4444444444444444,
             "#bd3786"
            ],
            [
             0.5555555555555556,
             "#d8576b"
            ],
            [
             0.6666666666666666,
             "#ed7953"
            ],
            [
             0.7777777777777778,
             "#fb9f3a"
            ],
            [
             0.8888888888888888,
             "#fdca26"
            ],
            [
             1,
             "#f0f921"
            ]
           ],
           "sequentialminus": [
            [
             0,
             "#0d0887"
            ],
            [
             0.1111111111111111,
             "#46039f"
            ],
            [
             0.2222222222222222,
             "#7201a8"
            ],
            [
             0.3333333333333333,
             "#9c179e"
            ],
            [
             0.4444444444444444,
             "#bd3786"
            ],
            [
             0.5555555555555556,
             "#d8576b"
            ],
            [
             0.6666666666666666,
             "#ed7953"
            ],
            [
             0.7777777777777778,
             "#fb9f3a"
            ],
            [
             0.8888888888888888,
             "#fdca26"
            ],
            [
             1,
             "#f0f921"
            ]
           ]
          },
          "colorway": [
           "#636efa",
           "#EF553B",
           "#00cc96",
           "#ab63fa",
           "#FFA15A",
           "#19d3f3",
           "#FF6692",
           "#B6E880",
           "#FF97FF",
           "#FECB52"
          ],
          "font": {
           "color": "#2a3f5f"
          },
          "geo": {
           "bgcolor": "white",
           "lakecolor": "white",
           "landcolor": "#E5ECF6",
           "showlakes": true,
           "showland": true,
           "subunitcolor": "white"
          },
          "hoverlabel": {
           "align": "left"
          },
          "hovermode": "closest",
          "mapbox": {
           "style": "light"
          },
          "paper_bgcolor": "white",
          "plot_bgcolor": "#E5ECF6",
          "polar": {
           "angularaxis": {
            "gridcolor": "white",
            "linecolor": "white",
            "ticks": ""
           },
           "bgcolor": "#E5ECF6",
           "radialaxis": {
            "gridcolor": "white",
            "linecolor": "white",
            "ticks": ""
           }
          },
          "scene": {
           "xaxis": {
            "backgroundcolor": "#E5ECF6",
            "gridcolor": "white",
            "gridwidth": 2,
            "linecolor": "white",
            "showbackground": true,
            "ticks": "",
            "zerolinecolor": "white"
           },
           "yaxis": {
            "backgroundcolor": "#E5ECF6",
            "gridcolor": "white",
            "gridwidth": 2,
            "linecolor": "white",
            "showbackground": true,
            "ticks": "",
            "zerolinecolor": "white"
           },
           "zaxis": {
            "backgroundcolor": "#E5ECF6",
            "gridcolor": "white",
            "gridwidth": 2,
            "linecolor": "white",
            "showbackground": true,
            "ticks": "",
            "zerolinecolor": "white"
           }
          },
          "shapedefaults": {
           "line": {
            "color": "#2a3f5f"
           }
          },
          "ternary": {
           "aaxis": {
            "gridcolor": "white",
            "linecolor": "white",
            "ticks": ""
           },
           "baxis": {
            "gridcolor": "white",
            "linecolor": "white",
            "ticks": ""
           },
           "bgcolor": "#E5ECF6",
           "caxis": {
            "gridcolor": "white",
            "linecolor": "white",
            "ticks": ""
           }
          },
          "title": {
           "x": 0.05
          },
          "xaxis": {
           "automargin": true,
           "gridcolor": "white",
           "linecolor": "white",
           "ticks": "",
           "title": {
            "standoff": 15
           },
           "zerolinecolor": "white",
           "zerolinewidth": 2
          },
          "yaxis": {
           "automargin": true,
           "gridcolor": "white",
           "linecolor": "white",
           "ticks": "",
           "title": {
            "standoff": 15
           },
           "zerolinecolor": "white",
           "zerolinewidth": 2
          }
         }
        },
        "title": {
         "text": "Anteil von True-Werten in \"player_id_won\" nach \"previous_match_was_long\""
        }
       }
      },
      "image/png": "[encoded data removed]",
      "text/html": [
       "<div>                            <div id=\"6fa0fdd6-c7b2-4a1a-bd29-05b68d2a630e\" class=\"plotly-graph-div\" style=\"height:525px; width:100%;\"></div>            <script type=\"text/javascript\">                require([\"plotly\"], function(Plotly) {                    window.PLOTLYENV=window.PLOTLYENV || {};                                    if (document.getElementById(\"6fa0fdd6-c7b2-4a1a-bd29-05b68d2a630e\")) {                    Plotly.newPlot(                        \"6fa0fdd6-c7b2-4a1a-bd29-05b68d2a630e\",                        [{\"branchvalues\":\"total\",\"domain\":{\"x\":[0.0,1.0],\"y\":[0.0,1.0]},\"hovertemplate\":\"labels=%{label}\\u003cbr\\u003eplayer_id_won=%{value}\\u003cbr\\u003eparent=%{parent}\\u003cbr\\u003eid=%{id}\\u003cextra\\u003e\\u003c\\u002fextra\\u003e\",\"ids\":[\"True\\u002f49.77\",\"False\\u002f50.01\",\"False\",\"True\"],\"labels\":[\"49.77\",\"50.01\",\"False\",\"True\"],\"name\":\"\",\"parents\":[\"True\",\"False\",\"\",\"\"],\"values\":[49.77,50.01,50.01,49.77],\"type\":\"sunburst\"}],                        {\"template\":{\"data\":{\"histogram2dcontour\":[{\"type\":\"histogram2dcontour\",\"colorbar\":{\"outlinewidth\":0,\"ticks\":\"\"},\"colorscale\":[[0.0,\"#0d0887\"],[0.1111111111111111,\"#46039f\"],[0.2222222222222222,\"#7201a8\"],[0.3333333333333333,\"#9c179e\"],[0.4444444444444444,\"#bd3786\"],[0.5555555555555556,\"#d8576b\"],[0.6666666666666666,\"#ed7953\"],[0.7777777777777778,\"#fb9f3a\"],[0.8888888888888888,\"#fdca26\"],[1.0,\"#f0f921\"]]}],\"choropleth\":[{\"type\":\"choropleth\",\"colorbar\":{\"outlinewidth\":0,\"ticks\":\"\"}}],\"histogram2d\":[{\"type\":\"histogram2d\",\"colorbar\":{\"outlinewidth\":0,\"ticks\":\"\"},\"colorscale\":[[0.0,\"#0d0887\"],[0.1111111111111111,\"#46039f\"],[0.2222222222222222,\"#7201a8\"],[0.3333333333333333,\"#9c179e\"],[0.4444444444444444,\"#bd3786\"],[0.5555555555555556,\"#d8576b\"],[0.6666666666666666,\"#ed7953\"],[0.7777777777777778,\"#fb9f3a\"],[0.8888888888888888,\"#fdca26\"],[1.0,\"#f0f921\"]]}],\"heatmap\":[{\"type\":\"heatmap\",\"colorbar\":{\"outlinewidth\":0,\"ticks\":\"\"},\"colorscale\":[[0.0,\"#0d0887\"],[0.1111111111111111,\"#46039f\"],[0.2222222222222222,\"#7201a8\"],[0.3333333333333333,\"#9c179e\"],[0.4444444444444444,\"#bd3786\"],[0.5555555555555556,\"#d8576b\"],[0.6666666666666666,\"#ed7953\"],[0.7777777777777778,\"#fb9f3a\"],[0.8888888888888888,\"#fdca26\"],[1.0,\"#f0f921\"]]}],\"heatmapgl\":[{\"type\":\"heatmapgl\",\"colorbar\":{\"outlinewidth\":0,\"ticks\":\"\"},\"colorscale\":[[0.0,\"#0d0887\"],[0.1111111111111111,\"#46039f\"],[0.2222222222222222,\"#7201a8\"],[0.3333333333333333,\"#9c179e\"],[0.4444444444444444,\"#bd3786\"],[0.5555555555555556,\"#d8576b\"],[0.6666666666666666,\"#ed7953\"],[0.7777777777777778,\"#fb9f3a\"],[0.8888888888888888,\"#fdca26\"],[1.0,\"#f0f921\"]]}],\"contourcarpet\":[{\"type\":\"contourcarpet\",\"colorbar\":{\"outlinewidth\":0,\"ticks\":\"\"}}],\"contour\":[{\"type\":\"contour\",\"colorbar\":{\"outlinewidth\":0,\"ticks\":\"\"},\"colorscale\":[[0.0,\"#0d0887\"],[0.1111111111111111,\"#46039f\"],[0.2222222222222222,\"#7201a8\"],[0.3333333333333333,\"#9c179e\"],[0.4444444444444444,\"#bd3786\"],[0.5555555555555556,\"#d8576b\"],[0.6666666666666666,\"#ed7953\"],[0.7777777777777778,\"#fb9f3a\"],[0.8888888888888888,\"#fdca26\"],[1.0,\"#f0f921\"]]}],\"surface\":[{\"type\":\"surface\",\"colorbar\":{\"outlinewidth\":0,\"ticks\":\"\"},\"colorscale\":[[0.0,\"#0d0887\"],[0.1111111111111111,\"#46039f\"],[0.2222222222222222,\"#7201a8\"],[0.3333333333333333,\"#9c179e\"],[0.4444444444444444,\"#bd3786\"],[0.5555555555555556,\"#d8576b\"],[0.6666666666666666,\"#ed7953\"],[0.7777777777777778,\"#fb9f3a\"],[0.8888888888888888,\"#fdca26\"],[1.0,\"#f0f921\"]]}],\"mesh3d\":[{\"type\":\"mesh3d\",\"colorbar\":{\"outlinewidth\":0,\"ticks\":\"\"}}],\"scatter\":[{\"fillpattern\":{\"fillmode\":\"overlay\",\"size\":10,\"solidity\":0.2},\"type\":\"scatter\"}],\"parcoords\":[{\"type\":\"parcoords\",\"line\":{\"colorbar\":{\"outlinewidth\":0,\"ticks\":\"\"}}}],\"scatterpolargl\":[{\"type\":\"scatterpolargl\",\"marker\":{\"colorbar\":{\"outlinewidth\":0,\"ticks\":\"\"}}}],\"bar\":[{\"error_x\":{\"color\":\"#2a3f5f\"},\"error_y\":{\"color\":\"#2a3f5f\"},\"marker\":{\"line\":{\"color\":\"#E5ECF6\",\"width\":0.5},\"pattern\":{\"fillmode\":\"overlay\",\"size\":10,\"solidity\":0.2}},\"type\":\"bar\"}],\"scattergeo\":[{\"type\":\"scattergeo\",\"marker\":{\"colorbar\":{\"outlinewidth\":0,\"ticks\":\"\"}}}],\"scatterpolar\":[{\"type\":\"scatterpolar\",\"marker\":{\"colorbar\":{\"outlinewidth\":0,\"ticks\":\"\"}}}],\"histogram\":[{\"marker\":{\"pattern\":{\"fillmode\":\"overlay\",\"size\":10,\"solidity\":0.2}},\"type\":\"histogram\"}],\"scattergl\":[{\"type\":\"scattergl\",\"marker\":{\"colorbar\":{\"outlinewidth\":0,\"ticks\":\"\"}}}],\"scatter3d\":[{\"type\":\"scatter3d\",\"line\":{\"colorbar\":{\"outlinewidth\":0,\"ticks\":\"\"}},\"marker\":{\"colorbar\":{\"outlinewidth\":0,\"ticks\":\"\"}}}],\"scattermapbox\":[{\"type\":\"scattermapbox\",\"marker\":{\"colorbar\":{\"outlinewidth\":0,\"ticks\":\"\"}}}],\"scatterternary\":[{\"type\":\"scatterternary\",\"marker\":{\"colorbar\":{\"outlinewidth\":0,\"ticks\":\"\"}}}],\"scattercarpet\":[{\"type\":\"scattercarpet\",\"marker\":{\"colorbar\":{\"outlinewidth\":0,\"ticks\":\"\"}}}],\"carpet\":[{\"aaxis\":{\"endlinecolor\":\"#2a3f5f\",\"gridcolor\":\"white\",\"linecolor\":\"white\",\"minorgridcolor\":\"white\",\"startlinecolor\":\"#2a3f5f\"},\"baxis\":{\"endlinecolor\":\"#2a3f5f\",\"gridcolor\":\"white\",\"linecolor\":\"white\",\"minorgridcolor\":\"white\",\"startlinecolor\":\"#2a3f5f\"},\"type\":\"carpet\"}],\"table\":[{\"cells\":{\"fill\":{\"color\":\"#EBF0F8\"},\"line\":{\"color\":\"white\"}},\"header\":{\"fill\":{\"color\":\"#C8D4E3\"},\"line\":{\"color\":\"white\"}},\"type\":\"table\"}],\"barpolar\":[{\"marker\":{\"line\":{\"color\":\"#E5ECF6\",\"width\":0.5},\"pattern\":{\"fillmode\":\"overlay\",\"size\":10,\"solidity\":0.2}},\"type\":\"barpolar\"}],\"pie\":[{\"automargin\":true,\"type\":\"pie\"}]},\"layout\":{\"autotypenumbers\":\"strict\",\"colorway\":[\"#636efa\",\"#EF553B\",\"#00cc96\",\"#ab63fa\",\"#FFA15A\",\"#19d3f3\",\"#FF6692\",\"#B6E880\",\"#FF97FF\",\"#FECB52\"],\"font\":{\"color\":\"#2a3f5f\"},\"hovermode\":\"closest\",\"hoverlabel\":{\"align\":\"left\"},\"paper_bgcolor\":\"white\",\"plot_bgcolor\":\"#E5ECF6\",\"polar\":{\"bgcolor\":\"#E5ECF6\",\"angularaxis\":{\"gridcolor\":\"white\",\"linecolor\":\"white\",\"ticks\":\"\"},\"radialaxis\":{\"gridcolor\":\"white\",\"linecolor\":\"white\",\"ticks\":\"\"}},\"ternary\":{\"bgcolor\":\"#E5ECF6\",\"aaxis\":{\"gridcolor\":\"white\",\"linecolor\":\"white\",\"ticks\":\"\"},\"baxis\":{\"gridcolor\":\"white\",\"linecolor\":\"white\",\"ticks\":\"\"},\"caxis\":{\"gridcolor\":\"white\",\"linecolor\":\"white\",\"ticks\":\"\"}},\"coloraxis\":{\"colorbar\":{\"outlinewidth\":0,\"ticks\":\"\"}},\"colorscale\":{\"sequential\":[[0.0,\"#0d0887\"],[0.1111111111111111,\"#46039f\"],[0.2222222222222222,\"#7201a8\"],[0.3333333333333333,\"#9c179e\"],[0.4444444444444444,\"#bd3786\"],[0.5555555555555556,\"#d8576b\"],[0.6666666666666666,\"#ed7953\"],[0.7777777777777778,\"#fb9f3a\"],[0.8888888888888888,\"#fdca26\"],[1.0,\"#f0f921\"]],\"sequentialminus\":[[0.0,\"#0d0887\"],[0.1111111111111111,\"#46039f\"],[0.2222222222222222,\"#7201a8\"],[0.3333333333333333,\"#9c179e\"],[0.4444444444444444,\"#bd3786\"],[0.5555555555555556,\"#d8576b\"],[0.6666666666666666,\"#ed7953\"],[0.7777777777777778,\"#fb9f3a\"],[0.8888888888888888,\"#fdca26\"],[1.0,\"#f0f921\"]],\"diverging\":[[0,\"#8e0152\"],[0.1,\"#c51b7d\"],[0.2,\"#de77ae\"],[0.3,\"#f1b6da\"],[0.4,\"#fde0ef\"],[0.5,\"#f7f7f7\"],[0.6,\"#e6f5d0\"],[0.7,\"#b8e186\"],[0.8,\"#7fbc41\"],[0.9,\"#4d9221\"],[1,\"#276419\"]]},\"xaxis\":{\"gridcolor\":\"white\",\"linecolor\":\"white\",\"ticks\":\"\",\"title\":{\"standoff\":15},\"zerolinecolor\":\"white\",\"automargin\":true,\"zerolinewidth\":2},\"yaxis\":{\"gridcolor\":\"white\",\"linecolor\":\"white\",\"ticks\":\"\",\"title\":{\"standoff\":15},\"zerolinecolor\":\"white\",\"automargin\":true,\"zerolinewidth\":2},\"scene\":{\"xaxis\":{\"backgroundcolor\":\"#E5ECF6\",\"gridcolor\":\"white\",\"linecolor\":\"white\",\"showbackground\":true,\"ticks\":\"\",\"zerolinecolor\":\"white\",\"gridwidth\":2},\"yaxis\":{\"backgroundcolor\":\"#E5ECF6\",\"gridcolor\":\"white\",\"linecolor\":\"white\",\"showbackground\":true,\"ticks\":\"\",\"zerolinecolor\":\"white\",\"gridwidth\":2},\"zaxis\":{\"backgroundcolor\":\"#E5ECF6\",\"gridcolor\":\"white\",\"linecolor\":\"white\",\"showbackground\":true,\"ticks\":\"\",\"zerolinecolor\":\"white\",\"gridwidth\":2}},\"shapedefaults\":{\"line\":{\"color\":\"#2a3f5f\"}},\"annotationdefaults\":{\"arrowcolor\":\"#2a3f5f\",\"arrowhead\":0,\"arrowwidth\":1},\"geo\":{\"bgcolor\":\"white\",\"landcolor\":\"#E5ECF6\",\"subunitcolor\":\"white\",\"showland\":true,\"showlakes\":true,\"lakecolor\":\"white\"},\"title\":{\"x\":0.05},\"mapbox\":{\"style\":\"light\"}}},\"legend\":{\"tracegroupgap\":0},\"title\":{\"text\":\"Anteil von True-Werten in \\\"player_id_won\\\" nach \\\"previous_match_was_long\\\"\"},\"sunburstcolorway\":[\"green\",\"blue\"]},                        {\"responsive\": true}                    ).then(function(){\n",
       "                            \n",
       "var gd = document.getElementById('6fa0fdd6-c7b2-4a1a-bd29-05b68d2a630e');\n",
       "var x = new MutationObserver(function (mutations, observer) {{\n",
       "        var display = window.getComputedStyle(gd).display;\n",
       "        if (!display || display === 'none') {{\n",
       "            console.log([gd, 'removed!']);\n",
       "            Plotly.purge(gd);\n",
       "            observer.disconnect();\n",
       "        }}\n",
       "}});\n",
       "\n",
       "// Listen for the removal of the full notebook cells\n",
       "var notebookContainer = gd.closest('#notebook-container');\n",
       "if (notebookContainer) {{\n",
       "    x.observe(notebookContainer, {childList: true});\n",
       "}}\n",
       "\n",
       "// Listen for the clearing of the current output cell\n",
       "var outputEl = gd.closest('.output');\n",
       "if (outputEl) {{\n",
       "    x.observe(outputEl, {childList: true});\n",
       "}}\n",
       "\n",
       "                        })                };                });            </script>        </div>"
      ]
     },
     "metadata": {},
     "output_type": "display_data"
    }
   ],
   "source": [
    "result_df = result.reset_index()\n",
    "# Sunburst-Diagramm mit Plotly Express erstellen\n",
    "fig = px.sunburst(result_df, path=['previous_match_was_long','player_id_won'], values='player_id_won', \n",
    "                  title= 'Anteil von True-Werten in \"player_id_won\" nach \"previous_match_was_long\"',\n",
    "                  color_discrete_sequence=['green', 'blue'])\n",
    "\n",
    "# Zeige das Diagramm an\n",
    "fig.show()"
   ]
  }
 ],
 "metadata": {
  "kernelspec": {
   "display_name": "Python 3 (ipykernel)",
   "language": "python",
   "name": "python3"
  },
  "language_info": {
   "codemirror_mode": {
    "name": "ipython",
    "version": 3
   },
   "file_extension": ".py",
   "mimetype": "text/x-python",
   "name": "python",
   "nbconvert_exporter": "python",
   "pygments_lexer": "ipython3",
   "version": "3.11.5"
  }
 },
 "nbformat": 4,
 "nbformat_minor": 5
}
